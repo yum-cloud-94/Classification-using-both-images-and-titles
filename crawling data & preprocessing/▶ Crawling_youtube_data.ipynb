{
 "cells": [
  {
   "cell_type": "markdown",
   "metadata": {},
   "source": [
    "# 기본옵션"
   ]
  },
  {
   "cell_type": "code",
   "execution_count": 2,
   "metadata": {},
   "outputs": [
    {
     "data": {
      "text/html": [
       "<style>.container { width:100% !important; }</style>"
      ],
      "text/plain": [
       "<IPython.core.display.HTML object>"
      ]
     },
     "metadata": {},
     "output_type": "display_data"
    }
   ],
   "source": [
    "import pandas as pd\n",
    "from IPython.core.display import display, HTML\n",
    "display(HTML(\"<style>.container { width:100% !important; }</style>\"))\n",
    "\n",
    "pd.set_option('display.max.colwidth',60)\n",
    "pd.options.display.max_columns = 100\n",
    "\n",
    "from IPython.core.interactiveshell import InteractiveShell\n",
    "InteractiveShell.ast_node_interactivity = \"all\""
   ]
  },
  {
   "cell_type": "code",
   "execution_count": 3,
   "metadata": {},
   "outputs": [],
   "source": [
    "from selenium import webdriver\n",
    "from selenium.webdriver.common.keys import Keys\n",
    "import pandas as pd\n",
    "import time\n",
    "from bs4 import BeautifulSoup\n",
    "import re"
   ]
  },
  {
   "cell_type": "markdown",
   "metadata": {},
   "source": [
    "# 경제"
   ]
  },
  {
   "cell_type": "markdown",
   "metadata": {},
   "source": [
    "## 슈카월드 -465개"
   ]
  },
  {
   "cell_type": "markdown",
   "metadata": {},
   "source": [
    "- 영상  정보 수집 ( 채널명/ 썸네일/ 구독자 수/ 제목 / 업로드 날짜 / 조회수 / 좋아요 / 싫어요 / 영상길이 / 카테고리)\n",
    "- 전체 영상 목록이 보이는 페이지에서 각 동영상의 url 추출하는 과정"
   ]
  },
  {
   "cell_type": "code",
   "execution_count": null,
   "metadata": {},
   "outputs": [],
   "source": [
    "# 원하는 유튜버 '동영상'에 들어가기 \n",
    "driver = webdriver.Chrome('@needs_for_you/chromedriver.exe')\n",
    "driver.maximize_window()\n",
    "driver.get('https://www.youtube.com/channel/UCsJ6RuBiTVWRX156FVbeaGg/videos') # ★★★ 변경 # 유뷰터 '동영상' 들어가서 전체 영상 목록 나오는 페이지 url\n",
    "body = driver.find_element_by_tag_name('body')\n",
    "time.sleep(1.5)#브라우저 로딩시간기다려야함\n",
    "\n",
    "# 유튜브는 스크롤해야 전체를 볼 수 있음 # 전체 영상 개수에 따라 조절해야함\n",
    "endk = 110 # 5번 내림 # 500개면 한 100번정도 넉넉히 내리기 # 시험해보려고 1번만 내림 # ★★★ 변경\n",
    "while endk:\n",
    "    driver.find_element_by_tag_name('body').send_keys(Keys.END)\n",
    "    time.sleep(0.3)\n",
    "    endk -= 1    \n",
    "start_page = driver.page_source \n",
    "soup = BeautifulSoup(start_page,'lxml') # 전체 영상 목록의 page-source 이니 soup으로\n",
    "\n",
    "# 각 영상 페이지의 url 모음\n",
    "video_list = soup.find_all('ytd-grid-video-renderer',{'class':'style-scope ytd-grid-renderer'})\n",
    "\n",
    "sukaworld_url = [] # ★★★ 이름 변경\n",
    "base_url = 'http://www.youtube.com'\n",
    "for i in range(len(video_list)):\n",
    "    url = base_url+video_list[i].find('a',{'id':'thumbnail'})['href']\n",
    "    sukaworld_url.append(url) # ★★★ 이름 변경\n",
    "    "
   ]
  },
  {
   "cell_type": "code",
   "execution_count": null,
   "metadata": {},
   "outputs": [],
   "source": [
    "len(sukaworld_url)"
   ]
  },
  {
   "cell_type": "markdown",
   "metadata": {},
   "source": [
    "- 추출한 모든 영상의 url을 입력하여, 각 페이지 안으로 들어가 정보를 수집\n",
    "- 채널명/ 구독자 수 / 썸네일 / 제목 / 업로드 날짜 / 조회수 / 좋아요 / 싫어요 / 영상길이 / 카테고리"
   ]
  },
  {
   "cell_type": "code",
   "execution_count": null,
   "metadata": {},
   "outputs": [],
   "source": [
    "# ★★★ 이름 변경\n",
    "sukaworld = pd.DataFrame({'channel_name' :[],\n",
    "                           'subscribers' : [],\n",
    "                           'thumbnail' :[],\n",
    "                           'video_name':[],\n",
    "                           'video_length':[],\n",
    "                           'upload_date':[],\n",
    "                           'hits':[],\n",
    "                           'likes_num':[],\n",
    "                           'dislikes_num':[],\n",
    "                           'category':[] })\n",
    "\n",
    "for i in range(0,len(sukaworld_url)):# ★★★ 이름 변경\n",
    "    \n",
    "    try :# 오휴생겨서 try-except 추가        \n",
    "        channel_name = soup.find('title').text\n",
    "        subscribers = soup.find('yt-formatted-string',{'id':'subscriber-count'}).text\n",
    "        thumbnail = video_list[i].find('img', {'src' : True})['src'] \n",
    "        video_name = video_list[i].find('a',{'id':'video-title'}).text\n",
    "        video_length = video_list[i].find('span', {'class':'style-scope ytd-thumbnail-overlay-time-status-renderer'}).text.split('\\n')[1]\n",
    "\n",
    "        # 각 동영상 페이지 들어가기 시작 \n",
    "        start_url = sukaworld_url[i] # ★★★ 이름 변경\n",
    "        driver.get(start_url) \n",
    "        body = driver.find_element_by_tag_name('body')\n",
    "\n",
    "        time.sleep(1.5)\n",
    "\n",
    "        # 댓글까지 쭉 보려면 스크롤 # 사실상 지금 댓글은 안보니 1번만 내리기\n",
    "        endk = 1 # 5번 내림\n",
    "        while endk:\n",
    "            driver.find_element_by_tag_name('body').send_keys(Keys.END)\n",
    "            time.sleep(0.3) # 내리는 시간 간격 \n",
    "            endk -= 1    \n",
    "        page = driver.page_source \n",
    "        html = BeautifulSoup(page,'lxml') # 각 페이지의 page_source 이니 html로\n",
    "\n",
    "\n",
    "        # 각 동영상 페이지 들어가서 얻을 수 있는 정보\n",
    "        pre_upload_date = html.find('div',{'id':'date'})\n",
    "        upload_date = pre_upload_date.find('yt-formatted-string', {'class':'style-scope ytd-video-primary-info-renderer'}).text  \n",
    "        pre_hits = html.find('yt-view-count-renderer', {'class':'style-scope ytd-video-primary-info-renderer'})\n",
    "        hits = pre_hits.find('span',{'class':'view-count style-scope yt-view-count-renderer'}).text.split()[1]\n",
    "        likes_num = html.find('yt-formatted-string',{'id':'text','class':'style-scope ytd-toggle-button-renderer style-text','aria-label':re.compile('좋아요')}).text+'개'\n",
    "        dislikes_num = html.find('yt-formatted-string',{'id':'text','class':'style-scope ytd-toggle-button-renderer style-text','aria-label':re.compile('싫어요')}).text+'개'\n",
    "        category = 'economy' # 바꾸면됨\n",
    "\n",
    "\n",
    "        # 마지막에 모은 정보 합치기\n",
    "        insert_data = pd.DataFrame({'channel_name' :[channel_name],\n",
    "                                   'subscribers' : [subscribers],\n",
    "                                   'thumbnail' :[thumbnail],\n",
    "                                   'video_name':[video_name],\n",
    "                                   'video_length':[video_length],\n",
    "                                   'upload_date':[upload_date],\n",
    "                                   'hits' :[hits],\n",
    "                                   'likes_num':[likes_num],\n",
    "                                   'dislikes_num':[dislikes_num],\n",
    "                                   'category':[category]})\n",
    "    \n",
    "        sukaworld = sukaworld.append(insert_data) # ★★★ 이름 변경\n",
    "    \n",
    "    except KeyError as e: # error뜬거는 포함 안하고 저장됨 (error 뜨는거 찾을 때 마다 그냥 넣어버리기)\n",
    "        print(k, i)\n",
    "    except AttributeError as a: \n",
    "        print(a ,i)\n",
    "    except IndexError as e:\n",
    "        print(e,i)\n",
    "    except TypeError as t:\n",
    "        print(t, i)"
   ]
  },
  {
   "cell_type": "code",
   "execution_count": null,
   "metadata": {},
   "outputs": [],
   "source": [
    "len(sukaworld)\n",
    "sukaworld.head() # 이건 걍 무시해두됨 이미 저장하고 한번 더 돌리고 그냥 꺼버려서 그럼"
   ]
  },
  {
   "cell_type": "code",
   "execution_count": null,
   "metadata": {},
   "outputs": [],
   "source": [
    "sukaworld.to_csv('sukaworld.csv',encoding='utf-8-sig')"
   ]
  },
  {
   "cell_type": "markdown",
   "metadata": {
    "heading_collapsed": true
   },
   "source": [
    "## 신사임당 -334개"
   ]
  },
  {
   "cell_type": "code",
   "execution_count": null,
   "metadata": {
    "hidden": true
   },
   "outputs": [],
   "source": [
    "# 원하는 유튜버 '동영상'에 들어가기 \n",
    "driver = webdriver.Chrome('@needs_for_you/chromedriver.exe')\n",
    "driver.maximize_window()\n",
    "driver.get('https://www.youtube.com/channel/UCaJdckl6MBdDPDf75Ec_bJA/videos')\n",
    "body = driver.find_element_by_tag_name('body')\n",
    "time.sleep(1.5)#브라우저 로딩시간기다려야함\n",
    "\n",
    "# 유튜브는 스크롤해야 전체를 볼 수 있음 # 전체 영상 개수에 따라 조절해야함\n",
    "endk = 90 # 5번 내림 # 500개면 한 100번정도 넉넉히 내리기 # 시험해보려고 1번만 내림\n",
    "while endk:\n",
    "    driver.find_element_by_tag_name('body').send_keys(Keys.END)\n",
    "    time.sleep(0.3)\n",
    "    endk -= 1    \n",
    "start_page = driver.page_source \n",
    "soup = BeautifulSoup(start_page,'lxml') # 전체 영상 목록의 page-source 이니 soup으로\n",
    "\n",
    "# 각 영상 페이지의 url 모음\n",
    "video_list = soup.find_all('ytd-grid-video-renderer',{'class':'style-scope ytd-grid-renderer'})\n",
    "\n",
    "sinsaimdang_url = []\n",
    "base_url = 'http://www.youtube.com'\n",
    "for i in range(len(video_list)):\n",
    "    url = base_url+video_list[i].find('a',{'id':'thumbnail'})['href']\n",
    "    sinsaimdang_url.append(url)\n",
    "    "
   ]
  },
  {
   "cell_type": "code",
   "execution_count": null,
   "metadata": {
    "hidden": true
   },
   "outputs": [],
   "source": [
    "len(sinsaimdang_url)"
   ]
  },
  {
   "cell_type": "code",
   "execution_count": null,
   "metadata": {
    "hidden": true
   },
   "outputs": [],
   "source": [
    "sinsaimdang = pd.DataFrame({'channel_name' :[],\n",
    "                           'subscribers' : [],\n",
    "                           'thumbnail' :[],\n",
    "                           'video_name':[],\n",
    "                           'video_length':[],\n",
    "                           'upload_date':[],\n",
    "                           'hits' :[],\n",
    "                           'likes_num':[],\n",
    "                           'dislikes_num':[],\n",
    "                           'category':[] })\n",
    "\n",
    "for i in range(0,len(sinsaimdang_url)):\n",
    "    \n",
    "    try : \n",
    "        channel_name = soup.find('title').text\n",
    "        subscribers = soup.find('yt-formatted-string',{'id':'subscriber-count'}).text\n",
    "        thumbnail = video_list[i].find('img', {'src' : True})['src']        \n",
    "        video_name = video_list[i].find('a',{'id':'video-title'}).text\n",
    "        video_length = video_list[i].find('span', {'class':'style-scope ytd-thumbnail-overlay-time-status-renderer'}).text.split('\\n')[1]\n",
    "\n",
    "        # 각 동영상 페이지 들어가기 시작 \n",
    "        start_url = sinsaimdang_url[i]\n",
    "        driver.get(start_url) \n",
    "        body = driver.find_element_by_tag_name('body')\n",
    "\n",
    "        time.sleep(1.5)\n",
    "\n",
    "        # 댓글까지 쭉 보려면 스크롤\n",
    "        endk = 1 # 5번 내림\n",
    "        while endk:\n",
    "            driver.find_element_by_tag_name('body').send_keys(Keys.END)\n",
    "            time.sleep(0.3) # 내리는 시간 간격 \n",
    "            endk -= 1    \n",
    "        page = driver.page_source \n",
    "        html = BeautifulSoup(page,'lxml') # 각 페이지의 page_source 이니 html로\n",
    "\n",
    "\n",
    "        # 각 동영상 페이지 들어가서 얻을 수 있는 정보\n",
    "        pre_upload_date = html.find('div',{'id':'date'})\n",
    "        upload_date = pre_upload_date.find('yt-formatted-string', {'class':'style-scope ytd-video-primary-info-renderer'}).text\n",
    "        pre_hits = html.find('yt-view-count-renderer', {'class':'style-scope ytd-video-primary-info-renderer'})\n",
    "        hits = pre_hits.find('span',{'class':'view-count style-scope yt-view-count-renderer'}).text.split()[1]\n",
    "        likes_num = html.find('yt-formatted-string',{'id':'text','class':'style-scope ytd-toggle-button-renderer style-text','aria-label':re.compile('좋아요')}).text+'개'\n",
    "        dislikes_num = html.find('yt-formatted-string',{'id':'text','class':'style-scope ytd-toggle-button-renderer style-text','aria-label':re.compile('싫어요')}).text+'개'\n",
    "        category = 'economy' # 바꾸면됨\n",
    "\n",
    "\n",
    "        # 마지막에 모은 정보 합치기\n",
    "        insert_data = pd.DataFrame({'channel_name' :[channel_name],\n",
    "                                   'subscribers' : [subscribers],\n",
    "                                   'thumbnail' :[thumbnail],\n",
    "                                   'video_name':[video_name],\n",
    "                                   'video_length':[video_length],\n",
    "                                   'upload_date':[upload_date],\n",
    "                                   'hits' :[hits],\n",
    "                                   'likes_num':[likes_num],\n",
    "                                   'dislikes_num':[dislikes_num],\n",
    "                                   'category':[category]})\n",
    "\n",
    "        sinsaimdang = sinsaimdang.append(insert_data)\n",
    "\n",
    "    except KeyError as e: # error뜬거는 포함 안하고 저장됨 (error 뜨는거 찾을 때 마다 그냥 넣어버리기)\n",
    "        print(k, i)\n",
    "    except AttributeError as a: \n",
    "        print(a ,i)\n",
    "    except IndexError as e:\n",
    "        print(e,i)\n",
    "    except TypeError as t:\n",
    "        print(t, i)"
   ]
  },
  {
   "cell_type": "code",
   "execution_count": null,
   "metadata": {
    "hidden": true
   },
   "outputs": [],
   "source": [
    "sinsaimdang.shape\n",
    "sinsaimdang.head()"
   ]
  },
  {
   "cell_type": "code",
   "execution_count": null,
   "metadata": {
    "hidden": true
   },
   "outputs": [],
   "source": [
    "sinsaimdang.to_csv('sinsaimdang.csv', encoding='utf-8-sig')"
   ]
  },
  {
   "cell_type": "markdown",
   "metadata": {
    "heading_collapsed": true
   },
   "source": [
    "## 돌디 -34개"
   ]
  },
  {
   "cell_type": "code",
   "execution_count": null,
   "metadata": {
    "hidden": true
   },
   "outputs": [],
   "source": [
    "# 원하는 유튜버 '동영상'에 들어가기 \n",
    "driver = webdriver.Chrome('@needs_for_you/chromedriver.exe')\n",
    "driver.maximize_window()\n",
    "driver.get('https://www.youtube.com/channel/UClmxSq4_kJfLtyIY7TycFfw/videos') \n",
    "body = driver.find_element_by_tag_name('body')\n",
    "time.sleep(1.5)#브라우저 로딩시간기다려야함\n",
    "\n",
    "# 유튜브는 스크롤해야 전체를 볼 수 있음 # 전체 영상 개수에 따라 조절해야함\n",
    "endk = 10 # 5번 내림 # 500개면 한 100번정도 넉넉히 내리기 # 시험해보려고 1번만 내림\n",
    "while endk:\n",
    "    driver.find_element_by_tag_name('body').send_keys(Keys.END)\n",
    "    time.sleep(0.3)\n",
    "    endk -= 1    \n",
    "start_page = driver.page_source \n",
    "soup = BeautifulSoup(start_page,'lxml') # 전체 영상 목록의 page-source 이니 soup으로\n",
    "\n",
    "# 각 영상 페이지의 url 모음\n",
    "video_list = soup.find_all('ytd-grid-video-renderer',{'class':'style-scope ytd-grid-renderer'})\n",
    "\n",
    "doldi_url = []\n",
    "base_url = 'http://www.youtube.com'\n",
    "for i in range(len(video_list)):\n",
    "    url = base_url+video_list[i].find('a',{'id':'thumbnail'})['href']\n",
    "    doldi_url.append(url)\n",
    "    "
   ]
  },
  {
   "cell_type": "code",
   "execution_count": null,
   "metadata": {
    "hidden": true
   },
   "outputs": [],
   "source": [
    "len(doldi_url)"
   ]
  },
  {
   "cell_type": "code",
   "execution_count": null,
   "metadata": {
    "hidden": true
   },
   "outputs": [],
   "source": [
    "doldi = pd.DataFrame({'channel_name' :[],\n",
    "                       'subscribers' : [],\n",
    "                       'thumbnail' : [],\n",
    "                       'video_name':[],\n",
    "                       'video_length':[],\n",
    "                       'upload_date':[],\n",
    "                       'hits' :[],\n",
    "                       'likes_num':[],\n",
    "                       'dislikes_num':[],\n",
    "                       'category':[] })\n",
    "\n",
    "for i in range(0,len(doldi_url)):\n",
    "    \n",
    "    try : \n",
    "        channel_name = soup.find('title').text\n",
    "        subscribers = soup.find('yt-formatted-string',{'id':'subscriber-count'}).text\n",
    "    \n",
    "        thumbnail_info = video_list[i].find('img', {'data-thumb' : True}) # src 없는 것들이 있어서 keyerror 'src' 피하려면, 있는 것들만\n",
    "        if thumbnail_info != None :\n",
    "            thumbnail = thumbnail_info['data-thumb'] \n",
    "        else : \n",
    "            thumbnail = video_list[i].find('img', {'src' : True})['src'] \n",
    "        \n",
    "        video_name = video_list[i].find('a',{'id':'video-title'}).text\n",
    "        video_length = video_list[i].find('span', {'class':'style-scope ytd-thumbnail-overlay-time-status-renderer'}).text.split('\\n')[1]\n",
    "\n",
    "        # 각 동영상 페이지 들어가기 시작 \n",
    "        start_url = doldi_url[i]\n",
    "        driver.get(start_url) \n",
    "        body = driver.find_element_by_tag_name('body')\n",
    "\n",
    "        time.sleep(1.5)\n",
    "\n",
    "        # 댓글까지 쭉 보려면 스크롤\n",
    "        endk = 1 # 5번 내림\n",
    "        while endk:\n",
    "            driver.find_element_by_tag_name('body').send_keys(Keys.END)\n",
    "            time.sleep(0.3) # 내리는 시간 간격 \n",
    "            endk -= 1    \n",
    "        page = driver.page_source \n",
    "        html = BeautifulSoup(page,'lxml') # 각 페이지의 page_source 이니 html로\n",
    "\n",
    "\n",
    "        # 각 동영상 페이지 들어가서 얻을 수 있는 정보\n",
    "        pre_upload_date = html.find('div',{'id':'date'})\n",
    "        upload_date = pre_upload_date.find('yt-formatted-string', {'class':'style-scope ytd-video-primary-info-renderer'}).text \n",
    "        pre_hits = html.find('yt-view-count-renderer', {'class':'style-scope ytd-video-primary-info-renderer'})\n",
    "        hits = pre_hits.find('span',{'class':'view-count style-scope yt-view-count-renderer'}).text.split()[1]\n",
    "        likes_num = html.find('yt-formatted-string',{'id':'text','class':'style-scope ytd-toggle-button-renderer style-text','aria-label':re.compile('좋아요')}).text+'개'\n",
    "        dislikes_num = html.find('yt-formatted-string',{'id':'text','class':'style-scope ytd-toggle-button-renderer style-text','aria-label':re.compile('싫어요')}).text+'개'\n",
    "        category = 'economy' # 바꾸면됨\n",
    "\n",
    "\n",
    "        # 마지막에 모은 정보 합치기\n",
    "        insert_data = pd.DataFrame({'channel_name' :[channel_name],\n",
    "                                   'subscribers' : [subscribers],\n",
    "                                    'thumbnail' : [thumbnail],\n",
    "                                   'video_name':[video_name],\n",
    "                                   'video_length':[video_length],\n",
    "                                   'upload_date':[upload_date],\n",
    "                                   'hits' :[hits],\n",
    "                                   'likes_num':[likes_num],\n",
    "                                   'dislikes_num':[dislikes_num],\n",
    "                                   'category':[category]})\n",
    "\n",
    "        doldi = doldi.append(insert_data)\n",
    "    \n",
    "    except AttributeError as d: \n",
    "        print(d)\n",
    "    except IndexError as f:\n",
    "        print(f)\n",
    "    except IndexError as e:\n",
    "        print(e,i)\n",
    "    except TypeError as t:\n",
    "        print(t, i)"
   ]
  },
  {
   "cell_type": "code",
   "execution_count": null,
   "metadata": {
    "hidden": true
   },
   "outputs": [],
   "source": [
    "doldi.shape\n",
    "doldi.head()"
   ]
  },
  {
   "cell_type": "code",
   "execution_count": null,
   "metadata": {
    "hidden": true
   },
   "outputs": [],
   "source": [
    "doldi.to_csv('doldi.csv', encoding='utf-8-sig')"
   ]
  },
  {
   "cell_type": "markdown",
   "metadata": {
    "heading_collapsed": true
   },
   "source": [
    "## 부동산 읽어주는 남자 -261개"
   ]
  },
  {
   "cell_type": "code",
   "execution_count": null,
   "metadata": {
    "hidden": true
   },
   "outputs": [],
   "source": [
    "# 원하는 유튜버 '동영상'에 들어가기 \n",
    "driver = webdriver.Chrome('@needs_for_you/chromedriver.exe')\n",
    "driver.maximize_window()\n",
    "driver.get('https://www.youtube.com/channel/UC2QeHNJFfuQWB4cy3M-745g/videos') \n",
    "body = driver.find_element_by_tag_name('body')\n",
    "time.sleep(1.5)#브라우저 로딩시간기다려야함\n",
    "\n",
    "# 유튜브는 스크롤해야 전체를 볼 수 있음 # 전체 영상 개수에 따라 조절해야함\n",
    "endk = 50 # 5번 내림 # 500개면 한 100번정도 넉넉히 내리기 # 시험해보려고 1번만 내림\n",
    "while endk:\n",
    "    driver.find_element_by_tag_name('body').send_keys(Keys.END)\n",
    "    time.sleep(0.3)\n",
    "    endk -= 1    \n",
    "start_page = driver.page_source \n",
    "soup = BeautifulSoup(start_page,'lxml') # 전체 영상 목록의 page-source 이니 soup으로\n",
    "\n",
    "# 각 영상 페이지의 url 모음\n",
    "video_list = soup.find_all('ytd-grid-video-renderer',{'class':'style-scope ytd-grid-renderer'})\n",
    "\n",
    "budongsan_url = []\n",
    "base_url = 'http://www.youtube.com'\n",
    "for i in range(len(video_list)):\n",
    "    url = base_url+video_list[i].find('a',{'id':'thumbnail'})['href']\n",
    "    budongsan_url.append(url)\n",
    "    "
   ]
  },
  {
   "cell_type": "code",
   "execution_count": null,
   "metadata": {
    "hidden": true,
    "scrolled": true
   },
   "outputs": [],
   "source": [
    "len(budongsan_url)"
   ]
  },
  {
   "cell_type": "code",
   "execution_count": null,
   "metadata": {
    "hidden": true
   },
   "outputs": [],
   "source": [
    "budongsan = pd.DataFrame({'channel_name' :[],\n",
    "                       'subscribers' : [],\n",
    "                       'thumbnail' : [],\n",
    "                       'video_name':[],\n",
    "                       'video_length':[],\n",
    "                       'upload_date':[],\n",
    "                       'hits' :[],\n",
    "                       'likes_num':[],\n",
    "                       'dislikes_num':[],\n",
    "                       'category':[] })\n",
    "\n",
    "for i in range(0,len(budongsan_url)):\n",
    "    \n",
    "    try : \n",
    "        channel_name = soup.find('title').text\n",
    "        subscribers = soup.find('yt-formatted-string',{'id':'subscriber-count'}).text\n",
    "    \n",
    "        thumbnail_info = video_list[i].find('img', {'data-thumb' : True}) # src 없는 것들이 있어서 keyerror 'src' 피하려면, 있는 것들만\n",
    "        if thumbnail_info != None :\n",
    "            thumbnail = thumbnail_info['data-thumb'] \n",
    "        else : \n",
    "            thumbnail = video_list[i].find('img', {'src' : True})['src'] \n",
    "        \n",
    "        video_name = video_list[i].find('a',{'id':'video-title'}).text\n",
    "        video_length = video_list[i].find('span', {'class':'style-scope ytd-thumbnail-overlay-time-status-renderer'}).text.split('\\n')[1]\n",
    "\n",
    "        # 각 동영상 페이지 들어가기 시작 \n",
    "        start_url = budongsan_url[i]\n",
    "        driver.get(start_url) \n",
    "        body = driver.find_element_by_tag_name('body')\n",
    "\n",
    "        time.sleep(1.5)\n",
    "\n",
    "        # 댓글까지 쭉 보려면 스크롤\n",
    "        endk = 1 # 5번 내림\n",
    "        while endk:\n",
    "            driver.find_element_by_tag_name('body').send_keys(Keys.END)\n",
    "            time.sleep(0.3) # 내리는 시간 간격 \n",
    "            endk -= 1    \n",
    "        page = driver.page_source \n",
    "        html = BeautifulSoup(page,'lxml') # 각 페이지의 page_source 이니 html로\n",
    "\n",
    "\n",
    "        # 각 동영상 페이지 들어가서 얻을 수 있는 정보\n",
    "        pre_upload_date = html.find('div',{'id':'date'})\n",
    "        upload_date = pre_upload_date.find('yt-formatted-string', {'class':'style-scope ytd-video-primary-info-renderer'}).text \n",
    "        pre_hits = html.find('yt-view-count-renderer', {'class':'style-scope ytd-video-primary-info-renderer'})\n",
    "        hits = pre_hits.find('span',{'class':'view-count style-scope yt-view-count-renderer'}).text.split()[1]\n",
    "        likes_num = html.find('yt-formatted-string',{'id':'text','class':'style-scope ytd-toggle-button-renderer style-text','aria-label':re.compile('좋아요')}).text+'개'\n",
    "        dislikes_num = html.find('yt-formatted-string',{'id':'text','class':'style-scope ytd-toggle-button-renderer style-text','aria-label':re.compile('싫어요')}).text+'개'\n",
    "        category = 'economy' # 바꾸면됨\n",
    "\n",
    "\n",
    "        # 마지막에 모은 정보 합치기\n",
    "        insert_data = pd.DataFrame({'channel_name' :[channel_name],\n",
    "                                   'subscribers' : [subscribers],\n",
    "                                    'thumbnail' : [thumbnail],\n",
    "                                   'video_name':[video_name],\n",
    "                                   'video_length':[video_length],\n",
    "                                   'upload_date':[upload_date],\n",
    "                                   'hits' :[hits],\n",
    "                                   'likes_num':[likes_num],\n",
    "                                   'dislikes_num':[dislikes_num],\n",
    "                                   'category':[category]})\n",
    "\n",
    "        budongsan = budongsan.append(insert_data)\n",
    "    \n",
    "    except AttributeError as d: \n",
    "        print(d)\n",
    "    except IndexError as f:\n",
    "        print(f)\n",
    "    except IndexError as e:\n",
    "        print(e,i)\n",
    "    except TypeError as t:\n",
    "        print(t, i)"
   ]
  },
  {
   "cell_type": "code",
   "execution_count": null,
   "metadata": {
    "hidden": true
   },
   "outputs": [],
   "source": [
    "budongsan.shape\n",
    "budongsan.head()"
   ]
  },
  {
   "cell_type": "code",
   "execution_count": null,
   "metadata": {
    "hidden": true
   },
   "outputs": [],
   "source": [
    "budongsan.to_csv('budongsan.csv', encoding='utf-8-sig')"
   ]
  },
  {
   "cell_type": "markdown",
   "metadata": {
    "heading_collapsed": true
   },
   "source": [
    "## 한국경제 TV -2226개"
   ]
  },
  {
   "cell_type": "code",
   "execution_count": null,
   "metadata": {
    "hidden": true
   },
   "outputs": [],
   "source": [
    "# 원하는 유튜버 '동영상'에 들어가기 \n",
    "driver = webdriver.Chrome('@needs_for_you/chromedriver.exe')\n",
    "driver.maximize_window()\n",
    "driver.get('https://www.youtube.com/user/hkwowtv/videos') \n",
    "body = driver.find_element_by_tag_name('body')\n",
    "time.sleep(1.5)#브라우저 로딩시간기다려야함\n",
    "\n",
    "# 유튜브는 스크롤해야 전체를 볼 수 있음 # 전체 영상 개수에 따라 조절해야함\n",
    "endk = 300 # 5번 내림 # 500개면 한 100번정도 넉넉히 내리기 # 시험해보려고 1번만 내림\n",
    "while endk:\n",
    "    driver.find_element_by_tag_name('body').send_keys(Keys.END)\n",
    "    time.sleep(0.3)\n",
    "    endk -= 1    \n",
    "start_page = driver.page_source \n",
    "soup = BeautifulSoup(start_page,'lxml') # 전체 영상 목록의 page-source 이니 soup으로\n",
    "\n",
    "# 각 영상 페이지의 url 모음\n",
    "video_list = soup.find_all('ytd-grid-video-renderer',{'class':'style-scope ytd-grid-renderer'})\n",
    "\n",
    "hankook_url = []\n",
    "base_url = 'http://www.youtube.com'\n",
    "for i in range(len(video_list)):\n",
    "    url = base_url+video_list[i].find('a',{'id':'thumbnail'})['href']\n",
    "    hankook_url.append(url)\n",
    "    "
   ]
  },
  {
   "cell_type": "code",
   "execution_count": null,
   "metadata": {
    "hidden": true
   },
   "outputs": [],
   "source": [
    "len(hankook_url)"
   ]
  },
  {
   "cell_type": "code",
   "execution_count": null,
   "metadata": {
    "hidden": true
   },
   "outputs": [],
   "source": [
    "hankook = pd.DataFrame({'channel_name' :[],\n",
    "                       'subscribers' : [],\n",
    "                       'thumbnail' : [],\n",
    "                       'video_name':[],\n",
    "                       'video_length':[],\n",
    "                       'upload_date':[],\n",
    "                       'hits' :[],\n",
    "                       'likes_num':[],\n",
    "                       'dislikes_num':[],\n",
    "                       'category':[] })\n",
    "\n",
    "for i in range(0,len(hankook_url)):\n",
    "    \n",
    "    try : \n",
    "        channel_name = soup.find('title').text\n",
    "        subscribers = soup.find('yt-formatted-string',{'id':'subscriber-count'}).text\n",
    "    \n",
    "        thumbnail_info = video_list[i].find('img', {'data-thumb' : True}) # src 없는 것들이 있어서 keyerror 'src' 피하려면, 있는 것들만\n",
    "        if thumbnail_info != None :\n",
    "            thumbnail = thumbnail_info['data-thumb'] \n",
    "        else : \n",
    "            thumbnail = video_list[i].find('img', {'src' : True})['src'] \n",
    "        \n",
    "        video_name = video_list[i].find('a',{'id':'video-title'}).text\n",
    "        video_length = video_list[i].find('span', {'class':'style-scope ytd-thumbnail-overlay-time-status-renderer'}).text.split('\\n')[1]\n",
    "\n",
    "        # 각 동영상 페이지 들어가기 시작 \n",
    "        start_url = hankook_url[i]\n",
    "        driver.get(start_url) \n",
    "        body = driver.find_element_by_tag_name('body')\n",
    "\n",
    "        time.sleep(1.5)\n",
    "\n",
    "        # 댓글까지 쭉 보려면 스크롤\n",
    "        endk = 1 # 5번 내림\n",
    "        while endk:\n",
    "            driver.find_element_by_tag_name('body').send_keys(Keys.END)\n",
    "            time.sleep(0.3) # 내리는 시간 간격 \n",
    "            endk -= 1    \n",
    "        page = driver.page_source \n",
    "        html = BeautifulSoup(page,'lxml') # 각 페이지의 page_source 이니 html로\n",
    "\n",
    "\n",
    "        # 각 동영상 페이지 들어가서 얻을 수 있는 정보\n",
    "        pre_upload_date = html.find('div',{'id':'date'})\n",
    "        upload_date = pre_upload_date.find('yt-formatted-string', {'class':'style-scope ytd-video-primary-info-renderer'}).text \n",
    "        pre_hits = html.find('yt-view-count-renderer', {'class':'style-scope ytd-video-primary-info-renderer'})\n",
    "        hits = pre_hits.find('span',{'class':'view-count style-scope yt-view-count-renderer'}).text.split()[1]\n",
    "        likes_num = html.find('yt-formatted-string',{'id':'text','class':'style-scope ytd-toggle-button-renderer style-text','aria-label':re.compile('좋아요')}).text+'개'\n",
    "        dislikes_num = html.find('yt-formatted-string',{'id':'text','class':'style-scope ytd-toggle-button-renderer style-text','aria-label':re.compile('싫어요')}).text+'개'\n",
    "        category = 'economy' # 바꾸면됨\n",
    "\n",
    "\n",
    "        # 마지막에 모은 정보 합치기\n",
    "        insert_data = pd.DataFrame({'channel_name' :[channel_name],\n",
    "                                   'subscribers' : [subscribers],\n",
    "                                    'thumbnail' : [thumbnail],\n",
    "                                   'video_name':[video_name],\n",
    "                                   'video_length':[video_length],\n",
    "                                   'upload_date':[upload_date],\n",
    "                                   'hits' :[hits],\n",
    "                                   'likes_num':[likes_num],\n",
    "                                   'dislikes_num':[dislikes_num],\n",
    "                                   'category':[category]})\n",
    "\n",
    "        hankook = hankook.append(insert_data)\n",
    "    \n",
    "    except AttributeError as d: \n",
    "        print(d)\n",
    "    except IndexError as f:\n",
    "        print(f)\n",
    "    except IndexError as e:\n",
    "        print(e,i)\n",
    "    except TypeError as t:\n",
    "        print(t, i)"
   ]
  },
  {
   "cell_type": "code",
   "execution_count": null,
   "metadata": {
    "hidden": true
   },
   "outputs": [],
   "source": [
    "hankook.shape\n",
    "hankook.head()"
   ]
  },
  {
   "cell_type": "code",
   "execution_count": null,
   "metadata": {
    "hidden": true
   },
   "outputs": [],
   "source": [
    "hankook.to_csv('hankook.csv', encoding='utf-8-sig')"
   ]
  },
  {
   "cell_type": "markdown",
   "metadata": {
    "heading_collapsed": true
   },
   "source": [
    "## 삼프로 TV -982개"
   ]
  },
  {
   "cell_type": "code",
   "execution_count": null,
   "metadata": {
    "hidden": true
   },
   "outputs": [],
   "source": [
    "# 원하는 유튜버 '동영상'에 들어가기 \n",
    "driver = webdriver.Chrome('@needs_for_you/chromedriver.exe')\n",
    "driver.maximize_window()\n",
    "driver.get('https://www.youtube.com/channel/UChlv4GSd7OQl3js-jkLOnFA/videos') \n",
    "body = driver.find_element_by_tag_name('body')\n",
    "time.sleep(1.5)#브라우저 로딩시간기다려야함\n",
    "\n",
    "# 유튜브는 스크롤해야 전체를 볼 수 있음 # 전체 영상 개수에 따라 조절해야함\n",
    "endk = 200 # 5번 내림 # 500개면 한 100번정도 넉넉히 내리기 # 시험해보려고 1번만 내림\n",
    "while endk:\n",
    "    driver.find_element_by_tag_name('body').send_keys(Keys.END)\n",
    "    time.sleep(0.3)\n",
    "    endk -= 1    \n",
    "start_page = driver.page_source \n",
    "soup = BeautifulSoup(start_page,'lxml') # 전체 영상 목록의 page-source 이니 soup으로\n",
    "\n",
    "# 각 영상 페이지의 url 모음\n",
    "video_list = soup.find_all('ytd-grid-video-renderer',{'class':'style-scope ytd-grid-renderer'})\n",
    "\n",
    "sampro_url = []\n",
    "base_url = 'http://www.youtube.com'\n",
    "for i in range(len(video_list)):\n",
    "    url = base_url+video_list[i].find('a',{'id':'thumbnail'})['href']\n",
    "    sampro_url.append(url)\n",
    "    "
   ]
  },
  {
   "cell_type": "code",
   "execution_count": null,
   "metadata": {
    "hidden": true
   },
   "outputs": [],
   "source": [
    "len(sampro_url)"
   ]
  },
  {
   "cell_type": "code",
   "execution_count": null,
   "metadata": {
    "hidden": true
   },
   "outputs": [],
   "source": [
    "sampro = pd.DataFrame({'channel_name' :[],\n",
    "                       'subscribers' : [],\n",
    "                       'thumbnail' : [],\n",
    "                       'video_name':[],\n",
    "                       'video_length':[],\n",
    "                       'upload_date':[],\n",
    "                       'hits' :[],\n",
    "                       'likes_num':[],\n",
    "                       'dislikes_num':[],\n",
    "                       'category':[] })\n",
    "\n",
    "for i in range(0,len(sampro_url)):\n",
    "    \n",
    "    try : \n",
    "        channel_name = soup.find('title').text\n",
    "        subscribers = soup.find('yt-formatted-string',{'id':'subscriber-count'}).text\n",
    "    \n",
    "        thumbnail_info = video_list[i].find('img', {'data-thumb' : True}) # src 없는 것들이 있어서 keyerror 'src' 피하려면, 있는 것들만\n",
    "        if thumbnail_info != None :\n",
    "            thumbnail = thumbnail_info['data-thumb'] \n",
    "        else : \n",
    "            thumbnail = video_list[i].find('img', {'src' : True})['src'] \n",
    "        \n",
    "        video_name = video_list[i].find('a',{'id':'video-title'}).text\n",
    "        video_length = video_list[i].find('span', {'class':'style-scope ytd-thumbnail-overlay-time-status-renderer'}).text.split('\\n')[1]\n",
    "\n",
    "        # 각 동영상 페이지 들어가기 시작 \n",
    "        start_url = sampro_url[i]\n",
    "        driver.get(start_url) \n",
    "        body = driver.find_element_by_tag_name('body')\n",
    "\n",
    "        time.sleep(1.5)\n",
    "\n",
    "        # 댓글까지 쭉 보려면 스크롤\n",
    "        endk = 1 # 5번 내림\n",
    "        while endk:\n",
    "            driver.find_element_by_tag_name('body').send_keys(Keys.END)\n",
    "            time.sleep(0.3) # 내리는 시간 간격 \n",
    "            endk -= 1    \n",
    "        page = driver.page_source \n",
    "        html = BeautifulSoup(page,'lxml') # 각 페이지의 page_source 이니 html로\n",
    "\n",
    "\n",
    "        # 각 동영상 페이지 들어가서 얻을 수 있는 정보\n",
    "        pre_upload_date = html.find('div',{'id':'date'})\n",
    "        upload_date = pre_upload_date.find('yt-formatted-string', {'class':'style-scope ytd-video-primary-info-renderer'}).text \n",
    "        pre_hits = html.find('yt-view-count-renderer', {'class':'style-scope ytd-video-primary-info-renderer'})\n",
    "        hits = pre_hits.find('span',{'class':'view-count style-scope yt-view-count-renderer'}).text.split()[1]\n",
    "        likes_num = html.find('yt-formatted-string',{'id':'text','class':'style-scope ytd-toggle-button-renderer style-text','aria-label':re.compile('좋아요')}).text+'개'\n",
    "        dislikes_num = html.find('yt-formatted-string',{'id':'text','class':'style-scope ytd-toggle-button-renderer style-text','aria-label':re.compile('싫어요')}).text+'개'\n",
    "        category = 'economy' # 바꾸면됨\n",
    "\n",
    "\n",
    "        # 마지막에 모은 정보 합치기\n",
    "        insert_data = pd.DataFrame({'channel_name' :[channel_name],\n",
    "                                   'subscribers' : [subscribers],\n",
    "                                    'thumbnail' : [thumbnail],\n",
    "                                   'video_name':[video_name],\n",
    "                                   'video_length':[video_length],\n",
    "                                   'upload_date':[upload_date],\n",
    "                                   'hits' :[hits],\n",
    "                                   'likes_num':[likes_num],\n",
    "                                   'dislikes_num':[dislikes_num],\n",
    "                                   'category':[category]})\n",
    "\n",
    "        sampro = sampro.append(insert_data)\n",
    "    \n",
    "    except AttributeError as d: \n",
    "        print(d,i)\n",
    "    except IndexError as f:\n",
    "        print(f,i)\n",
    "    except IndexError as e:\n",
    "        print(e,i)\n",
    "    except TypeError as t:\n",
    "        print(t, i)"
   ]
  },
  {
   "cell_type": "code",
   "execution_count": null,
   "metadata": {
    "hidden": true
   },
   "outputs": [],
   "source": [
    "sampro.shape\n",
    "sampro.head()"
   ]
  },
  {
   "cell_type": "code",
   "execution_count": null,
   "metadata": {
    "hidden": true
   },
   "outputs": [],
   "source": [
    "sampro.to_csv('sampro.csv', encoding='utf-8-sig')"
   ]
  },
  {
   "cell_type": "markdown",
   "metadata": {
    "heading_collapsed": true
   },
   "source": [
    "## 황소장의 부동산 팩폭 -476개"
   ]
  },
  {
   "cell_type": "code",
   "execution_count": null,
   "metadata": {
    "hidden": true
   },
   "outputs": [],
   "source": [
    "# 원하는 유튜버 '동영상'에 들어가기 \n",
    "driver = webdriver.Chrome('@needs_for_you/chromedriver.exe')\n",
    "driver.maximize_window()\n",
    "driver.get('https://www.youtube.com/channel/UC2soFUK5L61ovrRW5L5u-JA/videos') \n",
    "body = driver.find_element_by_tag_name('body')\n",
    "time.sleep(1.5)#브라우저 로딩시간기다려야함\n",
    "\n",
    "# 유튜브는 스크롤해야 전체를 볼 수 있음 # 전체 영상 개수에 따라 조절해야함\n",
    "endk = 200 # 5번 내림 # 500개면 한 100번정도 넉넉히 내리기 # 시험해보려고 1번만 내림\n",
    "while endk:\n",
    "    driver.find_element_by_tag_name('body').send_keys(Keys.END)\n",
    "    time.sleep(0.3)\n",
    "    endk -= 1    \n",
    "start_page = driver.page_source \n",
    "soup = BeautifulSoup(start_page,'lxml') # 전체 영상 목록의 page-source 이니 soup으로\n",
    "\n",
    "# 각 영상 페이지의 url 모음\n",
    "video_list = soup.find_all('ytd-grid-video-renderer',{'class':'style-scope ytd-grid-renderer'})\n",
    "\n",
    "hwang_url = []\n",
    "base_url = 'http://www.youtube.com'\n",
    "for i in range(len(video_list)):\n",
    "    url = base_url+video_list[i].find('a',{'id':'thumbnail'})['href']\n",
    "    hwang_url.append(url)\n",
    "    "
   ]
  },
  {
   "cell_type": "code",
   "execution_count": null,
   "metadata": {
    "hidden": true
   },
   "outputs": [],
   "source": [
    "len(hwang_url)"
   ]
  },
  {
   "cell_type": "code",
   "execution_count": null,
   "metadata": {
    "hidden": true
   },
   "outputs": [],
   "source": [
    "hwang = pd.DataFrame({'channel_name' :[],\n",
    "                       'subscribers' : [],\n",
    "                       'thumbnail' : [],\n",
    "                       'video_name':[],\n",
    "                       'video_length':[],\n",
    "                       'upload_date':[],\n",
    "                       'hits' :[],\n",
    "                       'likes_num':[],\n",
    "                       'dislikes_num':[],\n",
    "                       'category':[] })\n",
    "\n",
    "for i in range(0,len(hwang_url)):\n",
    "    \n",
    "    try : \n",
    "        channel_name = soup.find('title').text\n",
    "        subscribers = soup.find('yt-formatted-string',{'id':'subscriber-count'}).text\n",
    "    \n",
    "        thumbnail_info = video_list[i].find('img', {'data-thumb' : True}) # src 없는 것들이 있어서 keyerror 'src' 피하려면, 있는 것들만\n",
    "        if thumbnail_info != None :\n",
    "            thumbnail = thumbnail_info['data-thumb'] \n",
    "        else : \n",
    "            thumbnail = video_list[i].find('img', {'src' : True})['src'] \n",
    "        \n",
    "        video_name = video_list[i].find('a',{'id':'video-title'}).text\n",
    "        video_length = video_list[i].find('span', {'class':'style-scope ytd-thumbnail-overlay-time-status-renderer'}).text.split('\\n')[1]\n",
    "\n",
    "        # 각 동영상 페이지 들어가기 시작 \n",
    "        start_url = hwang_url[i]\n",
    "        driver.get(start_url) \n",
    "        body = driver.find_element_by_tag_name('body')\n",
    "\n",
    "        time.sleep(1.5)\n",
    "\n",
    "        # 댓글까지 쭉 보려면 스크롤\n",
    "        endk = 1 # 5번 내림\n",
    "        while endk:\n",
    "            driver.find_element_by_tag_name('body').send_keys(Keys.END)\n",
    "            time.sleep(0.3) # 내리는 시간 간격 \n",
    "            endk -= 1    \n",
    "        page = driver.page_source \n",
    "        html = BeautifulSoup(page,'lxml') # 각 페이지의 page_source 이니 html로\n",
    "\n",
    "\n",
    "        # 각 동영상 페이지 들어가서 얻을 수 있는 정보\n",
    "        pre_upload_date = html.find('div',{'id':'date'})\n",
    "        upload_date = pre_upload_date.find('yt-formatted-string', {'class':'style-scope ytd-video-primary-info-renderer'}).text \n",
    "        pre_hits = html.find('yt-view-count-renderer', {'class':'style-scope ytd-video-primary-info-renderer'})\n",
    "        hits = pre_hits.find('span',{'class':'view-count style-scope yt-view-count-renderer'}).text.split()[1]\n",
    "        likes_num = html.find('yt-formatted-string',{'id':'text','class':'style-scope ytd-toggle-button-renderer style-text','aria-label':re.compile('좋아요')}).text+'개'\n",
    "        dislikes_num = html.find('yt-formatted-string',{'id':'text','class':'style-scope ytd-toggle-button-renderer style-text','aria-label':re.compile('싫어요')}).text+'개'\n",
    "        category = 'economy' # 바꾸면됨\n",
    "\n",
    "\n",
    "        # 마지막에 모은 정보 합치기\n",
    "        insert_data = pd.DataFrame({'channel_name' :[channel_name],\n",
    "                                   'subscribers' : [subscribers],\n",
    "                                    'thumbnail' : [thumbnail],\n",
    "                                   'video_name':[video_name],\n",
    "                                   'video_length':[video_length],\n",
    "                                   'upload_date':[upload_date],\n",
    "                                   'hits' :[hits],\n",
    "                                   'likes_num':[likes_num],\n",
    "                                   'dislikes_num':[dislikes_num],\n",
    "                                   'category':[category]})\n",
    "\n",
    "        hwang = hwang.append(insert_data)\n",
    "    \n",
    "    except AttributeError as d: \n",
    "        print(d,i)\n",
    "    except IndexError as f:\n",
    "        print(f,i)\n",
    "    except IndexError as e:\n",
    "        print(e,i)\n",
    "    except TypeError as t:\n",
    "        print(t, i)"
   ]
  },
  {
   "cell_type": "code",
   "execution_count": null,
   "metadata": {
    "hidden": true,
    "scrolled": true
   },
   "outputs": [],
   "source": [
    "hwang.shape\n",
    "hwang.head()"
   ]
  },
  {
   "cell_type": "code",
   "execution_count": null,
   "metadata": {
    "hidden": true
   },
   "outputs": [],
   "source": [
    "hwang.to_csv('hwang.csv', encoding='utf-8-sig')"
   ]
  },
  {
   "cell_type": "markdown",
   "metadata": {
    "heading_collapsed": true
   },
   "source": [
    "# 요리 "
   ]
  },
  {
   "cell_type": "markdown",
   "metadata": {
    "heading_collapsed": true,
    "hidden": true
   },
   "source": [
    "## 승우아빠 -217개"
   ]
  },
  {
   "cell_type": "code",
   "execution_count": null,
   "metadata": {
    "hidden": true
   },
   "outputs": [],
   "source": [
    "# 원하는 유튜버 '동영상'에 들어가기 \n",
    "driver = webdriver.Chrome('@needs_for_you/chromedriver.exe')\n",
    "driver.get('https://www.youtube.com/channel/UCgsffS7MfKL6YU3r_U3E-aA/videos')\n",
    "body = driver.find_element_by_tag_name('body')\n",
    "time.sleep(1.5)#브라우저 로딩시간기다려야함\n",
    "\n",
    "# 유튜브는 스크롤해야 전체를 볼 수 있음 \n",
    "endk = 50 # 승우아빠는 영상이 많아서 넉넉히 많이 내림\n",
    "while endk:\n",
    "    driver.find_element_by_tag_name('body').send_keys(Keys.END)\n",
    "    time.sleep(0.3)\n",
    "    endk -= 1    \n",
    "start_page = driver.page_source \n",
    "soup = BeautifulSoup(start_page,'lxml') # 전체 영상 목록의 page-source 이니 soup으로\n",
    "\n",
    "# 각 영상 페이지의 url 모음\n",
    "video_list = soup.find_all('ytd-grid-video-renderer',{'class':'style-scope ytd-grid-renderer'})\n",
    "\n",
    "seougwooappa_url = []\n",
    "base_url = 'http://www.youtube.com'\n",
    "for i in range(len(video_list)):\n",
    "    url = base_url+video_list[i].find('a',{'id':'thumbnail'})['href']\n",
    "    seougwooappa_url.append(url)"
   ]
  },
  {
   "cell_type": "code",
   "execution_count": null,
   "metadata": {
    "hidden": true
   },
   "outputs": [],
   "source": [
    "len(seougwooappa_url)"
   ]
  },
  {
   "cell_type": "code",
   "execution_count": null,
   "metadata": {
    "hidden": true
   },
   "outputs": [],
   "source": [
    "seougwooappa = pd.DataFrame({'channel_name' :[],\n",
    "                           'subscribers' : [],\n",
    "                           'thumbnail' :[],\n",
    "                           'video_name':[],\n",
    "                           'video_length':[],\n",
    "                           'upload_date':[],\n",
    "                           'hits' :[],\n",
    "                           'likes_num':[],\n",
    "                           'dislikes_num':[],\n",
    "                           'category':[] })\n",
    "\n",
    "for i in range(0,len(seougwooappa_url)):\n",
    "    \n",
    "    try : \n",
    "        channel_name = soup.find('title').text\n",
    "        subscribers = soup.find('yt-formatted-string',{'id':'subscriber-count'}).text\n",
    "        thumbnail = video_list[i].find('img', {'src' : True})['src']        \n",
    "        video_name = video_list[i].find('a',{'id':'video-title'}).text\n",
    "        video_length = video_list[i].find('span', {'class':'style-scope ytd-thumbnail-overlay-time-status-renderer'}).text.split('\\n')[1]\n",
    "\n",
    "        # 각 동영상 페이지 들어가기 시작 \n",
    "        start_url = seougwooappa_url[i]\n",
    "        driver.get(start_url) \n",
    "        body = driver.find_element_by_tag_name('body')\n",
    "\n",
    "        time.sleep(1.5)\n",
    "\n",
    "        # 댓글까지 쭉 보려면 스크롤\n",
    "        endk = 1 # 5번 내림\n",
    "        while endk:\n",
    "            driver.find_element_by_tag_name('body').send_keys(Keys.END)\n",
    "            time.sleep(0.3) # 내리는 시간 간격 \n",
    "            endk -= 1    \n",
    "        page = driver.page_source \n",
    "        html = BeautifulSoup(page,'lxml') # 각 페이지의 page_source 이니 html로\n",
    "\n",
    "\n",
    "        # 각 동영상 페이지 들어가서 얻을 수 있는 정보\n",
    "        pre_upload_date = html.find('div',{'id':'date'})\n",
    "        upload_date = pre_upload_date.find('yt-formatted-string', {'class':'style-scope ytd-video-primary-info-renderer'}).text\n",
    "        pre_hits = html.find('yt-view-count-renderer', {'class':'style-scope ytd-video-primary-info-renderer'})\n",
    "        hits = pre_hits.find('span',{'class':'view-count style-scope yt-view-count-renderer'}).text.split()[1]\n",
    "        likes_num = html.find('yt-formatted-string',{'id':'text','class':'style-scope ytd-toggle-button-renderer style-text','aria-label':re.compile('좋아요')}).text+'개'\n",
    "        dislikes_num = html.find('yt-formatted-string',{'id':'text','class':'style-scope ytd-toggle-button-renderer style-text','aria-label':re.compile('싫어요')}).text+'개'\n",
    "        category = 'cooking' # 바꾸면됨\n",
    "\n",
    "\n",
    "        # 마지막에 모은 정보 합치기\n",
    "        insert_data = pd.DataFrame({'channel_name' :[channel_name],\n",
    "                                   'subscribers' : [subscribers],\n",
    "                                   'thumbnail' :[thumbnail],\n",
    "                                   'video_name':[video_name],\n",
    "                                   'video_length':[video_length],\n",
    "                                   'upload_date':[upload_date],\n",
    "                                   'hits' :[hits],\n",
    "                                   'likes_num':[likes_num],\n",
    "                                   'dislikes_num':[dislikes_num],\n",
    "                                   'category':[category]})\n",
    "\n",
    "        seougwooappa = seougwooappa.append(insert_data)\n",
    "\n",
    "    except KeyError as e: # error뜬거는 포함 안하고 저장됨 (error 뜨는거 찾을 때 마다 그냥 넣어버리기)\n",
    "        print(k, i)\n",
    "    except AttributeError as a: \n",
    "        print(a ,i)\n",
    "    except IndexError as e:\n",
    "        print(e,i)\n",
    "    except TypeError as t:\n",
    "        print(t, i)"
   ]
  },
  {
   "cell_type": "code",
   "execution_count": null,
   "metadata": {
    "hidden": true
   },
   "outputs": [],
   "source": [
    "seougwooappa.shape\n",
    "seougwooappa.head()\n"
   ]
  },
  {
   "cell_type": "code",
   "execution_count": null,
   "metadata": {
    "hidden": true
   },
   "outputs": [],
   "source": [
    "seougwooappa.to_csv('seougwooappa.csv', encoding='utf-8-sig')"
   ]
  },
  {
   "cell_type": "markdown",
   "metadata": {
    "heading_collapsed": true,
    "hidden": true
   },
   "source": [
    "## 요남 TV -32개"
   ]
  },
  {
   "cell_type": "code",
   "execution_count": null,
   "metadata": {
    "hidden": true
   },
   "outputs": [],
   "source": [
    "# 원하는 유튜버 '동영상'에 들어가기 \n",
    "driver = webdriver.Chrome('@needs_for_you/chromedriver.exe')\n",
    "driver.get('https://www.youtube.com/channel/UCyozK5OFN5lDrwim5wqQnLA/videos')\n",
    "body = driver.find_element_by_tag_name('body')\n",
    "time.sleep(1.5)#브라우저 로딩시간기다려야함\n",
    "\n",
    "# 유튜브는 스크롤해야 전체를 볼 수 있음 \n",
    "endk = 5 # 5번 내림\n",
    "while endk:\n",
    "    driver.find_element_by_tag_name('body').send_keys(Keys.END)\n",
    "    time.sleep(0.4)\n",
    "    endk -= 1    \n",
    "start_page = driver.page_source \n",
    "soup = BeautifulSoup(start_page,'lxml') # 전체 영상 목록의 page-source 이니 soup으로\n",
    "\n",
    "# 각 영상 페이지의 url 모음\n",
    "video_list = soup.find_all('ytd-grid-video-renderer',{'class':'style-scope ytd-grid-renderer'})\n",
    "\n",
    "yonamtv_url = []\n",
    "base_url = 'http://www.youtube.com'\n",
    "for i in range(len(video_list)):\n",
    "    url = base_url+video_list[i].find('a',{'id':'thumbnail'})['href']\n",
    "    yonamtv_url.append(url)"
   ]
  },
  {
   "cell_type": "code",
   "execution_count": null,
   "metadata": {
    "hidden": true
   },
   "outputs": [],
   "source": [
    "len(yonamtv_url)"
   ]
  },
  {
   "cell_type": "code",
   "execution_count": null,
   "metadata": {
    "hidden": true
   },
   "outputs": [],
   "source": [
    "yonamtv = pd.DataFrame({'channel_name' :[],\n",
    "                           'subscribers' : [],\n",
    "                           'thumbnail' :[],\n",
    "                           'video_name':[],\n",
    "                           'video_length':[],\n",
    "                           'upload_date':[],\n",
    "                           'hits' :[],\n",
    "                           'likes_num':[],\n",
    "                           'dislikes_num':[],\n",
    "                           'category':[] })\n",
    "\n",
    "for i in range(0,len(yonamtv_url)):\n",
    "    \n",
    "    try : \n",
    "        channel_name = soup.find('title').text\n",
    "        subscribers = soup.find('yt-formatted-string',{'id':'subscriber-count'}).text\n",
    "        thumbnail = video_list[i].find('img', {'src' : True})['src']        \n",
    "        video_name = video_list[i].find('a',{'id':'video-title'}).text\n",
    "        video_length = video_list[i].find('span', {'class':'style-scope ytd-thumbnail-overlay-time-status-renderer'}).text.split('\\n')[1]\n",
    "\n",
    "        # 각 동영상 페이지 들어가기 시작 \n",
    "        start_url = yonamtv_url[i]\n",
    "        driver.get(start_url) \n",
    "        body = driver.find_element_by_tag_name('body')\n",
    "\n",
    "        time.sleep(1.5)\n",
    "\n",
    "        # 댓글까지 쭉 보려면 스크롤\n",
    "        endk = 1 # 5번 내림\n",
    "        while endk:\n",
    "            driver.find_element_by_tag_name('body').send_keys(Keys.END)\n",
    "            time.sleep(0.3) # 내리는 시간 간격 \n",
    "            endk -= 1    \n",
    "        page = driver.page_source \n",
    "        html = BeautifulSoup(page,'lxml') # 각 페이지의 page_source 이니 html로\n",
    "\n",
    "\n",
    "        # 각 동영상 페이지 들어가서 얻을 수 있는 정보\n",
    "        pre_upload_date = html.find('div',{'id':'date'})\n",
    "        upload_date = pre_upload_date.find('yt-formatted-string', {'class':'style-scope ytd-video-primary-info-renderer'}).text\n",
    "        pre_hits = html.find('yt-view-count-renderer', {'class':'style-scope ytd-video-primary-info-renderer'})\n",
    "        hits = pre_hits.find('span',{'class':'view-count style-scope yt-view-count-renderer'}).text.split()[1]\n",
    "        likes_num = html.find('yt-formatted-string',{'id':'text','class':'style-scope ytd-toggle-button-renderer style-text','aria-label':re.compile('좋아요')}).text+'개'\n",
    "        dislikes_num = html.find('yt-formatted-string',{'id':'text','class':'style-scope ytd-toggle-button-renderer style-text','aria-label':re.compile('싫어요')}).text+'개'\n",
    "        category = 'cooking' # 바꾸면됨\n",
    "\n",
    "\n",
    "        # 마지막에 모은 정보 합치기\n",
    "        insert_data = pd.DataFrame({'channel_name' :[channel_name],\n",
    "                                   'subscribers' : [subscribers],\n",
    "                                   'thumbnail' :[thumbnail],\n",
    "                                   'video_name':[video_name],\n",
    "                                   'video_length':[video_length],\n",
    "                                   'upload_date':[upload_date],\n",
    "                                   'hits' :[hits],\n",
    "                                   'likes_num':[likes_num],\n",
    "                                   'dislikes_num':[dislikes_num],\n",
    "                                   'category':[category]})\n",
    "\n",
    "        yonamtv = yonamtv.append(insert_data)\n",
    "\n",
    "    except KeyError as e: # error뜬거는 포함 안하고 저장됨 (error 뜨는거 찾을 때 마다 그냥 넣어버리기)\n",
    "        print(k, i)\n",
    "    except AttributeError as a: \n",
    "        print(a ,i)\n",
    "    except IndexError as e:\n",
    "        print(e,i)\n",
    "    except TypeError as t:\n",
    "        print(t, i)"
   ]
  },
  {
   "cell_type": "code",
   "execution_count": null,
   "metadata": {
    "hidden": true
   },
   "outputs": [],
   "source": [
    "yonamtv.shape\n",
    "yonamtv.head()"
   ]
  },
  {
   "cell_type": "code",
   "execution_count": null,
   "metadata": {
    "hidden": true
   },
   "outputs": [],
   "source": [
    "yonamtv.to_csv('yonamtv.csv', encoding='utf-8-sig')"
   ]
  },
  {
   "cell_type": "markdown",
   "metadata": {
    "heading_collapsed": true,
    "hidden": true
   },
   "source": [
    "## 소소황 -170개"
   ]
  },
  {
   "cell_type": "code",
   "execution_count": null,
   "metadata": {
    "hidden": true
   },
   "outputs": [],
   "source": [
    "# 원하는 유튜버 '동영상'에 들어가기 \n",
    "driver = webdriver.Chrome('@needs_for_you/chromedriver.exe')\n",
    "driver.get('https://www.youtube.com/channel/UCWrh9haWsTEAQF9UEg6AEFQ/videos')\n",
    "body = driver.find_element_by_tag_name('body')\n",
    "driver.maximize_window()\n",
    "time.sleep(1.5)#브라우저 로딩시간기다려야함\n",
    "\n",
    "# 유튜브는 스크롤해야 전체를 볼 수 있음 \n",
    "endk = 70\n",
    "while endk:\n",
    "    driver.find_element_by_tag_name('body').send_keys(Keys.END)\n",
    "    time.sleep(0.3)\n",
    "    endk -= 1   \n",
    "    \n",
    "start_page = driver.page_source \n",
    "soup = BeautifulSoup(start_page,'lxml') # 전체 영상 목록의 page-source 이니 soup으로\n",
    "\n",
    "# 각 영상 페이지의 url 모음\n",
    "video_list = soup.find_all('ytd-grid-video-renderer',{'class':'style-scope ytd-grid-renderer'})\n",
    "\n",
    "sosohwang_url= []\n",
    "base_url = 'http://www.youtube.com'\n",
    "for i in range(len(video_list)):\n",
    "    url = base_url+video_list[i].find('a',{'id':'thumbnail'})['href']\n",
    "    sosohwang_url.append(url)"
   ]
  },
  {
   "cell_type": "code",
   "execution_count": null,
   "metadata": {
    "hidden": true
   },
   "outputs": [],
   "source": [
    "len(sosohwang_url)"
   ]
  },
  {
   "cell_type": "code",
   "execution_count": null,
   "metadata": {
    "hidden": true
   },
   "outputs": [],
   "source": [
    "sosohwang = pd.DataFrame({'channel_name' :[],\n",
    "                           'subscribers' : [],\n",
    "                           'thumbnail' :[],\n",
    "                           'video_name':[],\n",
    "                           'video_length':[],\n",
    "                           'upload_date':[],\n",
    "                           'hits' :[],\n",
    "                           'likes_num':[],\n",
    "                           'dislikes_num':[],\n",
    "                           'category':[] })\n",
    "\n",
    "for i in range(0,len(sosohwang_url)):\n",
    "    \n",
    "    try : \n",
    "        channel_name = soup.find('title').text\n",
    "        subscribers = soup.find('yt-formatted-string',{'id':'subscriber-count'}).text\n",
    "        thumbnail = video_list[i].find('img', {'src' : True})['src']        \n",
    "        video_name = video_list[i].find('a',{'id':'video-title'}).text\n",
    "        video_length = video_list[i].find('span', {'class':'style-scope ytd-thumbnail-overlay-time-status-renderer'}).text.split('\\n')[1]\n",
    "\n",
    "        # 각 동영상 페이지 들어가기 시작 \n",
    "        start_url = sosohwang_url[i]\n",
    "        driver.get(start_url) \n",
    "        body = driver.find_element_by_tag_name('body')\n",
    "\n",
    "        time.sleep(1.5)\n",
    "\n",
    "        # 댓글까지 쭉 보려면 스크롤\n",
    "        endk = 1 # 5번 내림\n",
    "        while endk:\n",
    "            driver.find_element_by_tag_name('body').send_keys(Keys.END)\n",
    "            time.sleep(0.3) # 내리는 시간 간격 \n",
    "            endk -= 1    \n",
    "        page = driver.page_source \n",
    "        html = BeautifulSoup(page,'lxml') # 각 페이지의 page_source 이니 html로\n",
    "\n",
    "\n",
    "        # 각 동영상 페이지 들어가서 얻을 수 있는 정보\n",
    "        pre_upload_date = html.find('div',{'id':'date'})\n",
    "        upload_date = pre_upload_date.find('yt-formatted-string', {'class':'style-scope ytd-video-primary-info-renderer'}).text\n",
    "        pre_hits = html.find('yt-view-count-renderer', {'class':'style-scope ytd-video-primary-info-renderer'})\n",
    "        hits = pre_hits.find('span',{'class':'view-count style-scope yt-view-count-renderer'}).text.split()[1]\n",
    "        likes_num = html.find('yt-formatted-string',{'id':'text','class':'style-scope ytd-toggle-button-renderer style-text','aria-label':re.compile('좋아요')}).text+'개'\n",
    "        dislikes_num = html.find('yt-formatted-string',{'id':'text','class':'style-scope ytd-toggle-button-renderer style-text','aria-label':re.compile('싫어요')}).text+'개'\n",
    "        category = 'cooking' # 바꾸면됨\n",
    "\n",
    "\n",
    "        # 마지막에 모은 정보 합치기\n",
    "        insert_data = pd.DataFrame({'channel_name' :[channel_name],\n",
    "                                   'subscribers' : [subscribers],\n",
    "                                   'thumbnail' :[thumbnail],\n",
    "                                   'video_name':[video_name],\n",
    "                                   'video_length':[video_length],\n",
    "                                   'upload_date':[upload_date],\n",
    "                                   'hits' :[hits],\n",
    "                                   'likes_num':[likes_num],\n",
    "                                   'dislikes_num':[dislikes_num],\n",
    "                                   'category':[category]})\n",
    "\n",
    "        sosohwang = sosohwang.append(insert_data)\n",
    "\n",
    "    except KeyError as e: # error뜬거는 포함 안하고 저장됨 (error 뜨는거 찾을 때 마다 그냥 넣어버리기)\n",
    "        print(k, i)\n",
    "    except AttributeError as a: \n",
    "        print(a ,i)\n",
    "    except IndexError as e:\n",
    "        print(e,i)\n",
    "    except TypeError as t:\n",
    "        print(t, i)"
   ]
  },
  {
   "cell_type": "code",
   "execution_count": null,
   "metadata": {
    "hidden": true
   },
   "outputs": [],
   "source": [
    "sosohwang.shape\n",
    "sosohwang.head()"
   ]
  },
  {
   "cell_type": "code",
   "execution_count": null,
   "metadata": {
    "hidden": true
   },
   "outputs": [],
   "source": [
    "sosohwang.to_csv('sosohwang.csv', encoding='utf-8-sig')"
   ]
  },
  {
   "cell_type": "markdown",
   "metadata": {
    "heading_collapsed": true,
    "hidden": true
   },
   "source": [
    "## 심방골주부 -311개"
   ]
  },
  {
   "cell_type": "code",
   "execution_count": null,
   "metadata": {
    "hidden": true
   },
   "outputs": [],
   "source": [
    "# 원하는 유튜버 '동영상'에 들어가기 \n",
    "driver = webdriver.Chrome('@needs_for_you/chromedriver.exe')\n",
    "driver.get('https://www.youtube.com/channel/UCMXFSqYCTcB4iIJLwUJaBrQ/videos')\n",
    "body = driver.find_element_by_tag_name('body')\n",
    "driver.maximize_window()\n",
    "time.sleep(1.5)#브라우저 로딩시간기다려야함\n",
    "\n",
    "# 유튜브는 스크롤해야 전체를 볼 수 있음 \n",
    "endk = 50\n",
    "while endk:\n",
    "    driver.find_element_by_tag_name('body').send_keys(Keys.END)\n",
    "    time.sleep(0.3)\n",
    "    endk -= 1   \n",
    "    \n",
    "start_page = driver.page_source \n",
    "soup = BeautifulSoup(start_page,'lxml') # 전체 영상 목록의 page-source 이니 soup으로\n",
    "\n",
    "# 각 영상 페이지의 url 모음\n",
    "video_list = soup.find_all('ytd-grid-video-renderer',{'class':'style-scope ytd-grid-renderer'})\n",
    "\n",
    "simbanggol_url= []\n",
    "base_url = 'http://www.youtube.com'\n",
    "for i in range(len(video_list)):\n",
    "    url = base_url+video_list[i].find('a',{'id':'thumbnail'})['href']\n",
    "    simbanggol_url.append(url)"
   ]
  },
  {
   "cell_type": "code",
   "execution_count": null,
   "metadata": {
    "hidden": true
   },
   "outputs": [],
   "source": [
    "len(simbanggol_url)"
   ]
  },
  {
   "cell_type": "code",
   "execution_count": null,
   "metadata": {
    "hidden": true
   },
   "outputs": [],
   "source": [
    "simbanggol = pd.DataFrame({'channel_name' :[],\n",
    "                           'subscribers' : [],\n",
    "                           'thumbnail' :[],\n",
    "                           'video_name':[],\n",
    "                           'video_length':[],\n",
    "                           'upload_date':[],\n",
    "                           'hits' :[],\n",
    "                           'likes_num':[],\n",
    "                           'dislikes_num':[],\n",
    "                           'category':[] })\n",
    "\n",
    "for i in range(0,len(simbanggol_url)):\n",
    "    \n",
    "    try : \n",
    "        channel_name = soup.find('title').text\n",
    "        subscribers = soup.find('yt-formatted-string',{'id':'subscriber-count'}).text\n",
    "        thumbnail = video_list[i].find('img', {'src' : True})['src']        \n",
    "        video_name = video_list[i].find('a',{'id':'video-title'}).text\n",
    "        video_length = video_list[i].find('span', {'class':'style-scope ytd-thumbnail-overlay-time-status-renderer'}).text.split('\\n')[1]\n",
    "\n",
    "        # 각 동영상 페이지 들어가기 시작 \n",
    "        start_url = simbanggol_url[i]\n",
    "        driver.get(start_url) \n",
    "        body = driver.find_element_by_tag_name('body')\n",
    "\n",
    "        time.sleep(1.5)\n",
    "\n",
    "        # 댓글까지 쭉 보려면 스크롤\n",
    "        endk = 1 # 5번 내림\n",
    "        while endk:\n",
    "            driver.find_element_by_tag_name('body').send_keys(Keys.END)\n",
    "            time.sleep(0.3) # 내리는 시간 간격 \n",
    "            endk -= 1    \n",
    "        page = driver.page_source \n",
    "        html = BeautifulSoup(page,'lxml') # 각 페이지의 page_source 이니 html로\n",
    "\n",
    "\n",
    "        # 각 동영상 페이지 들어가서 얻을 수 있는 정보\n",
    "        pre_upload_date = html.find('div',{'id':'date'})\n",
    "        upload_date = pre_upload_date.find('yt-formatted-string', {'class':'style-scope ytd-video-primary-info-renderer'}).text\n",
    "        pre_hits = html.find('yt-view-count-renderer', {'class':'style-scope ytd-video-primary-info-renderer'})\n",
    "        hits = pre_hits.find('span',{'class':'view-count style-scope yt-view-count-renderer'}).text.split()[1]\n",
    "        likes_num = html.find('yt-formatted-string',{'id':'text','class':'style-scope ytd-toggle-button-renderer style-text','aria-label':re.compile('좋아요')}).text+'개'\n",
    "        dislikes_num = html.find('yt-formatted-string',{'id':'text','class':'style-scope ytd-toggle-button-renderer style-text','aria-label':re.compile('싫어요')}).text+'개'\n",
    "        category = 'cooking' # 바꾸면됨\n",
    "\n",
    "\n",
    "        # 마지막에 모은 정보 합치기\n",
    "        insert_data = pd.DataFrame({'channel_name' :[channel_name],\n",
    "                                   'subscribers' : [subscribers],\n",
    "                                   'thumbnail' :[thumbnail],\n",
    "                                   'video_name':[video_name],\n",
    "                                   'video_length':[video_length],\n",
    "                                   'upload_date':[upload_date],\n",
    "                                   'hits' :[hits],\n",
    "                                   'likes_num':[likes_num],\n",
    "                                   'dislikes_num':[dislikes_num],\n",
    "                                   'category':[category]})\n",
    "\n",
    "        simbanggol = simbanggol.append(insert_data)\n",
    "\n",
    "    except KeyError as e: # error뜬거는 포함 안하고 저장됨 (error 뜨는거 찾을 때 마다 그냥 넣어버리기)\n",
    "        print(k, i)\n",
    "    except AttributeError as a: \n",
    "        print(a ,i)\n",
    "    except IndexError as e:\n",
    "        print(e,i)\n",
    "    except TypeError as t:\n",
    "        print(t, i)"
   ]
  },
  {
   "cell_type": "code",
   "execution_count": null,
   "metadata": {
    "hidden": true
   },
   "outputs": [],
   "source": [
    "simbanggol.shape\n",
    "simbanggol.head()"
   ]
  },
  {
   "cell_type": "code",
   "execution_count": null,
   "metadata": {
    "hidden": true
   },
   "outputs": [],
   "source": [
    "simbanggol.to_csv('simbanggol.csv', encoding='utf-8-sig')"
   ]
  },
  {
   "cell_type": "markdown",
   "metadata": {
    "heading_collapsed": true,
    "hidden": true
   },
   "source": [
    "## 강쉪 -398개"
   ]
  },
  {
   "cell_type": "code",
   "execution_count": null,
   "metadata": {
    "hidden": true
   },
   "outputs": [],
   "source": [
    "# 원하는 유튜버 '동영상'에 들어가기 \n",
    "driver = webdriver.Chrome('@needs_for_you/chromedriver.exe')\n",
    "driver.get('https://www.youtube.com/channel/UCrxSR4OGbJBVjYxp4xjWgZQ/videos')\n",
    "body = driver.find_element_by_tag_name('body')\n",
    "driver.maximize_window()\n",
    "time.sleep(1.5)#브라우저 로딩시간기다려야함\n",
    "\n",
    "# 유튜브는 스크롤해야 전체를 볼 수 있음 \n",
    "endk = 100\n",
    "while endk:\n",
    "    driver.find_element_by_tag_name('body').send_keys(Keys.END)\n",
    "    time.sleep(0.3)\n",
    "    endk -= 1   \n",
    "    \n",
    "start_page = driver.page_source \n",
    "soup = BeautifulSoup(start_page,'lxml') # 전체 영상 목록의 page-source 이니 soup으로\n",
    "\n",
    "# 각 영상 페이지의 url 모음\n",
    "video_list = soup.find_all('ytd-grid-video-renderer',{'class':'style-scope ytd-grid-renderer'})\n",
    "\n",
    "kangchef_url= []\n",
    "base_url = 'http://www.youtube.com'\n",
    "for i in range(len(video_list)):\n",
    "    url = base_url+video_list[i].find('a',{'id':'thumbnail'})['href']\n",
    "    kangchef_url.append(url)"
   ]
  },
  {
   "cell_type": "code",
   "execution_count": null,
   "metadata": {
    "hidden": true
   },
   "outputs": [],
   "source": [
    "len(kangchef_url)"
   ]
  },
  {
   "cell_type": "code",
   "execution_count": null,
   "metadata": {
    "hidden": true
   },
   "outputs": [],
   "source": [
    "kangchef = pd.DataFrame({'channel_name' :[],\n",
    "                           'subscribers' : [],\n",
    "                           'thumbnail' :[],\n",
    "                           'video_name':[],\n",
    "                           'video_length':[],\n",
    "                           'upload_date':[],\n",
    "                           'hits' :[],\n",
    "                           'likes_num':[],\n",
    "                           'dislikes_num':[],\n",
    "                           'category':[] })\n",
    "\n",
    "for i in range(0,len(kangchef_url)):\n",
    "    \n",
    "    try : \n",
    "        channel_name = soup.find('title').text\n",
    "        subscribers = soup.find('yt-formatted-string',{'id':'subscriber-count'}).text\n",
    "        thumbnail = video_list[i].find('img', {'src' : True})['src']        \n",
    "        video_name = video_list[i].find('a',{'id':'video-title'}).text\n",
    "        video_length = video_list[i].find('span', {'class':'style-scope ytd-thumbnail-overlay-time-status-renderer'}).text.split('\\n')[1]\n",
    "\n",
    "        # 각 동영상 페이지 들어가기 시작 \n",
    "        start_url = kangchef_url[i]\n",
    "        driver.get(start_url) \n",
    "        body = driver.find_element_by_tag_name('body')\n",
    "\n",
    "        time.sleep(1.5)\n",
    "\n",
    "        # 댓글까지 쭉 보려면 스크롤\n",
    "        endk = 1 # 5번 내림\n",
    "        while endk:\n",
    "            driver.find_element_by_tag_name('body').send_keys(Keys.END)\n",
    "            time.sleep(0.3) # 내리는 시간 간격 \n",
    "            endk -= 1    \n",
    "        page = driver.page_source \n",
    "        html = BeautifulSoup(page,'lxml') # 각 페이지의 page_source 이니 html로\n",
    "\n",
    "\n",
    "        # 각 동영상 페이지 들어가서 얻을 수 있는 정보\n",
    "        pre_upload_date = html.find('div',{'id':'date'})\n",
    "        upload_date = pre_upload_date.find('yt-formatted-string', {'class':'style-scope ytd-video-primary-info-renderer'}).text\n",
    "        pre_hits = html.find('yt-view-count-renderer', {'class':'style-scope ytd-video-primary-info-renderer'})\n",
    "        hits = pre_hits.find('span',{'class':'view-count style-scope yt-view-count-renderer'}).text.split()[1]\n",
    "        likes_num = html.find('yt-formatted-string',{'id':'text','class':'style-scope ytd-toggle-button-renderer style-text','aria-label':re.compile('좋아요')}).text+'개'\n",
    "        dislikes_num = html.find('yt-formatted-string',{'id':'text','class':'style-scope ytd-toggle-button-renderer style-text','aria-label':re.compile('싫어요')}).text+'개'\n",
    "        category = 'cooking' # 바꾸면됨\n",
    "\n",
    "\n",
    "        # 마지막에 모은 정보 합치기\n",
    "        insert_data = pd.DataFrame({'channel_name' :[channel_name],\n",
    "                                   'subscribers' : [subscribers],\n",
    "                                   'thumbnail' :[thumbnail],\n",
    "                                   'video_name':[video_name],\n",
    "                                   'video_length':[video_length],\n",
    "                                   'upload_date':[upload_date],\n",
    "                                   'hits' :[hits],\n",
    "                                   'likes_num':[likes_num],\n",
    "                                   'dislikes_num':[dislikes_num],\n",
    "                                   'category':[category]})\n",
    "\n",
    "        kangchef = kangchef.append(insert_data)\n",
    "\n",
    "    except KeyError as e: # error뜬거는 포함 안하고 저장됨 (error 뜨는거 찾을 때 마다 그냥 넣어버리기)\n",
    "        print(k, i)\n",
    "    except AttributeError as a: \n",
    "        print(a ,i)\n",
    "    except IndexError as e:\n",
    "        print(e,i)\n",
    "    except TypeError as t:\n",
    "        print(t, i)"
   ]
  },
  {
   "cell_type": "code",
   "execution_count": null,
   "metadata": {
    "hidden": true
   },
   "outputs": [],
   "source": [
    "kangchef.shape\n",
    "kangchef.head()"
   ]
  },
  {
   "cell_type": "code",
   "execution_count": null,
   "metadata": {
    "hidden": true
   },
   "outputs": [],
   "source": [
    "kangchef.to_csv('kangchef.csv', encoding='utf-8-sig') "
   ]
  },
  {
   "cell_type": "markdown",
   "metadata": {
    "heading_collapsed": true,
    "hidden": true
   },
   "source": [
    "## 만개의 레시피 -2257개"
   ]
  },
  {
   "cell_type": "code",
   "execution_count": null,
   "metadata": {
    "hidden": true
   },
   "outputs": [],
   "source": [
    "# 원하는 유튜버 '동영상'에 들어가기 \n",
    "driver = webdriver.Chrome('@needs_for_you/chromedriver.exe')\n",
    "driver.get('https://www.youtube.com/channel/UCKA_6r3CWC76x_EaFO6jsPA/videos')\n",
    "body = driver.find_element_by_tag_name('body')\n",
    "driver.maximize_window()\n",
    "time.sleep(1.5)#브라우저 로딩시간기다려야함\n",
    "\n",
    "# 유튜브는 스크롤해야 전체를 볼 수 있음 \n",
    "endk = 300\n",
    "while endk:\n",
    "    driver.find_element_by_tag_name('body').send_keys(Keys.END)\n",
    "    time.sleep(0.3)\n",
    "    endk -= 1   \n",
    "    \n",
    "start_page = driver.page_source \n",
    "soup = BeautifulSoup(start_page,'lxml') # 전체 영상 목록의 page-source 이니 soup으로\n",
    "\n",
    "# 각 영상 페이지의 url 모음\n",
    "video_list = soup.find_all('ytd-grid-video-renderer',{'class':'style-scope ytd-grid-renderer'})\n",
    "\n",
    "mangaerecipe_url= []\n",
    "base_url = 'http://www.youtube.com'\n",
    "for i in range(len(video_list)):\n",
    "    url = base_url+video_list[i].find('a',{'id':'thumbnail'})['href']\n",
    "    mangaerecipe_url.append(url)"
   ]
  },
  {
   "cell_type": "code",
   "execution_count": null,
   "metadata": {
    "hidden": true
   },
   "outputs": [],
   "source": [
    "len(mangaerecipe_url)"
   ]
  },
  {
   "cell_type": "code",
   "execution_count": null,
   "metadata": {
    "hidden": true
   },
   "outputs": [],
   "source": [
    "mangaerecipe = pd.DataFrame({'channel_name' :[],\n",
    "                           'subscribers' : [],\n",
    "                           'thumbnail' :[],\n",
    "                           'video_name':[],\n",
    "                           'video_length':[],\n",
    "                           'upload_date':[],\n",
    "                           'hits' :[],\n",
    "                           'likes_num':[],\n",
    "                           'dislikes_num':[],\n",
    "                           'category':[] })\n",
    "\n",
    "for i in range(0,len(mangaerecipe_url)):\n",
    "    \n",
    "    try : \n",
    "        channel_name = soup.find('title').text\n",
    "        subscribers = soup.find('yt-formatted-string',{'id':'subscriber-count'}).text\n",
    "        thumbnail = video_list[i].find('img', {'src' : True})['src']        \n",
    "        video_name = video_list[i].find('a',{'id':'video-title'}).text\n",
    "        video_length = video_list[i].find('span', {'class':'style-scope ytd-thumbnail-overlay-time-status-renderer'}).text.split('\\n')[1]\n",
    "\n",
    "        # 각 동영상 페이지 들어가기 시작 \n",
    "        start_url = mangaerecipe_url[i]\n",
    "        driver.get(start_url) \n",
    "        body = driver.find_element_by_tag_name('body')\n",
    "\n",
    "        time.sleep(1.5)\n",
    "\n",
    "        # 댓글까지 쭉 보려면 스크롤\n",
    "        endk = 1 # 5번 내림\n",
    "        while endk:\n",
    "            driver.find_element_by_tag_name('body').send_keys(Keys.END)\n",
    "            time.sleep(0.3) # 내리는 시간 간격 \n",
    "            endk -= 1    \n",
    "        page = driver.page_source \n",
    "        html = BeautifulSoup(page,'lxml') # 각 페이지의 page_source 이니 html로\n",
    "\n",
    "\n",
    "        # 각 동영상 페이지 들어가서 얻을 수 있는 정보\n",
    "        pre_upload_date = html.find('div',{'id':'date'})\n",
    "        upload_date = pre_upload_date.find('yt-formatted-string', {'class':'style-scope ytd-video-primary-info-renderer'}).text\n",
    "        pre_hits = html.find('yt-view-count-renderer', {'class':'style-scope ytd-video-primary-info-renderer'})\n",
    "        hits = pre_hits.find('span',{'class':'view-count style-scope yt-view-count-renderer'}).text.split()[1]\n",
    "        likes_num = html.find('yt-formatted-string',{'id':'text','class':'style-scope ytd-toggle-button-renderer style-text','aria-label':re.compile('좋아요')}).text+'개'\n",
    "        dislikes_num = html.find('yt-formatted-string',{'id':'text','class':'style-scope ytd-toggle-button-renderer style-text','aria-label':re.compile('싫어요')}).text+'개'\n",
    "        category = 'cooking' # 바꾸면됨\n",
    "\n",
    "\n",
    "        # 마지막에 모은 정보 합치기\n",
    "        insert_data = pd.DataFrame({'channel_name' :[channel_name],\n",
    "                                   'subscribers' : [subscribers],\n",
    "                                   'thumbnail' :[thumbnail],\n",
    "                                   'video_name':[video_name],\n",
    "                                   'video_length':[video_length],\n",
    "                                   'upload_date':[upload_date],\n",
    "                                   'hits' :[hits],\n",
    "                                   'likes_num':[likes_num],\n",
    "                                   'dislikes_num':[dislikes_num],\n",
    "                                   'category':[category]})\n",
    "\n",
    "        mangaerecipe = mangaerecipe.append(insert_data)\n",
    "\n",
    "    except KeyError as e: # error뜬거는 포함 안하고 저장됨 (error 뜨는거 찾을 때 마다 그냥 넣어버리기)\n",
    "        print(k, i)\n",
    "    except AttributeError as a: \n",
    "        print(a ,i)\n",
    "    except IndexError as e:\n",
    "        print(e,i)\n",
    "    except TypeError as t:\n",
    "        print(t, i)"
   ]
  },
  {
   "cell_type": "code",
   "execution_count": null,
   "metadata": {
    "hidden": true
   },
   "outputs": [],
   "source": [
    "mangaerecipe.shape\n",
    "mangaerecipe.head()"
   ]
  },
  {
   "cell_type": "code",
   "execution_count": null,
   "metadata": {
    "hidden": true
   },
   "outputs": [],
   "source": [
    "mangaerecipe.to_csv('mangaerecipe.csv',encoding='utf-8-sig')"
   ]
  },
  {
   "cell_type": "markdown",
   "metadata": {
    "heading_collapsed": true,
    "hidden": true
   },
   "source": [
    "## 산적 TV -248개"
   ]
  },
  {
   "cell_type": "code",
   "execution_count": null,
   "metadata": {
    "hidden": true
   },
   "outputs": [],
   "source": [
    "# 원하는 유튜버 '동영상'에 들어가기 \n",
    "driver = webdriver.Chrome('@needs_for_you/chromedriver.exe')\n",
    "driver.get('https://www.youtube.com/channel/UCdfhK0yIMjmhcQ3gP-qpXRw/videos')\n",
    "body = driver.find_element_by_tag_name('body')\n",
    "driver.maximize_window()\n",
    "time.sleep(1.5)#브라우저 로딩시간기다려야함\n",
    "\n",
    "# 유튜브는 스크롤해야 전체를 볼 수 있음 \n",
    "endk = 150\n",
    "while endk:\n",
    "    driver.find_element_by_tag_name('body').send_keys(Keys.END)\n",
    "    time.sleep(0.3)\n",
    "    endk -= 1   \n",
    "    \n",
    "start_page = driver.page_source \n",
    "soup = BeautifulSoup(start_page,'lxml') # 전체 영상 목록의 page-source 이니 soup으로\n",
    "\n",
    "# 각 영상 페이지의 url 모음\n",
    "video_list = soup.find_all('ytd-grid-video-renderer',{'class':'style-scope ytd-grid-renderer'})\n",
    "\n",
    "sanjuck_url= []\n",
    "base_url = 'http://www.youtube.com'\n",
    "for i in range(len(video_list)):\n",
    "    url = base_url+video_list[i].find('a',{'id':'thumbnail'})['href']\n",
    "    sanjuck_url.append(url)"
   ]
  },
  {
   "cell_type": "code",
   "execution_count": null,
   "metadata": {
    "hidden": true
   },
   "outputs": [],
   "source": [
    "len(sanjuck_url)"
   ]
  },
  {
   "cell_type": "code",
   "execution_count": null,
   "metadata": {
    "hidden": true
   },
   "outputs": [],
   "source": [
    "sanjuck = pd.DataFrame({'channel_name' :[],\n",
    "                           'subscribers' : [],\n",
    "                           'thumbnail' :[],\n",
    "                           'video_name':[],\n",
    "                           'video_length':[],\n",
    "                           'upload_date':[],\n",
    "                           'hits' :[],\n",
    "                           'likes_num':[],\n",
    "                           'dislikes_num':[],\n",
    "                           'category':[] })\n",
    "\n",
    "for i in range(0,len(sanjuck_url)):\n",
    "    \n",
    "    try : \n",
    "        channel_name = soup.find('title').text\n",
    "        subscribers = soup.find('yt-formatted-string',{'id':'subscriber-count'}).text\n",
    "        thumbnail = video_list[i].find('img', {'src' : True})['src']        \n",
    "        video_name = video_list[i].find('a',{'id':'video-title'}).text\n",
    "        video_length = video_list[i].find('span', {'class':'style-scope ytd-thumbnail-overlay-time-status-renderer'}).text.split('\\n')[1]\n",
    "\n",
    "        # 각 동영상 페이지 들어가기 시작 \n",
    "        start_url = sanjuck_url[i]\n",
    "        driver.get(start_url) \n",
    "        body = driver.find_element_by_tag_name('body')\n",
    "\n",
    "        time.sleep(1.5)\n",
    "\n",
    "        # 댓글까지 쭉 보려면 스크롤\n",
    "        endk = 1 # 5번 내림\n",
    "        while endk:\n",
    "            driver.find_element_by_tag_name('body').send_keys(Keys.END)\n",
    "            time.sleep(0.3) # 내리는 시간 간격 \n",
    "            endk -= 1    \n",
    "        page = driver.page_source \n",
    "        html = BeautifulSoup(page,'lxml') # 각 페이지의 page_source 이니 html로\n",
    "\n",
    "\n",
    "        # 각 동영상 페이지 들어가서 얻을 수 있는 정보\n",
    "        pre_upload_date = html.find('div',{'id':'date'})\n",
    "        upload_date = pre_upload_date.find('yt-formatted-string', {'class':'style-scope ytd-video-primary-info-renderer'}).text\n",
    "        pre_hits = html.find('yt-view-count-renderer', {'class':'style-scope ytd-video-primary-info-renderer'})\n",
    "        hits = pre_hits.find('span',{'class':'view-count style-scope yt-view-count-renderer'}).text.split()[1]\n",
    "        likes_num = html.find('yt-formatted-string',{'id':'text','class':'style-scope ytd-toggle-button-renderer style-text','aria-label':re.compile('좋아요')}).text+'개'\n",
    "        dislikes_num = html.find('yt-formatted-string',{'id':'text','class':'style-scope ytd-toggle-button-renderer style-text','aria-label':re.compile('싫어요')}).text+'개'\n",
    "        category = 'cooking' # 바꾸면됨\n",
    "\n",
    "\n",
    "        # 마지막에 모은 정보 합치기\n",
    "        insert_data = pd.DataFrame({'channel_name' :[channel_name],\n",
    "                                   'subscribers' : [subscribers],\n",
    "                                   'thumbnail' :[thumbnail],\n",
    "                                   'video_name':[video_name],\n",
    "                                   'video_length':[video_length],\n",
    "                                   'upload_date':[upload_date],\n",
    "                                   'hits' :[hits],\n",
    "                                   'likes_num':[likes_num],\n",
    "                                   'dislikes_num':[dislikes_num],\n",
    "                                   'category':[category]})\n",
    "\n",
    "        sanjuck = sanjuck.append(insert_data)\n",
    "\n",
    "    except KeyError as e: # error뜬거는 포함 안하고 저장됨 (error 뜨는거 찾을 때 마다 그냥 넣어버리기)\n",
    "        print(k, i)\n",
    "    except AttributeError as a: \n",
    "        print(a ,i)\n",
    "    except IndexError as e:\n",
    "        print(e,i)\n",
    "    except TypeError as t:\n",
    "        print(t, i)"
   ]
  },
  {
   "cell_type": "code",
   "execution_count": null,
   "metadata": {
    "hidden": true
   },
   "outputs": [],
   "source": [
    "sanjuck.shape\n",
    "sanjuck.head()"
   ]
  },
  {
   "cell_type": "code",
   "execution_count": null,
   "metadata": {
    "hidden": true
   },
   "outputs": [],
   "source": [
    "sanjuck.to_csv('sanjuck.csv',encoding='utf-8-sig')"
   ]
  },
  {
   "cell_type": "markdown",
   "metadata": {
    "heading_collapsed": true,
    "hidden": true
   },
   "source": [
    "## 최주부 -351개"
   ]
  },
  {
   "cell_type": "code",
   "execution_count": null,
   "metadata": {
    "hidden": true
   },
   "outputs": [],
   "source": [
    "# 원하는 유튜버 '동영상'에 들어가기 \n",
    "driver = webdriver.Chrome('@needs_for_you/chromedriver.exe')\n",
    "driver.get('https://www.youtube.com/channel/UCxGzGirbl7JZlTTrO7jJCLA/videos')\n",
    "body = driver.find_element_by_tag_name('body')\n",
    "driver.maximize_window()\n",
    "time.sleep(1.5)#브라우저 로딩시간기다려야함\n",
    "\n",
    "# 유튜브는 스크롤해야 전체를 볼 수 있음 \n",
    "endk = 200\n",
    "while endk:\n",
    "    driver.find_element_by_tag_name('body').send_keys(Keys.END)\n",
    "    time.sleep(0.3)\n",
    "    endk -= 1   \n",
    "    \n",
    "start_page = driver.page_source \n",
    "soup = BeautifulSoup(start_page,'lxml') # 전체 영상 목록의 page-source 이니 soup으로\n",
    "\n",
    "# 각 영상 페이지의 url 모음\n",
    "video_list = soup.find_all('ytd-grid-video-renderer',{'class':'style-scope ytd-grid-renderer'})\n",
    "\n",
    "choijubu_url= []\n",
    "base_url = 'http://www.youtube.com'\n",
    "for i in range(len(video_list)):\n",
    "    url = base_url+video_list[i].find('a',{'id':'thumbnail'})['href']\n",
    "    choijubu_url.append(url)"
   ]
  },
  {
   "cell_type": "code",
   "execution_count": null,
   "metadata": {
    "hidden": true
   },
   "outputs": [],
   "source": [
    "len(choijubu_url)"
   ]
  },
  {
   "cell_type": "code",
   "execution_count": null,
   "metadata": {
    "hidden": true
   },
   "outputs": [],
   "source": [
    "choijubu = pd.DataFrame({'channel_name' :[],\n",
    "                           'subscribers' : [],\n",
    "                           'thumbnail' :[],\n",
    "                           'video_name':[],\n",
    "                           'video_length':[],\n",
    "                           'upload_date':[],\n",
    "                           'hits' :[],\n",
    "                           'likes_num':[],\n",
    "                           'dislikes_num':[],\n",
    "                           'category':[] })\n",
    "\n",
    "for i in range(0,len(choijubu_url)):\n",
    "    \n",
    "    try : \n",
    "        channel_name = soup.find('title').text\n",
    "        subscribers = soup.find('yt-formatted-string',{'id':'subscriber-count'}).text\n",
    "        thumbnail = video_list[i].find('img', {'src' : True})['src']        \n",
    "        video_name = video_list[i].find('a',{'id':'video-title'}).text\n",
    "        video_length = video_list[i].find('span', {'class':'style-scope ytd-thumbnail-overlay-time-status-renderer'}).text.split('\\n')[1]\n",
    "\n",
    "        # 각 동영상 페이지 들어가기 시작 \n",
    "        start_url = choijubu_url[i]\n",
    "        driver.get(start_url) \n",
    "        body = driver.find_element_by_tag_name('body')\n",
    "\n",
    "        time.sleep(1.5)\n",
    "\n",
    "        # 댓글까지 쭉 보려면 스크롤\n",
    "        endk = 1 # 5번 내림\n",
    "        while endk:\n",
    "            driver.find_element_by_tag_name('body').send_keys(Keys.END)\n",
    "            time.sleep(0.3) # 내리는 시간 간격 \n",
    "            endk -= 1    \n",
    "        page = driver.page_source \n",
    "        html = BeautifulSoup(page,'lxml') # 각 페이지의 page_source 이니 html로\n",
    "\n",
    "\n",
    "        # 각 동영상 페이지 들어가서 얻을 수 있는 정보\n",
    "        pre_upload_date = html.find('div',{'id':'date'})\n",
    "        upload_date = pre_upload_date.find('yt-formatted-string', {'class':'style-scope ytd-video-primary-info-renderer'}).text\n",
    "        pre_hits = html.find('yt-view-count-renderer', {'class':'style-scope ytd-video-primary-info-renderer'})\n",
    "        hits = pre_hits.find('span',{'class':'view-count style-scope yt-view-count-renderer'}).text.split()[1]\n",
    "        likes_num = html.find('yt-formatted-string',{'id':'text','class':'style-scope ytd-toggle-button-renderer style-text','aria-label':re.compile('좋아요')}).text+'개'\n",
    "        dislikes_num = html.find('yt-formatted-string',{'id':'text','class':'style-scope ytd-toggle-button-renderer style-text','aria-label':re.compile('싫어요')}).text+'개'\n",
    "        category = 'cooking' # 바꾸면됨\n",
    "\n",
    "\n",
    "        # 마지막에 모은 정보 합치기\n",
    "        insert_data = pd.DataFrame({'channel_name' :[channel_name],\n",
    "                                   'subscribers' : [subscribers],\n",
    "                                   'thumbnail' :[thumbnail],\n",
    "                                   'video_name':[video_name],\n",
    "                                   'video_length':[video_length],\n",
    "                                   'upload_date':[upload_date],\n",
    "                                   'hits' :[hits],\n",
    "                                   'likes_num':[likes_num],\n",
    "                                   'dislikes_num':[dislikes_num],\n",
    "                                   'category':[category]})\n",
    "\n",
    "        choijubu = choijubu.append(insert_data)\n",
    "\n",
    "    except KeyError as e: # error뜬거는 포함 안하고 저장됨 (error 뜨는거 찾을 때 마다 그냥 넣어버리기)\n",
    "        print(k, i)\n",
    "    except AttributeError as a: \n",
    "        print(a ,i)\n",
    "    except IndexError as e:\n",
    "        print(e,i)\n",
    "    except TypeError as t:\n",
    "        print(t, i)"
   ]
  },
  {
   "cell_type": "code",
   "execution_count": null,
   "metadata": {
    "hidden": true
   },
   "outputs": [],
   "source": [
    "choijubu.shape\n",
    "choijubu.head()"
   ]
  },
  {
   "cell_type": "code",
   "execution_count": null,
   "metadata": {
    "hidden": true
   },
   "outputs": [],
   "source": [
    "choijubu.to_csv('choijubu.csv', encoding='utf-8-sig')"
   ]
  },
  {
   "cell_type": "markdown",
   "metadata": {
    "heading_collapsed": true,
    "hidden": true
   },
   "source": [
    "## 얌무 -478개"
   ]
  },
  {
   "cell_type": "code",
   "execution_count": null,
   "metadata": {
    "hidden": true
   },
   "outputs": [],
   "source": [
    "# 원하는 유튜버 '동영상'에 들어가기 \n",
    "driver = webdriver.Chrome('@needs_for_you/chromedriver.exe')\n",
    "driver.get('https://www.youtube.com/channel/UCO61Rl-jslhyeenfjt-NO4w/videos')\n",
    "body = driver.find_element_by_tag_name('body')\n",
    "driver.maximize_window()\n",
    "time.sleep(1.5)#브라우저 로딩시간기다려야함\n",
    "\n",
    "# 유튜브는 스크롤해야 전체를 볼 수 있음 \n",
    "endk = 250\n",
    "while endk:\n",
    "    driver.find_element_by_tag_name('body').send_keys(Keys.END)\n",
    "    time.sleep(0.3)\n",
    "    endk -= 1   \n",
    "    \n",
    "start_page = driver.page_source \n",
    "soup = BeautifulSoup(start_page,'lxml') # 전체 영상 목록의 page-source 이니 soup으로\n",
    "\n",
    "# 각 영상 페이지의 url 모음\n",
    "video_list = soup.find_all('ytd-grid-video-renderer',{'class':'style-scope ytd-grid-renderer'})\n",
    "\n",
    "yammoo_url= []\n",
    "base_url = 'http://www.youtube.com'\n",
    "for i in range(len(video_list)):\n",
    "    url = base_url+video_list[i].find('a',{'id':'thumbnail'})['href']\n",
    "    yammoo_url.append(url)"
   ]
  },
  {
   "cell_type": "code",
   "execution_count": null,
   "metadata": {
    "hidden": true
   },
   "outputs": [],
   "source": [
    "len(yammoo_url)"
   ]
  },
  {
   "cell_type": "code",
   "execution_count": null,
   "metadata": {
    "hidden": true
   },
   "outputs": [],
   "source": [
    "yammoo = pd.DataFrame({'channel_name' :[],\n",
    "                           'subscribers' : [],\n",
    "                           'thumbnail' :[],\n",
    "                           'video_name':[],\n",
    "                           'video_length':[],\n",
    "                           'upload_date':[],\n",
    "                           'hits' :[],\n",
    "                           'likes_num':[],\n",
    "                           'dislikes_num':[],\n",
    "                           'category':[] })\n",
    "\n",
    "for i in range(0,len(yammoo_url)):\n",
    "    \n",
    "    try : \n",
    "        channel_name = soup.find('title').text\n",
    "        subscribers = soup.find('yt-formatted-string',{'id':'subscriber-count'}).text\n",
    "        thumbnail = video_list[i].find('img', {'src' : True})['src']        \n",
    "        video_name = video_list[i].find('a',{'id':'video-title'}).text\n",
    "        video_length = video_list[i].find('span', {'class':'style-scope ytd-thumbnail-overlay-time-status-renderer'}).text.split('\\n')[1]\n",
    "\n",
    "        # 각 동영상 페이지 들어가기 시작 \n",
    "        start_url = yammoo_url[i]\n",
    "        driver.get(start_url) \n",
    "        body = driver.find_element_by_tag_name('body')\n",
    "\n",
    "        time.sleep(1.5)\n",
    "\n",
    "        # 댓글까지 쭉 보려면 스크롤\n",
    "        endk = 1 # 5번 내림\n",
    "        while endk:\n",
    "            driver.find_element_by_tag_name('body').send_keys(Keys.END)\n",
    "            time.sleep(0.3) # 내리는 시간 간격 \n",
    "            endk -= 1    \n",
    "        page = driver.page_source \n",
    "        html = BeautifulSoup(page,'lxml') # 각 페이지의 page_source 이니 html로\n",
    "\n",
    "\n",
    "        # 각 동영상 페이지 들어가서 얻을 수 있는 정보\n",
    "        pre_upload_date = html.find('div',{'id':'date'})\n",
    "        upload_date = pre_upload_date.find('yt-formatted-string', {'class':'style-scope ytd-video-primary-info-renderer'}).text\n",
    "        pre_hits = html.find('yt-view-count-renderer', {'class':'style-scope ytd-video-primary-info-renderer'})\n",
    "        hits = pre_hits.find('span',{'class':'view-count style-scope yt-view-count-renderer'}).text.split()[1]\n",
    "        likes_num = html.find('yt-formatted-string',{'id':'text','class':'style-scope ytd-toggle-button-renderer style-text','aria-label':re.compile('좋아요')}).text+'개'\n",
    "        dislikes_num = html.find('yt-formatted-string',{'id':'text','class':'style-scope ytd-toggle-button-renderer style-text','aria-label':re.compile('싫어요')}).text+'개'\n",
    "        category = 'cooking' # 바꾸면됨\n",
    "\n",
    "\n",
    "        # 마지막에 모은 정보 합치기\n",
    "        insert_data = pd.DataFrame({'channel_name' :[channel_name],\n",
    "                                   'subscribers' : [subscribers],\n",
    "                                   'thumbnail' :[thumbnail],\n",
    "                                   'video_name':[video_name],\n",
    "                                   'video_length':[video_length],\n",
    "                                   'upload_date':[upload_date],\n",
    "                                   'hits' :[hits],\n",
    "                                   'likes_num':[likes_num],\n",
    "                                   'dislikes_num':[dislikes_num],\n",
    "                                   'category':[category]})\n",
    "\n",
    "        yammoo  = yammoo.append(insert_data)\n",
    "\n",
    "    except KeyError as e: # error뜬거는 포함 안하고 저장됨 (error 뜨는거 찾을 때 마다 그냥 넣어버리기)\n",
    "        print(k, i)\n",
    "    except AttributeError as a: \n",
    "        print(a ,i)\n",
    "    except IndexError as e:\n",
    "        print(e,i)\n",
    "    except TypeError as t:\n",
    "        print(t, i)"
   ]
  },
  {
   "cell_type": "code",
   "execution_count": null,
   "metadata": {
    "hidden": true
   },
   "outputs": [],
   "source": [
    "yammoo.shape\n",
    "yammoo.head()"
   ]
  },
  {
   "cell_type": "code",
   "execution_count": null,
   "metadata": {
    "hidden": true
   },
   "outputs": [],
   "source": [
    "yammoo.to_csv('yammoo.csv', encoding='utf-8-sig')"
   ]
  },
  {
   "cell_type": "markdown",
   "metadata": {
    "heading_collapsed": true,
    "hidden": true
   },
   "source": [
    "## 복덩이 - 518개"
   ]
  },
  {
   "cell_type": "code",
   "execution_count": null,
   "metadata": {
    "hidden": true
   },
   "outputs": [],
   "source": [
    "# 원하는 유튜버 '동영상'에 들어가기 \n",
    "driver = webdriver.Chrome('@needs_for_you/chromedriver.exe')\n",
    "driver.get('https://www.youtube.com/channel/UC4C7HXQgnuQPsk_d1HH4SHg/videos')\n",
    "body = driver.find_element_by_tag_name('body')\n",
    "driver.maximize_window()\n",
    "time.sleep(1.5)#브라우저 로딩시간기다려야함\n",
    "\n",
    "# 유튜브는 스크롤해야 전체를 볼 수 있음 \n",
    "endk = 200\n",
    "while endk:\n",
    "    driver.find_element_by_tag_name('body').send_keys(Keys.END)\n",
    "    time.sleep(0.3)\n",
    "    endk -= 1   \n",
    "    \n",
    "start_page = driver.page_source \n",
    "soup = BeautifulSoup(start_page,'lxml') # 전체 영상 목록의 page-source 이니 soup으로\n",
    "\n",
    "# 각 영상 페이지의 url 모음\n",
    "video_list = soup.find_all('ytd-grid-video-renderer',{'class':'style-scope ytd-grid-renderer'})\n",
    "\n",
    "bokdunge_url= []\n",
    "base_url = 'http://www.youtube.com'\n",
    "for i in range(len(video_list)):\n",
    "    url = base_url+video_list[i].find('a',{'id':'thumbnail'})['href']\n",
    "    bokdunge_url.append(url)"
   ]
  },
  {
   "cell_type": "code",
   "execution_count": null,
   "metadata": {
    "hidden": true
   },
   "outputs": [],
   "source": [
    "len(bokdunge_url)"
   ]
  },
  {
   "cell_type": "code",
   "execution_count": null,
   "metadata": {
    "hidden": true
   },
   "outputs": [],
   "source": [
    "bokdunge = pd.DataFrame({'channel_name' :[],\n",
    "                           'subscribers' : [],\n",
    "                           'thumbnail' :[],\n",
    "                           'video_name':[],\n",
    "                           'video_length':[],\n",
    "                           'upload_date':[],\n",
    "                           'hits' :[],\n",
    "                           'likes_num':[],\n",
    "                           'dislikes_num':[],\n",
    "                           'category':[] })\n",
    "\n",
    "for i in range(0,len(bokdunge_url)):\n",
    "    \n",
    "    try : \n",
    "        channel_name = soup.find('title').text\n",
    "        subscribers = soup.find('yt-formatted-string',{'id':'subscriber-count'}).text\n",
    "        thumbnail = video_list[i].find('img', {'src' : True})['src']        \n",
    "        video_name = video_list[i].find('a',{'id':'video-title'}).text\n",
    "        video_length = video_list[i].find('span', {'class':'style-scope ytd-thumbnail-overlay-time-status-renderer'}).text.split('\\n')[1]\n",
    "\n",
    "        # 각 동영상 페이지 들어가기 시작 \n",
    "        start_url = bokdunge_url[i]\n",
    "        driver.get(start_url) \n",
    "        body = driver.find_element_by_tag_name('body')\n",
    "\n",
    "        time.sleep(1.5)\n",
    "\n",
    "        # 댓글까지 쭉 보려면 스크롤\n",
    "        endk = 1 # 5번 내림\n",
    "        while endk:\n",
    "            driver.find_element_by_tag_name('body').send_keys(Keys.END)\n",
    "            time.sleep(0.4) # 내리는 시간 간격 \n",
    "            endk -= 1    \n",
    "        page = driver.page_source \n",
    "        html = BeautifulSoup(page,'lxml') # 각 페이지의 page_source 이니 html로\n",
    "\n",
    "\n",
    "        # 각 동영상 페이지 들어가서 얻을 수 있는 정보\n",
    "        pre_upload_date = html.find('div',{'id':'date'})\n",
    "        upload_date = pre_upload_date.find('yt-formatted-string', {'class':'style-scope ytd-video-primary-info-renderer'}).text\n",
    "        pre_hits = html.find('yt-view-count-renderer', {'class':'style-scope ytd-video-primary-info-renderer'})\n",
    "        hits = pre_hits.find('span',{'class':'view-count style-scope yt-view-count-renderer'}).text.split()[1]\n",
    "        likes_num = html.find('yt-formatted-string',{'id':'text','class':'style-scope ytd-toggle-button-renderer style-text','aria-label':re.compile('좋아요')}).text+'개'\n",
    "        dislikes_num = html.find('yt-formatted-string',{'id':'text','class':'style-scope ytd-toggle-button-renderer style-text','aria-label':re.compile('싫어요')}).text+'개'\n",
    "        category = 'cooking' # 바꾸면됨\n",
    "\n",
    "\n",
    "        # 마지막에 모은 정보 합치기\n",
    "        insert_data = pd.DataFrame({'channel_name' :[channel_name],\n",
    "                                   'subscribers' : [subscribers],\n",
    "                                   'thumbnail' :[thumbnail],\n",
    "                                   'video_name':[video_name],\n",
    "                                   'video_length':[video_length],\n",
    "                                   'upload_date':[upload_date],\n",
    "                                   'hits' :[hits],\n",
    "                                   'likes_num':[likes_num],\n",
    "                                   'dislikes_num':[dislikes_num],\n",
    "                                   'category':[category]})\n",
    "\n",
    "        bokdunge  = bokdunge.append(insert_data)\n",
    "\n",
    "    except KeyError as e: # error뜬거는 포함 안하고 저장됨 (error 뜨는거 찾을 때 마다 그냥 넣어버리기)\n",
    "        print(k, i)\n",
    "    except AttributeError as a: \n",
    "        print(a ,i)\n",
    "    except IndexError as e:\n",
    "        print(e,i)\n",
    "    except TypeError as t:\n",
    "        print(t, i)"
   ]
  },
  {
   "cell_type": "code",
   "execution_count": null,
   "metadata": {
    "hidden": true
   },
   "outputs": [],
   "source": [
    "bokdunge.shape\n",
    "bokdunge.head()"
   ]
  },
  {
   "cell_type": "code",
   "execution_count": null,
   "metadata": {
    "hidden": true
   },
   "outputs": [],
   "source": [
    "bokdunge.to_csv('bokdunge.csv', encoding='utf-8-sig')"
   ]
  },
  {
   "cell_type": "markdown",
   "metadata": {
    "heading_collapsed": true
   },
   "source": [
    "# 전체 파일 합치기"
   ]
  },
  {
   "cell_type": "code",
   "execution_count": 4,
   "metadata": {
    "hidden": true
   },
   "outputs": [],
   "source": [
    "import glob\n",
    "import os"
   ]
  },
  {
   "cell_type": "code",
   "execution_count": 5,
   "metadata": {
    "hidden": true
   },
   "outputs": [
    {
     "data": {
      "text/plain": [
       "['C:\\\\Users\\\\LG\\\\Desktop\\\\딥러닝 과제_유튜브\\\\bokdunge.csv',\n",
       " 'C:\\\\Users\\\\LG\\\\Desktop\\\\딥러닝 과제_유튜브\\\\budongsan.csv',\n",
       " 'C:\\\\Users\\\\LG\\\\Desktop\\\\딥러닝 과제_유튜브\\\\choijubu.csv',\n",
       " 'C:\\\\Users\\\\LG\\\\Desktop\\\\딥러닝 과제_유튜브\\\\doldi.csv',\n",
       " 'C:\\\\Users\\\\LG\\\\Desktop\\\\딥러닝 과제_유튜브\\\\hankook.csv',\n",
       " 'C:\\\\Users\\\\LG\\\\Desktop\\\\딥러닝 과제_유튜브\\\\hwang.csv',\n",
       " 'C:\\\\Users\\\\LG\\\\Desktop\\\\딥러닝 과제_유튜브\\\\kangchef.csv',\n",
       " 'C:\\\\Users\\\\LG\\\\Desktop\\\\딥러닝 과제_유튜브\\\\mangaerecipe.csv',\n",
       " 'C:\\\\Users\\\\LG\\\\Desktop\\\\딥러닝 과제_유튜브\\\\sampro.csv',\n",
       " 'C:\\\\Users\\\\LG\\\\Desktop\\\\딥러닝 과제_유튜브\\\\sanjuck.csv',\n",
       " 'C:\\\\Users\\\\LG\\\\Desktop\\\\딥러닝 과제_유튜브\\\\seougwooappa.csv',\n",
       " 'C:\\\\Users\\\\LG\\\\Desktop\\\\딥러닝 과제_유튜브\\\\simbanggol.csv',\n",
       " 'C:\\\\Users\\\\LG\\\\Desktop\\\\딥러닝 과제_유튜브\\\\sinsaimdang.csv',\n",
       " 'C:\\\\Users\\\\LG\\\\Desktop\\\\딥러닝 과제_유튜브\\\\sosohwang.csv',\n",
       " 'C:\\\\Users\\\\LG\\\\Desktop\\\\딥러닝 과제_유튜브\\\\sukaworld.csv',\n",
       " 'C:\\\\Users\\\\LG\\\\Desktop\\\\딥러닝 과제_유튜브\\\\yammoo.csv',\n",
       " 'C:\\\\Users\\\\LG\\\\Desktop\\\\딥러닝 과제_유튜브\\\\yonamtv.csv']"
      ]
     },
     "execution_count": 5,
     "metadata": {},
     "output_type": "execute_result"
    }
   ],
   "source": [
    "input_file = r'C:\\Users\\LG\\Desktop\\딥러닝 과제_유튜브'\n",
    "allfile_list = glob.glob(os.path.join(input_file,'*.csv'))\n",
    "allfile_list"
   ]
  },
  {
   "cell_type": "code",
   "execution_count": 6,
   "metadata": {
    "hidden": true
   },
   "outputs": [],
   "source": [
    "all_data=[]\n",
    "for file in allfile_list:\n",
    "    df=pd.read_csv(file,encoding='utf-8-sig')\n",
    "    all_data.append(df)"
   ]
  },
  {
   "cell_type": "code",
   "execution_count": 8,
   "metadata": {
    "hidden": true
   },
   "outputs": [],
   "source": [
    "data_combine = pd.concat(all_data, axis=0, ignore_index=True)"
   ]
  },
  {
   "cell_type": "code",
   "execution_count": 12,
   "metadata": {
    "hidden": true
   },
   "outputs": [
    {
     "data": {
      "text/plain": [
       "(9817, 11)"
      ]
     },
     "execution_count": 12,
     "metadata": {},
     "output_type": "execute_result"
    },
    {
     "data": {
      "text/html": [
       "<div>\n",
       "<style scoped>\n",
       "    .dataframe tbody tr th:only-of-type {\n",
       "        vertical-align: middle;\n",
       "    }\n",
       "\n",
       "    .dataframe tbody tr th {\n",
       "        vertical-align: top;\n",
       "    }\n",
       "\n",
       "    .dataframe thead th {\n",
       "        text-align: right;\n",
       "    }\n",
       "</style>\n",
       "<table border=\"1\" class=\"dataframe\">\n",
       "  <thead>\n",
       "    <tr style=\"text-align: right;\">\n",
       "      <th></th>\n",
       "      <th>Unnamed: 0</th>\n",
       "      <th>channel_name</th>\n",
       "      <th>subscribers</th>\n",
       "      <th>thumbnail</th>\n",
       "      <th>video_name</th>\n",
       "      <th>video_length</th>\n",
       "      <th>upload_date</th>\n",
       "      <th>hits</th>\n",
       "      <th>likes_num</th>\n",
       "      <th>dislikes_num</th>\n",
       "      <th>category</th>\n",
       "    </tr>\n",
       "  </thead>\n",
       "  <tbody>\n",
       "    <tr>\n",
       "      <th>0</th>\n",
       "      <td>0</td>\n",
       "      <td>복덩이 - YouTube</td>\n",
       "      <td>구독자 10.4만명</td>\n",
       "      <td>https://i.ytimg.com/vi/al52wJgMGyI/hqdefault.jpg?sqp=-oa...</td>\n",
       "      <td>너무나맛있는 '알타리묵은지찜과' \"앞치마에그림\" Altari old paper steamed ' An...</td>\n",
       "      <td>5:11</td>\n",
       "      <td>2020. 4. 11.</td>\n",
       "      <td>1,126회</td>\n",
       "      <td>40개</td>\n",
       "      <td>1개</td>\n",
       "      <td>cooking</td>\n",
       "    </tr>\n",
       "    <tr>\n",
       "      <th>1</th>\n",
       "      <td>0</td>\n",
       "      <td>복덩이 - YouTube</td>\n",
       "      <td>구독자 10.4만명</td>\n",
       "      <td>https://i.ytimg.com/vi/-xx7shznKec/hqdefault.jpg?sqp=-oa...</td>\n",
       "      <td>헌옷으로만든 [앞치마]와 '민들레' 겉절이 'Apron' made with old clothes an...</td>\n",
       "      <td>6:56</td>\n",
       "      <td>2020. 4. 10.</td>\n",
       "      <td>1,067회</td>\n",
       "      <td>85개</td>\n",
       "      <td>3개</td>\n",
       "      <td>cooking</td>\n",
       "    </tr>\n",
       "    <tr>\n",
       "      <th>2</th>\n",
       "      <td>0</td>\n",
       "      <td>복덩이 - YouTube</td>\n",
       "      <td>구독자 10.4만명</td>\n",
       "      <td>https://i.ytimg.com/vi/m7KC7oEKKuo/hqdefault.jpg?sqp=-oa...</td>\n",
       "      <td>탈모와다이어트에 탁월한고급진 '느타리버섯볶음' 과 프로방스 창문그리기 Stir-fried 'Oyste...</td>\n",
       "      <td>4:25</td>\n",
       "      <td>2020. 4. 9.</td>\n",
       "      <td>860회</td>\n",
       "      <td>64개</td>\n",
       "      <td>0개</td>\n",
       "      <td>cooking</td>\n",
       "    </tr>\n",
       "    <tr>\n",
       "      <th>3</th>\n",
       "      <td>0</td>\n",
       "      <td>복덩이 - YouTube</td>\n",
       "      <td>구독자 10.4만명</td>\n",
       "      <td>https://i.ytimg.com/vi/FYeuMGEgNWA/hqdefault.jpg?sqp=-oa...</td>\n",
       "      <td>감기 면연력 간기능보호에 탁월한 '도라지튀김' '민들레튀김' '라벤다그리기' Fried bellflo...</td>\n",
       "      <td>6:59</td>\n",
       "      <td>2020. 4. 8.</td>\n",
       "      <td>1,116회</td>\n",
       "      <td>76개</td>\n",
       "      <td>1개</td>\n",
       "      <td>cooking</td>\n",
       "    </tr>\n",
       "    <tr>\n",
       "      <th>4</th>\n",
       "      <td>0</td>\n",
       "      <td>복덩이 - YouTube</td>\n",
       "      <td>구독자 10.4만명</td>\n",
       "      <td>https://i.ytimg.com/vi/UjLKW2fjkyA/hqdefault.jpg?sqp=-oa...</td>\n",
       "      <td>진달래화전 부침 복덩이표 바삭바삭한  쫀득쫀득비법공개</td>\n",
       "      <td>4:47</td>\n",
       "      <td>2020. 4. 7.</td>\n",
       "      <td>622회</td>\n",
       "      <td>47개</td>\n",
       "      <td>2개</td>\n",
       "      <td>cooking</td>\n",
       "    </tr>\n",
       "  </tbody>\n",
       "</table>\n",
       "</div>"
      ],
      "text/plain": [
       "   Unnamed: 0   channel_name subscribers  \\\n",
       "0           0  복덩이 - YouTube  구독자 10.4만명   \n",
       "1           0  복덩이 - YouTube  구독자 10.4만명   \n",
       "2           0  복덩이 - YouTube  구독자 10.4만명   \n",
       "3           0  복덩이 - YouTube  구독자 10.4만명   \n",
       "4           0  복덩이 - YouTube  구독자 10.4만명   \n",
       "\n",
       "                                                     thumbnail  \\\n",
       "0  https://i.ytimg.com/vi/al52wJgMGyI/hqdefault.jpg?sqp=-oa...   \n",
       "1  https://i.ytimg.com/vi/-xx7shznKec/hqdefault.jpg?sqp=-oa...   \n",
       "2  https://i.ytimg.com/vi/m7KC7oEKKuo/hqdefault.jpg?sqp=-oa...   \n",
       "3  https://i.ytimg.com/vi/FYeuMGEgNWA/hqdefault.jpg?sqp=-oa...   \n",
       "4  https://i.ytimg.com/vi/UjLKW2fjkyA/hqdefault.jpg?sqp=-oa...   \n",
       "\n",
       "                                                    video_name video_length  \\\n",
       "0  너무나맛있는 '알타리묵은지찜과' \"앞치마에그림\" Altari old paper steamed ' An...         5:11   \n",
       "1  헌옷으로만든 [앞치마]와 '민들레' 겉절이 'Apron' made with old clothes an...         6:56   \n",
       "2  탈모와다이어트에 탁월한고급진 '느타리버섯볶음' 과 프로방스 창문그리기 Stir-fried 'Oyste...         4:25   \n",
       "3  감기 면연력 간기능보호에 탁월한 '도라지튀김' '민들레튀김' '라벤다그리기' Fried bellflo...         6:59   \n",
       "4                                진달래화전 부침 복덩이표 바삭바삭한  쫀득쫀득비법공개         4:47   \n",
       "\n",
       "    upload_date    hits likes_num dislikes_num category  \n",
       "0  2020. 4. 11.  1,126회       40개           1개  cooking  \n",
       "1  2020. 4. 10.  1,067회       85개           3개  cooking  \n",
       "2   2020. 4. 9.    860회       64개           0개  cooking  \n",
       "3   2020. 4. 8.  1,116회       76개           1개  cooking  \n",
       "4   2020. 4. 7.    622회       47개           2개  cooking  "
      ]
     },
     "execution_count": 12,
     "metadata": {},
     "output_type": "execute_result"
    }
   ],
   "source": [
    "data_combine.shape\n",
    "data_combine.head()"
   ]
  },
  {
   "cell_type": "code",
   "execution_count": 13,
   "metadata": {
    "hidden": true
   },
   "outputs": [],
   "source": [
    "data_combine.to_csv('cooking_economy.csv', encoding='utf-8-sig')"
   ]
  }
 ],
 "metadata": {
  "kernelspec": {
   "display_name": "Python 3",
   "language": "python",
   "name": "python3"
  },
  "language_info": {
   "codemirror_mode": {
    "name": "ipython",
    "version": 3
   },
   "file_extension": ".py",
   "mimetype": "text/x-python",
   "name": "python",
   "nbconvert_exporter": "python",
   "pygments_lexer": "ipython3",
   "version": "3.7.3"
  }
 },
 "nbformat": 4,
 "nbformat_minor": 2
}
