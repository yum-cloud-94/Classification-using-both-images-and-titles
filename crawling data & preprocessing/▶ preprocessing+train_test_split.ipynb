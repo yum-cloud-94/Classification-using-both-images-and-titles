{
 "cells": [
  {
   "cell_type": "code",
   "execution_count": 1,
   "metadata": {},
   "outputs": [
    {
     "data": {
      "text/html": [
       "<style>.container { width:100% !important; }</style>"
      ],
      "text/plain": [
       "<IPython.core.display.HTML object>"
      ]
     },
     "metadata": {},
     "output_type": "display_data"
    }
   ],
   "source": [
    "import glob\n",
    "import os\n",
    "\n",
    "import pandas as pd\n",
    "from IPython.core.display import display, HTML\n",
    "display(HTML(\"<style>.container { width:100% !important; }</style>\"))\n",
    "\n",
    "pd.set_option('display.max.colwidth',60)\n",
    "pd.options.display.max_columns = 100\n",
    "\n",
    "from IPython.core.interactiveshell import InteractiveShell\n",
    "InteractiveShell.ast_node_interactivity = \"all\""
   ]
  },
  {
   "cell_type": "markdown",
   "metadata": {},
   "source": [
    "# 전체 데이터셋 구성 \n",
    "- cooking / economy / game / movie / pets /sports / politics\n"
   ]
  },
  {
   "cell_type": "code",
   "execution_count": 2,
   "metadata": {},
   "outputs": [
    {
     "data": {
      "text/plain": [
       "['C:\\\\Users\\\\LG\\\\Desktop\\\\딥러닝 과제_유튜브/@data\\\\cooking_economy.csv',\n",
       " 'C:\\\\Users\\\\LG\\\\Desktop\\\\딥러닝 과제_유튜브/@data\\\\game.csv',\n",
       " 'C:\\\\Users\\\\LG\\\\Desktop\\\\딥러닝 과제_유튜브/@data\\\\movie.csv',\n",
       " 'C:\\\\Users\\\\LG\\\\Desktop\\\\딥러닝 과제_유튜브/@data\\\\pets2.csv',\n",
       " 'C:\\\\Users\\\\LG\\\\Desktop\\\\딥러닝 과제_유튜브/@data\\\\politics.csv',\n",
       " 'C:\\\\Users\\\\LG\\\\Desktop\\\\딥러닝 과제_유튜브/@data\\\\sports.csv']"
      ]
     },
     "execution_count": 2,
     "metadata": {},
     "output_type": "execute_result"
    }
   ],
   "source": [
    "input_file = r'C:\\Users\\LG\\Desktop\\딥러닝 과제_유튜브/@data'\n",
    "allfile_list = glob.glob(os.path.join(input_file,'*.csv'))\n",
    "allfile_list"
   ]
  },
  {
   "cell_type": "code",
   "execution_count": 3,
   "metadata": {
    "scrolled": true
   },
   "outputs": [
    {
     "data": {
      "text/plain": [
       "(34685, 13)"
      ]
     },
     "execution_count": 3,
     "metadata": {},
     "output_type": "execute_result"
    },
    {
     "data": {
      "text/html": [
       "<div>\n",
       "<style scoped>\n",
       "    .dataframe tbody tr th:only-of-type {\n",
       "        vertical-align: middle;\n",
       "    }\n",
       "\n",
       "    .dataframe tbody tr th {\n",
       "        vertical-align: top;\n",
       "    }\n",
       "\n",
       "    .dataframe thead th {\n",
       "        text-align: right;\n",
       "    }\n",
       "</style>\n",
       "<table border=\"1\" class=\"dataframe\">\n",
       "  <thead>\n",
       "    <tr style=\"text-align: right;\">\n",
       "      <th></th>\n",
       "      <th>Unnamed: 0</th>\n",
       "      <th>Unnamed: 0.1</th>\n",
       "      <th>channel_name</th>\n",
       "      <th>subscribers</th>\n",
       "      <th>thumbnail</th>\n",
       "      <th>video_name</th>\n",
       "      <th>video_length</th>\n",
       "      <th>upload_date</th>\n",
       "      <th>hits</th>\n",
       "      <th>likes_num</th>\n",
       "      <th>dislikes_num</th>\n",
       "      <th>category</th>\n",
       "      <th>Unnamed: 0.1.1</th>\n",
       "    </tr>\n",
       "  </thead>\n",
       "  <tbody>\n",
       "    <tr>\n",
       "      <th>0</th>\n",
       "      <td>0.0</td>\n",
       "      <td>0.0</td>\n",
       "      <td>복덩이 - YouTube</td>\n",
       "      <td>구독자 10.4만명</td>\n",
       "      <td>https://i.ytimg.com/vi/al52wJgMGyI/hqdefault.jpg?sqp=-oa...</td>\n",
       "      <td>너무나맛있는 '알타리묵은지찜과' \"앞치마에그림\" Altari old paper steamed ' An...</td>\n",
       "      <td>5:11</td>\n",
       "      <td>2020. 4. 11.</td>\n",
       "      <td>1,126회</td>\n",
       "      <td>40개</td>\n",
       "      <td>1개</td>\n",
       "      <td>cooking</td>\n",
       "      <td>NaN</td>\n",
       "    </tr>\n",
       "    <tr>\n",
       "      <th>1</th>\n",
       "      <td>1.0</td>\n",
       "      <td>0.0</td>\n",
       "      <td>복덩이 - YouTube</td>\n",
       "      <td>구독자 10.4만명</td>\n",
       "      <td>https://i.ytimg.com/vi/-xx7shznKec/hqdefault.jpg?sqp=-oa...</td>\n",
       "      <td>헌옷으로만든 [앞치마]와 '민들레' 겉절이 'Apron' made with old clothes an...</td>\n",
       "      <td>6:56</td>\n",
       "      <td>2020. 4. 10.</td>\n",
       "      <td>1,067회</td>\n",
       "      <td>85개</td>\n",
       "      <td>3개</td>\n",
       "      <td>cooking</td>\n",
       "      <td>NaN</td>\n",
       "    </tr>\n",
       "    <tr>\n",
       "      <th>2</th>\n",
       "      <td>2.0</td>\n",
       "      <td>0.0</td>\n",
       "      <td>복덩이 - YouTube</td>\n",
       "      <td>구독자 10.4만명</td>\n",
       "      <td>https://i.ytimg.com/vi/m7KC7oEKKuo/hqdefault.jpg?sqp=-oa...</td>\n",
       "      <td>탈모와다이어트에 탁월한고급진 '느타리버섯볶음' 과 프로방스 창문그리기 Stir-fried 'Oyste...</td>\n",
       "      <td>4:25</td>\n",
       "      <td>2020. 4. 9.</td>\n",
       "      <td>860회</td>\n",
       "      <td>64개</td>\n",
       "      <td>0개</td>\n",
       "      <td>cooking</td>\n",
       "      <td>NaN</td>\n",
       "    </tr>\n",
       "    <tr>\n",
       "      <th>3</th>\n",
       "      <td>3.0</td>\n",
       "      <td>0.0</td>\n",
       "      <td>복덩이 - YouTube</td>\n",
       "      <td>구독자 10.4만명</td>\n",
       "      <td>https://i.ytimg.com/vi/FYeuMGEgNWA/hqdefault.jpg?sqp=-oa...</td>\n",
       "      <td>감기 면연력 간기능보호에 탁월한 '도라지튀김' '민들레튀김' '라벤다그리기' Fried bellflo...</td>\n",
       "      <td>6:59</td>\n",
       "      <td>2020. 4. 8.</td>\n",
       "      <td>1,116회</td>\n",
       "      <td>76개</td>\n",
       "      <td>1개</td>\n",
       "      <td>cooking</td>\n",
       "      <td>NaN</td>\n",
       "    </tr>\n",
       "    <tr>\n",
       "      <th>4</th>\n",
       "      <td>4.0</td>\n",
       "      <td>0.0</td>\n",
       "      <td>복덩이 - YouTube</td>\n",
       "      <td>구독자 10.4만명</td>\n",
       "      <td>https://i.ytimg.com/vi/UjLKW2fjkyA/hqdefault.jpg?sqp=-oa...</td>\n",
       "      <td>진달래화전 부침 복덩이표 바삭바삭한  쫀득쫀득비법공개</td>\n",
       "      <td>4:47</td>\n",
       "      <td>2020. 4. 7.</td>\n",
       "      <td>622회</td>\n",
       "      <td>47개</td>\n",
       "      <td>2개</td>\n",
       "      <td>cooking</td>\n",
       "      <td>NaN</td>\n",
       "    </tr>\n",
       "  </tbody>\n",
       "</table>\n",
       "</div>"
      ],
      "text/plain": [
       "   Unnamed: 0  Unnamed: 0.1   channel_name subscribers  \\\n",
       "0         0.0           0.0  복덩이 - YouTube  구독자 10.4만명   \n",
       "1         1.0           0.0  복덩이 - YouTube  구독자 10.4만명   \n",
       "2         2.0           0.0  복덩이 - YouTube  구독자 10.4만명   \n",
       "3         3.0           0.0  복덩이 - YouTube  구독자 10.4만명   \n",
       "4         4.0           0.0  복덩이 - YouTube  구독자 10.4만명   \n",
       "\n",
       "                                                     thumbnail  \\\n",
       "0  https://i.ytimg.com/vi/al52wJgMGyI/hqdefault.jpg?sqp=-oa...   \n",
       "1  https://i.ytimg.com/vi/-xx7shznKec/hqdefault.jpg?sqp=-oa...   \n",
       "2  https://i.ytimg.com/vi/m7KC7oEKKuo/hqdefault.jpg?sqp=-oa...   \n",
       "3  https://i.ytimg.com/vi/FYeuMGEgNWA/hqdefault.jpg?sqp=-oa...   \n",
       "4  https://i.ytimg.com/vi/UjLKW2fjkyA/hqdefault.jpg?sqp=-oa...   \n",
       "\n",
       "                                                    video_name video_length  \\\n",
       "0  너무나맛있는 '알타리묵은지찜과' \"앞치마에그림\" Altari old paper steamed ' An...         5:11   \n",
       "1  헌옷으로만든 [앞치마]와 '민들레' 겉절이 'Apron' made with old clothes an...         6:56   \n",
       "2  탈모와다이어트에 탁월한고급진 '느타리버섯볶음' 과 프로방스 창문그리기 Stir-fried 'Oyste...         4:25   \n",
       "3  감기 면연력 간기능보호에 탁월한 '도라지튀김' '민들레튀김' '라벤다그리기' Fried bellflo...         6:59   \n",
       "4                                진달래화전 부침 복덩이표 바삭바삭한  쫀득쫀득비법공개         4:47   \n",
       "\n",
       "    upload_date    hits likes_num dislikes_num category  Unnamed: 0.1.1  \n",
       "0  2020. 4. 11.  1,126회       40개           1개  cooking             NaN  \n",
       "1  2020. 4. 10.  1,067회       85개           3개  cooking             NaN  \n",
       "2   2020. 4. 9.    860회       64개           0개  cooking             NaN  \n",
       "3   2020. 4. 8.  1,116회       76개           1개  cooking             NaN  \n",
       "4   2020. 4. 7.    622회       47개           2개  cooking             NaN  "
      ]
     },
     "execution_count": 3,
     "metadata": {},
     "output_type": "execute_result"
    }
   ],
   "source": [
    "all_data=[]\n",
    "for file in allfile_list:\n",
    "    try : \n",
    "        df=pd.read_csv(file,encoding='utf-8')\n",
    "        all_data.append(df)\n",
    "    except UnicodeDecodeError as e:\n",
    "        e, file\n",
    "    \n",
    "data_combine = pd.concat(all_data, axis=0, ignore_index=True, sort=False)\n",
    "data_combine.shape\n",
    "data_combine.head()"
   ]
  },
  {
   "cell_type": "code",
   "execution_count": 4,
   "metadata": {
    "scrolled": true
   },
   "outputs": [
    {
     "data": {
      "text/plain": [
       "politic    6582\n",
       "cooking    5040\n",
       "sports     5028\n",
       "game       4897\n",
       "pets       4871\n",
       "economy    4777\n",
       "movie      3490\n",
       "Name: category, dtype: int64"
      ]
     },
     "execution_count": 4,
     "metadata": {},
     "output_type": "execute_result"
    }
   ],
   "source": [
    "data_combine['category'].value_counts()"
   ]
  },
  {
   "cell_type": "code",
   "execution_count": 5,
   "metadata": {},
   "outputs": [
    {
     "data": {
      "text/plain": [
       "Index(['Unnamed: 0', 'Unnamed: 0.1', 'channel_name', 'subscribers',\n",
       "       'thumbnail', 'video_name', 'video_length', 'upload_date', 'hits',\n",
       "       'likes_num', 'dislikes_num', 'category', 'Unnamed: 0.1.1'],\n",
       "      dtype='object')"
      ]
     },
     "execution_count": 5,
     "metadata": {},
     "output_type": "execute_result"
    }
   ],
   "source": [
    "data_combine.columns"
   ]
  },
  {
   "cell_type": "code",
   "execution_count": 6,
   "metadata": {},
   "outputs": [],
   "source": [
    "data_combine = data_combine[['channel_name', 'subscribers',\n",
    "               'thumbnail', 'video_name', 'video_length', 'upload_date', 'hits',\n",
    "               'likes_num', 'dislikes_num', 'category']]"
   ]
  },
  {
   "cell_type": "code",
   "execution_count": 7,
   "metadata": {},
   "outputs": [],
   "source": [
    "data_combine.to_csv('total_dataset.csv',encoding='utf-8-sig')"
   ]
  },
  {
   "cell_type": "markdown",
   "metadata": {},
   "source": [
    "# 데이터 전처리"
   ]
  },
  {
   "cell_type": "code",
   "execution_count": 8,
   "metadata": {},
   "outputs": [],
   "source": [
    "df = data_combine"
   ]
  },
  {
   "cell_type": "markdown",
   "metadata": {},
   "source": [
    "- channel_name"
   ]
  },
  {
   "cell_type": "code",
   "execution_count": 9,
   "metadata": {},
   "outputs": [
    {
     "data": {
      "text/plain": [
       "array(['복덩이 - YouTube', '부동산 읽어주는 남자 - YouTube',\n",
       "       '최주부 Choi JuBu - YouTube', '돌디 - YouTube', '한국경제TV - YouTube',\n",
       "       '황소장의 부동산팩폭 - YouTube', '강쉪 - YouTube',\n",
       "       '만개의레시피 10K Recipe - YouTube', '삼프로TV_경제의신과함께 - YouTube',\n",
       "       '산적TV 밥굽남 - YouTube', '승우아빠 - YouTube',\n",
       "       '심방골주부Korean Food Recipes - YouTube', '신사임당 - YouTube',\n",
       "       '소소황 Cook & Eat - YouTube', '슈카월드 - YouTube', '얌무YAMMoo - YouTube',\n",
       "       '취미로 요리하는 남자 Yonam - YouTube', '김재원의 즐거운게임 세상 - YouTube',\n",
       "       'SUNBA선바 - YouTube', '우왁굳의 게임방송 - YouTube', '백수골방 - YouTube',\n",
       "       'B Man 삐맨 - YouTube', '라이너의 컬쳐쇼크 - YouTube', '김시선 - YouTube',\n",
       "       '김스카이 - YouTube', '뭅뭅 - YouTube', '발없는새 - YouTube',\n",
       "       '빨강도깨비 - YouTube', 'Arirang은 고양이들내가 주인 - YouTube',\n",
       "       '냥이아빠 - YouTube', '22똥괭이네 - YouTube', '갑수목장gabsupasture - YouTube',\n",
       "       '시바견 곰이탱이여우 - YouTube', 'haha ha - YouTube', '김메주와 고양이들 - YouTube',\n",
       "       '밀키와 복이MilkyBoki - YouTube', 'mochamilk - YouTube',\n",
       "       '모찌모찌 mochi - YouTube', '속삭이는몽자 - YouTube', '뭉땡뭉땡 - YouTube',\n",
       "       '소녀의행성 - YouTube', 'BJ톨 - YouTube', '조갑제TV - YouTube',\n",
       "       '정치합시다 - YouTube', '김영호교수의세상읽기 - YouTube', '가로세로연구소 - YouTube',\n",
       "       '신의한수 - YouTube', '시사타파TV - YouTube', '뽈인러브 - YouTube',\n",
       "       '차도르 - YouTube', '프로동네야구 PDB - YouTube', '꽁병지tv - YouTube',\n",
       "       'JK 아트사커 온라인 - YouTube', '키다리형 - YouTube', '럽볼LoveBall - YouTube',\n",
       "       'ROAD FIGHTING CHAMPIONSHIP - YouTube', '석꾸축꾸 - YouTube',\n",
       "       '하승진 - YouTube', 'Shoot for Love 슛포러브 - YouTube',\n",
       "       '터치플레이TOUCH PLAY - YouTube', '트리거15초 - YouTube', '야신야덕 - YouTube'],\n",
       "      dtype=object)"
      ]
     },
     "execution_count": 9,
     "metadata": {},
     "output_type": "execute_result"
    },
    {
     "data": {
      "text/plain": [
       "array(['복덩이 ', '부동산 읽어주는 남자 ', '최주부 Choi JuBu ', '돌디 ', '한국경제TV ',\n",
       "       '황소장의 부동산팩폭 ', '강쉪 ', '만개의레시피 10K Recipe ', '삼프로TV_경제의신과함께 ',\n",
       "       '산적TV 밥굽남 ', '승우아빠 ', '심방골주부Korean Food Recipes ', '신사임당 ',\n",
       "       '소소황 Cook & Eat ', '슈카월드 ', '얌무YAMMoo ', '취미로 요리하는 남자 Yonam ',\n",
       "       '김재원의 즐거운게임 세상 ', 'SUNBA선바 ', '우왁굳의 게임방송 ', '백수골방 ', 'B Man 삐맨 ',\n",
       "       '라이너의 컬쳐쇼크 ', '김시선 ', '김스카이 ', '뭅뭅 ', '발없는새 ', '빨강도깨비 ',\n",
       "       'Arirang은 고양이들내가 주인 ', '냥이아빠 ', '22똥괭이네 ', '갑수목장gabsupasture ',\n",
       "       '시바견 곰이탱이여우 ', 'haha ha ', '김메주와 고양이들 ', '밀키와 복이MilkyBoki ',\n",
       "       'mochamilk ', '모찌모찌 mochi ', '속삭이는몽자 ', '뭉땡뭉땡 ', '소녀의행성 ', 'BJ톨 ',\n",
       "       '조갑제TV ', '정치합시다 ', '김영호교수의세상읽기 ', '가로세로연구소 ', '신의한수 ', '시사타파TV ',\n",
       "       '뽈인러브 ', '차도르 ', '프로동네야구 PDB ', '꽁병지tv ', 'JK 아트사커 온라인 ', '키다리형 ',\n",
       "       '럽볼LoveBall ', 'ROAD FIGHTING CHAMPIONSHIP ', '석꾸축꾸 ', '하승진 ',\n",
       "       'Shoot for Love 슛포러브 ', '터치플레이TOUCH PLAY ', '트리거15초 ', '야신야덕 '],\n",
       "      dtype=object)"
      ]
     },
     "execution_count": 9,
     "metadata": {},
     "output_type": "execute_result"
    }
   ],
   "source": [
    "df.channel_name.unique()\n",
    "df['channel_name'] = df['channel_name'].apply(lambda x: x.split('-')[0])\n",
    "df.channel_name.unique()"
   ]
  },
  {
   "cell_type": "markdown",
   "metadata": {},
   "source": [
    "- subscribers"
   ]
  },
  {
   "cell_type": "code",
   "execution_count": 10,
   "metadata": {},
   "outputs": [
    {
     "data": {
      "text/plain": [
       "array(['구독자 10.4만명', '구독자 39.1만명', '구독자 19.1만명', '구독자 23.6만명',\n",
       "       '구독자 26.1만명', '구독자 6.19만명', '구독자 21.4만명', '구독자 36.1만명',\n",
       "       '구독자 32.5만명', '구독자 73.5만명', '구독자 46.8만명', '구독자 36.7만명',\n",
       "       '구독자 68.8만명', '구독자 13.1만명', '구독자 63.1만명', '구독자 101만명',\n",
       "       '구독자 56.6만명', '구독자 161만명', '구독자 71.4만명', '구독자 93.8만명',\n",
       "       '구독자 38.4만명', '구독자 79.6만명', '구독자 23.1만명', '구독자 80.9만명',\n",
       "       '구독자 24.8만명', '구독자 35.4만명', '구독자 28.8만명', '구독자 72.8만명',\n",
       "       '구독자 55.1만명', '구독자 60.6만명', '구독자 22.8만명', '구독자 48.8만명',\n",
       "       '구독자 49.5만명', '구독자 64.4만명', '구독자 54.4만명', '구독자 95.5만명',\n",
       "       '구독자 99.6만명', '구독자 1.54만명', '구독자 45.5만명', '구독자 30.6만명',\n",
       "       '구독자 83.4만명', '구독자 17.5만명', '구독자 38.8만명', '구독자 12.3만명',\n",
       "       '구독자 17.6만명', '구독자 56.1만명', '구독자 123만명', '구독자 38.5만명',\n",
       "       '구독자 13.3만명', '구독자 31.1만명', '구독자 24.3만명', '구독자 33.6만명',\n",
       "       '구독자 65.1만명', '구독자 44만명', '구독자 14.9만명', '구독자 39.9만명', '구독자 45.4만명',\n",
       "       '구독자 19.3만명', '구독자 119만명', '구독자 16만명', '구독자 11만명'], dtype=object)"
      ]
     },
     "execution_count": 10,
     "metadata": {},
     "output_type": "execute_result"
    }
   ],
   "source": [
    "df['subscribers'].unique()"
   ]
  },
  {
   "cell_type": "code",
   "execution_count": 11,
   "metadata": {},
   "outputs": [],
   "source": [
    "df['subscribers'] = df['subscribers'].apply(lambda x: x.split(' ')[1])\n",
    "df['subscribers'] = df['subscribers'].replace('[\\.]', '', regex=True) "
   ]
  },
  {
   "cell_type": "code",
   "execution_count": 12,
   "metadata": {},
   "outputs": [],
   "source": [
    "df['subscribers'] = df['subscribers'].replace('[\\만명]', '', regex=True) "
   ]
  },
  {
   "cell_type": "code",
   "execution_count": 13,
   "metadata": {},
   "outputs": [
    {
     "data": {
      "text/plain": [
       "0    104000\n",
       "1    104000\n",
       "2    104000\n",
       "3    104000\n",
       "4    104000\n",
       "Name: subscribers, dtype: int64"
      ]
     },
     "execution_count": 13,
     "metadata": {},
     "output_type": "execute_result"
    }
   ],
   "source": [
    "df['subscribers'] = pd.to_numeric(df['subscribers'],downcast='integer')\n",
    "df['subscribers'] = df['subscribers'].apply(lambda x: x*1000)\n",
    "df.subscribers.head()"
   ]
  },
  {
   "cell_type": "markdown",
   "metadata": {},
   "source": [
    "- upload_date"
   ]
  },
  {
   "cell_type": "code",
   "execution_count": 14,
   "metadata": {},
   "outputs": [
    {
     "data": {
      "text/plain": [
       "0    2020. 4. 11.\n",
       "1    2020. 4. 10.\n",
       "2     2020. 4. 9.\n",
       "3     2020. 4. 8.\n",
       "4     2020. 4. 7.\n",
       "Name: upload_date, dtype: object"
      ]
     },
     "execution_count": 14,
     "metadata": {},
     "output_type": "execute_result"
    }
   ],
   "source": [
    "df['upload_date'].head()"
   ]
  },
  {
   "cell_type": "code",
   "execution_count": 15,
   "metadata": {},
   "outputs": [
    {
     "data": {
      "text/html": [
       "<div>\n",
       "<style scoped>\n",
       "    .dataframe tbody tr th:only-of-type {\n",
       "        vertical-align: middle;\n",
       "    }\n",
       "\n",
       "    .dataframe tbody tr th {\n",
       "        vertical-align: top;\n",
       "    }\n",
       "\n",
       "    .dataframe thead th {\n",
       "        text-align: right;\n",
       "    }\n",
       "</style>\n",
       "<table border=\"1\" class=\"dataframe\">\n",
       "  <thead>\n",
       "    <tr style=\"text-align: right;\">\n",
       "      <th></th>\n",
       "      <th>channel_name</th>\n",
       "      <th>subscribers</th>\n",
       "      <th>thumbnail</th>\n",
       "      <th>video_name</th>\n",
       "      <th>video_length</th>\n",
       "      <th>upload_date</th>\n",
       "      <th>hits</th>\n",
       "      <th>likes_num</th>\n",
       "      <th>dislikes_num</th>\n",
       "      <th>category</th>\n",
       "    </tr>\n",
       "  </thead>\n",
       "  <tbody>\n",
       "    <tr>\n",
       "      <th>15234</th>\n",
       "      <td>라이너의 컬쳐쇼크</td>\n",
       "      <td>231000</td>\n",
       "      <td>https://i.ytimg.com/vi/VAkwc4mND6Y/hqdefault.jpg?sqp=-oa...</td>\n",
       "      <td>맙소사..엔딩을 보고 할 말을 잃었습니다...드디어 마지막화! : 킹덤 시즌 2-6화 리뷰</td>\n",
       "      <td>18:33</td>\n",
       "      <td>NaT</td>\n",
       "      <td>10,071회</td>\n",
       "      <td>385개</td>\n",
       "      <td>49개</td>\n",
       "      <td>movie</td>\n",
       "    </tr>\n",
       "    <tr>\n",
       "      <th>23076</th>\n",
       "      <td>BJ톨</td>\n",
       "      <td>175000</td>\n",
       "      <td>https://i.ytimg.com/vi/U4rA1-kcAMw/hqdefault.jpg?sqp=-oa...</td>\n",
       "      <td>황교안의 기적. 국민 속으로, 국민과 함께, 국민을 위하여.(200413)</td>\n",
       "      <td>1:49:03</td>\n",
       "      <td>NaT</td>\n",
       "      <td>20,265회</td>\n",
       "      <td>1.9천개</td>\n",
       "      <td>51개</td>\n",
       "      <td>politic</td>\n",
       "    </tr>\n",
       "    <tr>\n",
       "      <th>25139</th>\n",
       "      <td>정치합시다</td>\n",
       "      <td>123000</td>\n",
       "      <td>https://i.ytimg.com/vi/6WkgdLZlxdw/hqdefault.jpg?sqp=-oa...</td>\n",
       "      <td>[풀영상] 민심포차 ep.7 2부 : 총선 D-3, 제 1당 굳히기냐 뒤집기냐?</td>\n",
       "      <td>47:46</td>\n",
       "      <td>NaT</td>\n",
       "      <td>359,615회</td>\n",
       "      <td>8.3천개</td>\n",
       "      <td>272개</td>\n",
       "      <td>politic</td>\n",
       "    </tr>\n",
       "    <tr>\n",
       "      <th>25140</th>\n",
       "      <td>정치합시다</td>\n",
       "      <td>123000</td>\n",
       "      <td>https://i.ytimg.com/vi/vRybkOsJMYo/hqdefault.jpg?sqp=-oa...</td>\n",
       "      <td>[풀영상] 민심포차 ep.7 1부 : 총선 D-3, 제 1당 굳히기냐 뒤집기냐?</td>\n",
       "      <td>54:00</td>\n",
       "      <td>NaT</td>\n",
       "      <td>261,678회</td>\n",
       "      <td>6.5천개</td>\n",
       "      <td>157개</td>\n",
       "      <td>politic</td>\n",
       "    </tr>\n",
       "    <tr>\n",
       "      <th>25367</th>\n",
       "      <td>김영호교수의세상읽기</td>\n",
       "      <td>176000</td>\n",
       "      <td>https://i.ytimg.com/vi/wuWCAEkHgcM/hqdefault.jpg?sqp=-oa...</td>\n",
       "      <td>4·15총선, 남북 연방제 길 닦는 선거 될 것인가?</td>\n",
       "      <td>21:19</td>\n",
       "      <td>NaT</td>\n",
       "      <td>4,485회</td>\n",
       "      <td>865개</td>\n",
       "      <td>7개</td>\n",
       "      <td>politic</td>\n",
       "    </tr>\n",
       "    <tr>\n",
       "      <th>26424</th>\n",
       "      <td>가로세로연구소</td>\n",
       "      <td>561000</td>\n",
       "      <td>https://i.ytimg.com/vi/H95j-OxEcRI/hqdefault.jpg?sqp=-oa...</td>\n",
       "      <td>두 얼굴의 그녀 [더불당 강서갑 강선우]</td>\n",
       "      <td>2:47</td>\n",
       "      <td>NaT</td>\n",
       "      <td>34,312회</td>\n",
       "      <td>4.2천개</td>\n",
       "      <td>52개</td>\n",
       "      <td>politic</td>\n",
       "    </tr>\n",
       "    <tr>\n",
       "      <th>26425</th>\n",
       "      <td>가로세로연구소</td>\n",
       "      <td>561000</td>\n",
       "      <td>https://i.ytimg.com/vi/ohbVzVtmL6M/hqdefault.jpg?sqp=-oa...</td>\n",
       "      <td>긴급! 차명진 제명 막는 방법!</td>\n",
       "      <td>50:26</td>\n",
       "      <td>NaT</td>\n",
       "      <td>35,555회</td>\n",
       "      <td>4.1천개</td>\n",
       "      <td>151개</td>\n",
       "      <td>politic</td>\n",
       "    </tr>\n",
       "    <tr>\n",
       "      <th>26426</th>\n",
       "      <td>가로세로연구소</td>\n",
       "      <td>561000</td>\n",
       "      <td>https://i.ytimg.com/vi/KN79Bedek58/hqdefault.jpg?sqp=-oa...</td>\n",
       "      <td>세월호 쓰리썸 사건의 진실!!</td>\n",
       "      <td>58:15</td>\n",
       "      <td>NaT</td>\n",
       "      <td>116,941회</td>\n",
       "      <td>1.2만개</td>\n",
       "      <td>416개</td>\n",
       "      <td>politic</td>\n",
       "    </tr>\n",
       "    <tr>\n",
       "      <th>26427</th>\n",
       "      <td>가로세로연구소</td>\n",
       "      <td>561000</td>\n",
       "      <td>https://i.ytimg.com/vi/FVgHeGiu-Vw/hqdefault.jpg?sqp=-oa...</td>\n",
       "      <td>범여 180석? 개헌 빼고 다 가능!!</td>\n",
       "      <td>1:06:58</td>\n",
       "      <td>NaT</td>\n",
       "      <td>19,699회</td>\n",
       "      <td>2.5천개</td>\n",
       "      <td>51개</td>\n",
       "      <td>politic</td>\n",
       "    </tr>\n",
       "    <tr>\n",
       "      <th>27554</th>\n",
       "      <td>신의한수</td>\n",
       "      <td>123000</td>\n",
       "      <td>https://i.ytimg.com/vi/WNnFyap6nVU/hqdefault.jpg?sqp=-oa...</td>\n",
       "      <td>(특집방송) 정우택, 판세 역전되었다!!! / 신의한수 20.04.13</td>\n",
       "      <td>43:46</td>\n",
       "      <td>NaT</td>\n",
       "      <td>62,327회</td>\n",
       "      <td>8.2천개</td>\n",
       "      <td>77개</td>\n",
       "      <td>politic</td>\n",
       "    </tr>\n",
       "    <tr>\n",
       "      <th>27556</th>\n",
       "      <td>신의한수</td>\n",
       "      <td>123000</td>\n",
       "      <td>https://i.ytimg.com/vi/_0yng4I63Oo/hqdefault.jpg?sqp=-oa...</td>\n",
       "      <td>(특집방송) 김병준, 이해찬 왕국의 허상 박살낸다!!! / 신의한수 20.04.13</td>\n",
       "      <td>45:07</td>\n",
       "      <td>NaT</td>\n",
       "      <td>29,673회</td>\n",
       "      <td>3.2천개</td>\n",
       "      <td>53개</td>\n",
       "      <td>politic</td>\n",
       "    </tr>\n",
       "    <tr>\n",
       "      <th>27557</th>\n",
       "      <td>신의한수</td>\n",
       "      <td>123000</td>\n",
       "      <td>https://i.ytimg.com/vi/L67HGaYR8ac/hqdefault.jpg?sqp=-oa...</td>\n",
       "      <td>(특집방송) 태구민, 강남갑 폭발 인기!!! / 신의한수 20.04.13</td>\n",
       "      <td>26:20</td>\n",
       "      <td>NaT</td>\n",
       "      <td>53,015회</td>\n",
       "      <td>6.7천개</td>\n",
       "      <td>92개</td>\n",
       "      <td>politic</td>\n",
       "    </tr>\n",
       "    <tr>\n",
       "      <th>27559</th>\n",
       "      <td>신의한수</td>\n",
       "      <td>123000</td>\n",
       "      <td>https://i.ytimg.com/vi/17JjMpN1NW8/hqdefault.jpg?sqp=-oa...</td>\n",
       "      <td>(특집방송) 정용기, 코로나보다 악질인 문재인 바이러스!!! / 신의한수 20.04.13</td>\n",
       "      <td>56:50</td>\n",
       "      <td>NaT</td>\n",
       "      <td>41,832회</td>\n",
       "      <td>4.6천개</td>\n",
       "      <td>78개</td>\n",
       "      <td>politic</td>\n",
       "    </tr>\n",
       "    <tr>\n",
       "      <th>27561</th>\n",
       "      <td>신의한수</td>\n",
       "      <td>123000</td>\n",
       "      <td>https://i.ytimg.com/vi/P0UeLOpgO5w/hqdefault.jpg?sqp=-oa...</td>\n",
       "      <td>차명진, 빅데이터 분석 대박 쳤다! (전영기 중앙일보 칼럼니스트) / 신의한수</td>\n",
       "      <td>30:47</td>\n",
       "      <td>NaT</td>\n",
       "      <td>176,303회</td>\n",
       "      <td>2만개</td>\n",
       "      <td>284개</td>\n",
       "      <td>politic</td>\n",
       "    </tr>\n",
       "    <tr>\n",
       "      <th>27562</th>\n",
       "      <td>신의한수</td>\n",
       "      <td>123000</td>\n",
       "      <td>https://i.ytimg.com/vi/7nOMq_VBgqI/hqdefault.jpg?sqp=-oa...</td>\n",
       "      <td>원유철, 미래한국당 찍고 문재인 심판하자! / 신의한수</td>\n",
       "      <td>34:50</td>\n",
       "      <td>NaT</td>\n",
       "      <td>12,180회</td>\n",
       "      <td>1.8천개</td>\n",
       "      <td>52개</td>\n",
       "      <td>politic</td>\n",
       "    </tr>\n",
       "    <tr>\n",
       "      <th>28431</th>\n",
       "      <td>시사타파TV</td>\n",
       "      <td>385000</td>\n",
       "      <td>https://i.ytimg.com/vi/C10o4k_ubNY/hqdefault.jpg?sqp=-oa...</td>\n",
       "      <td>정치클리핑 19회 - 총선 프레임 참패위기로 전환한 핑크당</td>\n",
       "      <td>1:12:38</td>\n",
       "      <td>NaT</td>\n",
       "      <td>33,760회</td>\n",
       "      <td>4.1천개</td>\n",
       "      <td>72개</td>\n",
       "      <td>politic</td>\n",
       "    </tr>\n",
       "    <tr>\n",
       "      <th>28434</th>\n",
       "      <td>시사타파TV</td>\n",
       "      <td>385000</td>\n",
       "      <td>https://i.ytimg.com/vi/fne0F592ktQ/hqdefault.jpg?sqp=-oa...</td>\n",
       "      <td>배현진 아웃!! 최재성 서울 송파구(을) 후보 집중유세현장</td>\n",
       "      <td>36:55</td>\n",
       "      <td>NaT</td>\n",
       "      <td>33,273회</td>\n",
       "      <td>4.1천개</td>\n",
       "      <td>58개</td>\n",
       "      <td>politic</td>\n",
       "    </tr>\n",
       "    <tr>\n",
       "      <th>28437</th>\n",
       "      <td>시사타파TV</td>\n",
       "      <td>385000</td>\n",
       "      <td>https://i.ytimg.com/vi/Ymzk--On0i8/hqdefault.jpg?sqp=-oa...</td>\n",
       "      <td>주요격전지 현장LIVE - 맹성규 인천 남동구(갑) 후보 / 허종식, 남영희 인천 동구 미추홀구(갑,...</td>\n",
       "      <td>1:37:30</td>\n",
       "      <td>NaT</td>\n",
       "      <td>22,083회</td>\n",
       "      <td>2.8천개</td>\n",
       "      <td>38개</td>\n",
       "      <td>politic</td>\n",
       "    </tr>\n",
       "    <tr>\n",
       "      <th>29871</th>\n",
       "      <td>차도르</td>\n",
       "      <td>311000</td>\n",
       "      <td>https://i.ytimg.com/vi/AnXpyuStx5k/hqdefault.jpg?sqp=-oa...</td>\n",
       "      <td>핵펀치 황빠다 vs 승률 100% 개미지옥 !!!</td>\n",
       "      <td>19:21</td>\n",
       "      <td>NaT</td>\n",
       "      <td>10,458회</td>\n",
       "      <td>88개</td>\n",
       "      <td>12개</td>\n",
       "      <td>sports</td>\n",
       "    </tr>\n",
       "  </tbody>\n",
       "</table>\n",
       "</div>"
      ],
      "text/plain": [
       "      channel_name  subscribers  \\\n",
       "15234   라이너의 컬쳐쇼크        231000   \n",
       "23076         BJ톨        175000   \n",
       "25139       정치합시다        123000   \n",
       "25140       정치합시다        123000   \n",
       "25367  김영호교수의세상읽기        176000   \n",
       "26424     가로세로연구소        561000   \n",
       "26425     가로세로연구소        561000   \n",
       "26426     가로세로연구소        561000   \n",
       "26427     가로세로연구소        561000   \n",
       "27554        신의한수        123000   \n",
       "27556        신의한수        123000   \n",
       "27557        신의한수        123000   \n",
       "27559        신의한수        123000   \n",
       "27561        신의한수        123000   \n",
       "27562        신의한수        123000   \n",
       "28431      시사타파TV        385000   \n",
       "28434      시사타파TV        385000   \n",
       "28437      시사타파TV        385000   \n",
       "29871         차도르        311000   \n",
       "\n",
       "                                                         thumbnail  \\\n",
       "15234  https://i.ytimg.com/vi/VAkwc4mND6Y/hqdefault.jpg?sqp=-oa...   \n",
       "23076  https://i.ytimg.com/vi/U4rA1-kcAMw/hqdefault.jpg?sqp=-oa...   \n",
       "25139  https://i.ytimg.com/vi/6WkgdLZlxdw/hqdefault.jpg?sqp=-oa...   \n",
       "25140  https://i.ytimg.com/vi/vRybkOsJMYo/hqdefault.jpg?sqp=-oa...   \n",
       "25367  https://i.ytimg.com/vi/wuWCAEkHgcM/hqdefault.jpg?sqp=-oa...   \n",
       "26424  https://i.ytimg.com/vi/H95j-OxEcRI/hqdefault.jpg?sqp=-oa...   \n",
       "26425  https://i.ytimg.com/vi/ohbVzVtmL6M/hqdefault.jpg?sqp=-oa...   \n",
       "26426  https://i.ytimg.com/vi/KN79Bedek58/hqdefault.jpg?sqp=-oa...   \n",
       "26427  https://i.ytimg.com/vi/FVgHeGiu-Vw/hqdefault.jpg?sqp=-oa...   \n",
       "27554  https://i.ytimg.com/vi/WNnFyap6nVU/hqdefault.jpg?sqp=-oa...   \n",
       "27556  https://i.ytimg.com/vi/_0yng4I63Oo/hqdefault.jpg?sqp=-oa...   \n",
       "27557  https://i.ytimg.com/vi/L67HGaYR8ac/hqdefault.jpg?sqp=-oa...   \n",
       "27559  https://i.ytimg.com/vi/17JjMpN1NW8/hqdefault.jpg?sqp=-oa...   \n",
       "27561  https://i.ytimg.com/vi/P0UeLOpgO5w/hqdefault.jpg?sqp=-oa...   \n",
       "27562  https://i.ytimg.com/vi/7nOMq_VBgqI/hqdefault.jpg?sqp=-oa...   \n",
       "28431  https://i.ytimg.com/vi/C10o4k_ubNY/hqdefault.jpg?sqp=-oa...   \n",
       "28434  https://i.ytimg.com/vi/fne0F592ktQ/hqdefault.jpg?sqp=-oa...   \n",
       "28437  https://i.ytimg.com/vi/Ymzk--On0i8/hqdefault.jpg?sqp=-oa...   \n",
       "29871  https://i.ytimg.com/vi/AnXpyuStx5k/hqdefault.jpg?sqp=-oa...   \n",
       "\n",
       "                                                        video_name  \\\n",
       "15234           맙소사..엔딩을 보고 할 말을 잃었습니다...드디어 마지막화! : 킹덤 시즌 2-6화 리뷰   \n",
       "23076                    황교안의 기적. 국민 속으로, 국민과 함께, 국민을 위하여.(200413)   \n",
       "25139                 [풀영상] 민심포차 ep.7 2부 : 총선 D-3, 제 1당 굳히기냐 뒤집기냐?   \n",
       "25140                 [풀영상] 민심포차 ep.7 1부 : 총선 D-3, 제 1당 굳히기냐 뒤집기냐?   \n",
       "25367                                4·15총선, 남북 연방제 길 닦는 선거 될 것인가?   \n",
       "26424                                       두 얼굴의 그녀 [더불당 강서갑 강선우]   \n",
       "26425                                            긴급! 차명진 제명 막는 방법!   \n",
       "26426                                             세월호 쓰리썸 사건의 진실!!   \n",
       "26427                                        범여 180석? 개헌 빼고 다 가능!!   \n",
       "27554                      (특집방송) 정우택, 판세 역전되었다!!! / 신의한수 20.04.13   \n",
       "27556               (특집방송) 김병준, 이해찬 왕국의 허상 박살낸다!!! / 신의한수 20.04.13   \n",
       "27557                     (특집방송) 태구민, 강남갑 폭발 인기!!! / 신의한수 20.04.13   \n",
       "27559            (특집방송) 정용기, 코로나보다 악질인 문재인 바이러스!!! / 신의한수 20.04.13   \n",
       "27561                  차명진, 빅데이터 분석 대박 쳤다! (전영기 중앙일보 칼럼니스트) / 신의한수   \n",
       "27562                               원유철, 미래한국당 찍고 문재인 심판하자! / 신의한수   \n",
       "28431                             정치클리핑 19회 - 총선 프레임 참패위기로 전환한 핑크당   \n",
       "28434                             배현진 아웃!! 최재성 서울 송파구(을) 후보 집중유세현장   \n",
       "28437  주요격전지 현장LIVE - 맹성규 인천 남동구(갑) 후보 / 허종식, 남영희 인천 동구 미추홀구(갑,...   \n",
       "29871                                  핵펀치 황빠다 vs 승률 100% 개미지옥 !!!   \n",
       "\n",
       "        video_length upload_date      hits likes_num dislikes_num category  \n",
       "15234          18:33         NaT   10,071회      385개          49개    movie  \n",
       "23076        1:49:03         NaT   20,265회     1.9천개          51개  politic  \n",
       "25139          47:46         NaT  359,615회     8.3천개         272개  politic  \n",
       "25140          54:00         NaT  261,678회     6.5천개         157개  politic  \n",
       "25367          21:19         NaT    4,485회      865개           7개  politic  \n",
       "26424           2:47         NaT   34,312회     4.2천개          52개  politic  \n",
       "26425          50:26         NaT   35,555회     4.1천개         151개  politic  \n",
       "26426          58:15         NaT  116,941회     1.2만개         416개  politic  \n",
       "26427        1:06:58         NaT   19,699회     2.5천개          51개  politic  \n",
       "27554          43:46         NaT   62,327회     8.2천개          77개  politic  \n",
       "27556          45:07         NaT   29,673회     3.2천개          53개  politic  \n",
       "27557          26:20         NaT   53,015회     6.7천개          92개  politic  \n",
       "27559          56:50         NaT   41,832회     4.6천개          78개  politic  \n",
       "27561          30:47         NaT  176,303회       2만개         284개  politic  \n",
       "27562          34:50         NaT   12,180회     1.8천개          52개  politic  \n",
       "28431        1:12:38         NaT   33,760회     4.1천개          72개  politic  \n",
       "28434          36:55         NaT   33,273회     4.1천개          58개  politic  \n",
       "28437        1:37:30         NaT   22,083회     2.8천개          38개  politic  \n",
       "29871          19:21         NaT   10,458회       88개          12개   sports  "
      ]
     },
     "execution_count": 15,
     "metadata": {},
     "output_type": "execute_result"
    }
   ],
   "source": [
    "df['upload_date'] = df['upload_date'].replace('[\\최초 공개:]','',regex=True)\n",
    "df['upload_date'] = df['upload_date'].replace('[\\실시간스트리밍시작일]','',regex=True)\n",
    "df['upload_date'] = pd.to_datetime(df['upload_date'], errors='coerce') # '4일전' -> NaN으로 우선 처리\n",
    "df.loc[df['upload_date'].isnull(),:] # 데이터 수집 날짜 - 4일전 = 2020-03.25 로 처리 \n",
    "df.loc[df['upload_date'].isnull(),'upload_date'] = '2020-03-25'\n",
    "df['upload_date'] = pd.to_datetime(df['upload_date'], errors='coerce') # 한번 더"
   ]
  },
  {
   "cell_type": "code",
   "execution_count": 16,
   "metadata": {},
   "outputs": [],
   "source": [
    "import datetime\n",
    "now = datetime.datetime.now()"
   ]
  },
  {
   "cell_type": "code",
   "execution_count": 17,
   "metadata": {
    "scrolled": true
   },
   "outputs": [],
   "source": [
    "df['upload_date'] = df['upload_date'].apply(lambda x : x - datetime.datetime.now())\n",
    "df['days_after_upload'] = df['upload_date'].apply(lambda x: x.days * -1)\n",
    "df.drop('upload_date',axis=1,inplace=True)"
   ]
  },
  {
   "cell_type": "markdown",
   "metadata": {},
   "source": [
    "- hits"
   ]
  },
  {
   "cell_type": "code",
   "execution_count": 18,
   "metadata": {},
   "outputs": [],
   "source": [
    "df['hits'] = df['hits'].replace('[\\회]','',regex=True)\n",
    "df['hits'] = df['hits'].replace('[\\,]','',regex=True)\n",
    "df['hits'] = pd.to_numeric(df['hits'], downcast='integer')"
   ]
  },
  {
   "cell_type": "markdown",
   "metadata": {},
   "source": [
    "- likes/dislikes"
   ]
  },
  {
   "cell_type": "code",
   "execution_count": 19,
   "metadata": {},
   "outputs": [],
   "source": [
    "df['likes_num'] = df['likes_num'].replace('[\\개]', '', regex=True) \n",
    "df['likes_num'] = df['likes_num'].replace('[\\.]', '', regex=True)\n",
    "df['likes_num'] = df['likes_num'].replace('[\\천]','00',regex=True)\n",
    "df['likes_num'] = df['likes_num'].replace('[\\만]','000',regex=True)\n",
    "df['likes_num'] = pd.to_numeric(df['likes_num'], downcast='integer')"
   ]
  },
  {
   "cell_type": "code",
   "execution_count": 20,
   "metadata": {},
   "outputs": [],
   "source": [
    "df['dislikes_num'] = df['dislikes_num'].replace('[\\개]','',regex=True)\n",
    "df['dislikes_num'] = df['dislikes_num'].replace('[\\.]', '', regex=True)\n",
    "df['dislikes_num'] = df['dislikes_num'].replace('[\\천]','00',regex=True)\n",
    "df['dislikes_num'] = df['dislikes_num'].replace('[\\만]','000',regex=True)\n",
    "df['dislikes_num'] = pd.to_numeric(df['dislikes_num'], downcast='integer')"
   ]
  },
  {
   "cell_type": "markdown",
   "metadata": {},
   "source": [
    "- video_length -> video_duration"
   ]
  },
  {
   "cell_type": "code",
   "execution_count": 21,
   "metadata": {},
   "outputs": [],
   "source": [
    "df['video_duration'] = df['video_length'].apply(lambda x: x.split(':'))\n",
    "df['video_duration'] = df['video_duration'].apply(lambda x : int(x[0]) * 60 + int(x[1]))"
   ]
  },
  {
   "cell_type": "markdown",
   "metadata": {},
   "source": [
    "- category ( 0: cooking , 1: economy, 2: game, 3: movie, 4: pets, 5: politics, 6:sports)"
   ]
  },
  {
   "cell_type": "code",
   "execution_count": 22,
   "metadata": {},
   "outputs": [],
   "source": [
    "df['category_id'] = df['category'].factorize()[0]"
   ]
  },
  {
   "cell_type": "code",
   "execution_count": 23,
   "metadata": {},
   "outputs": [
    {
     "data": {
      "text/plain": [
       "array([0, 0, 0, ..., 6, 6, 6], dtype=int64)"
      ]
     },
     "execution_count": 23,
     "metadata": {},
     "output_type": "execute_result"
    },
    {
     "data": {
      "text/plain": [
       "Index(['cooking', 'economy', 'game', 'movie', 'pets', 'politic', 'sports'], dtype='object')"
      ]
     },
     "execution_count": 23,
     "metadata": {},
     "output_type": "execute_result"
    }
   ],
   "source": [
    "labels, uniques = df['category'].factorize()\n",
    "labels\n",
    "uniques"
   ]
  },
  {
   "cell_type": "code",
   "execution_count": 24,
   "metadata": {},
   "outputs": [
    {
     "data": {
      "text/html": [
       "<div>\n",
       "<style scoped>\n",
       "    .dataframe tbody tr th:only-of-type {\n",
       "        vertical-align: middle;\n",
       "    }\n",
       "\n",
       "    .dataframe tbody tr th {\n",
       "        vertical-align: top;\n",
       "    }\n",
       "\n",
       "    .dataframe thead th {\n",
       "        text-align: right;\n",
       "    }\n",
       "</style>\n",
       "<table border=\"1\" class=\"dataframe\">\n",
       "  <thead>\n",
       "    <tr style=\"text-align: right;\">\n",
       "      <th></th>\n",
       "      <th>channel_name</th>\n",
       "      <th>subscribers</th>\n",
       "      <th>thumbnail</th>\n",
       "      <th>video_name</th>\n",
       "      <th>video_length</th>\n",
       "      <th>hits</th>\n",
       "      <th>likes_num</th>\n",
       "      <th>dislikes_num</th>\n",
       "      <th>category</th>\n",
       "      <th>days_after_upload</th>\n",
       "      <th>video_duration</th>\n",
       "      <th>category_id</th>\n",
       "    </tr>\n",
       "  </thead>\n",
       "  <tbody>\n",
       "    <tr>\n",
       "      <th>0</th>\n",
       "      <td>복덩이</td>\n",
       "      <td>104000</td>\n",
       "      <td>https://i.ytimg.com/vi/al52wJgMGyI/hqdefault.jpg?sqp=-oa...</td>\n",
       "      <td>너무나맛있는 '알타리묵은지찜과' \"앞치마에그림\" Altari old paper steamed ' An...</td>\n",
       "      <td>5:11</td>\n",
       "      <td>1126</td>\n",
       "      <td>40</td>\n",
       "      <td>1</td>\n",
       "      <td>cooking</td>\n",
       "      <td>10</td>\n",
       "      <td>311</td>\n",
       "      <td>0</td>\n",
       "    </tr>\n",
       "    <tr>\n",
       "      <th>1</th>\n",
       "      <td>복덩이</td>\n",
       "      <td>104000</td>\n",
       "      <td>https://i.ytimg.com/vi/-xx7shznKec/hqdefault.jpg?sqp=-oa...</td>\n",
       "      <td>헌옷으로만든 [앞치마]와 '민들레' 겉절이 'Apron' made with old clothes an...</td>\n",
       "      <td>6:56</td>\n",
       "      <td>1067</td>\n",
       "      <td>85</td>\n",
       "      <td>3</td>\n",
       "      <td>cooking</td>\n",
       "      <td>11</td>\n",
       "      <td>416</td>\n",
       "      <td>0</td>\n",
       "    </tr>\n",
       "    <tr>\n",
       "      <th>2</th>\n",
       "      <td>복덩이</td>\n",
       "      <td>104000</td>\n",
       "      <td>https://i.ytimg.com/vi/m7KC7oEKKuo/hqdefault.jpg?sqp=-oa...</td>\n",
       "      <td>탈모와다이어트에 탁월한고급진 '느타리버섯볶음' 과 프로방스 창문그리기 Stir-fried 'Oyste...</td>\n",
       "      <td>4:25</td>\n",
       "      <td>860</td>\n",
       "      <td>64</td>\n",
       "      <td>0</td>\n",
       "      <td>cooking</td>\n",
       "      <td>12</td>\n",
       "      <td>265</td>\n",
       "      <td>0</td>\n",
       "    </tr>\n",
       "    <tr>\n",
       "      <th>3</th>\n",
       "      <td>복덩이</td>\n",
       "      <td>104000</td>\n",
       "      <td>https://i.ytimg.com/vi/FYeuMGEgNWA/hqdefault.jpg?sqp=-oa...</td>\n",
       "      <td>감기 면연력 간기능보호에 탁월한 '도라지튀김' '민들레튀김' '라벤다그리기' Fried bellflo...</td>\n",
       "      <td>6:59</td>\n",
       "      <td>1116</td>\n",
       "      <td>76</td>\n",
       "      <td>1</td>\n",
       "      <td>cooking</td>\n",
       "      <td>13</td>\n",
       "      <td>419</td>\n",
       "      <td>0</td>\n",
       "    </tr>\n",
       "    <tr>\n",
       "      <th>4</th>\n",
       "      <td>복덩이</td>\n",
       "      <td>104000</td>\n",
       "      <td>https://i.ytimg.com/vi/UjLKW2fjkyA/hqdefault.jpg?sqp=-oa...</td>\n",
       "      <td>진달래화전 부침 복덩이표 바삭바삭한  쫀득쫀득비법공개</td>\n",
       "      <td>4:47</td>\n",
       "      <td>622</td>\n",
       "      <td>47</td>\n",
       "      <td>2</td>\n",
       "      <td>cooking</td>\n",
       "      <td>14</td>\n",
       "      <td>287</td>\n",
       "      <td>0</td>\n",
       "    </tr>\n",
       "  </tbody>\n",
       "</table>\n",
       "</div>"
      ],
      "text/plain": [
       "  channel_name  subscribers  \\\n",
       "0         복덩이        104000   \n",
       "1         복덩이        104000   \n",
       "2         복덩이        104000   \n",
       "3         복덩이        104000   \n",
       "4         복덩이        104000   \n",
       "\n",
       "                                                     thumbnail  \\\n",
       "0  https://i.ytimg.com/vi/al52wJgMGyI/hqdefault.jpg?sqp=-oa...   \n",
       "1  https://i.ytimg.com/vi/-xx7shznKec/hqdefault.jpg?sqp=-oa...   \n",
       "2  https://i.ytimg.com/vi/m7KC7oEKKuo/hqdefault.jpg?sqp=-oa...   \n",
       "3  https://i.ytimg.com/vi/FYeuMGEgNWA/hqdefault.jpg?sqp=-oa...   \n",
       "4  https://i.ytimg.com/vi/UjLKW2fjkyA/hqdefault.jpg?sqp=-oa...   \n",
       "\n",
       "                                                    video_name video_length  \\\n",
       "0  너무나맛있는 '알타리묵은지찜과' \"앞치마에그림\" Altari old paper steamed ' An...         5:11   \n",
       "1  헌옷으로만든 [앞치마]와 '민들레' 겉절이 'Apron' made with old clothes an...         6:56   \n",
       "2  탈모와다이어트에 탁월한고급진 '느타리버섯볶음' 과 프로방스 창문그리기 Stir-fried 'Oyste...         4:25   \n",
       "3  감기 면연력 간기능보호에 탁월한 '도라지튀김' '민들레튀김' '라벤다그리기' Fried bellflo...         6:59   \n",
       "4                                진달래화전 부침 복덩이표 바삭바삭한  쫀득쫀득비법공개         4:47   \n",
       "\n",
       "   hits  likes_num  dislikes_num category  days_after_upload  video_duration  \\\n",
       "0  1126         40             1  cooking                 10             311   \n",
       "1  1067         85             3  cooking                 11             416   \n",
       "2   860         64             0  cooking                 12             265   \n",
       "3  1116         76             1  cooking                 13             419   \n",
       "4   622         47             2  cooking                 14             287   \n",
       "\n",
       "   category_id  \n",
       "0            0  \n",
       "1            0  \n",
       "2            0  \n",
       "3            0  \n",
       "4            0  "
      ]
     },
     "execution_count": 24,
     "metadata": {},
     "output_type": "execute_result"
    }
   ],
   "source": [
    "df.head()"
   ]
  },
  {
   "cell_type": "code",
   "execution_count": 25,
   "metadata": {
    "scrolled": true
   },
   "outputs": [
    {
     "data": {
      "text/html": [
       "<div>\n",
       "<style scoped>\n",
       "    .dataframe tbody tr th:only-of-type {\n",
       "        vertical-align: middle;\n",
       "    }\n",
       "\n",
       "    .dataframe tbody tr th {\n",
       "        vertical-align: top;\n",
       "    }\n",
       "\n",
       "    .dataframe thead th {\n",
       "        text-align: right;\n",
       "    }\n",
       "</style>\n",
       "<table border=\"1\" class=\"dataframe\">\n",
       "  <thead>\n",
       "    <tr style=\"text-align: right;\">\n",
       "      <th></th>\n",
       "      <th>channel_name</th>\n",
       "      <th>subscribers</th>\n",
       "      <th>video_name</th>\n",
       "      <th>days_after_upload</th>\n",
       "      <th>video_duration</th>\n",
       "      <th>hits</th>\n",
       "      <th>likes_num</th>\n",
       "      <th>dislikes_num</th>\n",
       "      <th>category_id</th>\n",
       "      <th>thumbnail</th>\n",
       "    </tr>\n",
       "  </thead>\n",
       "  <tbody>\n",
       "    <tr>\n",
       "      <th>0</th>\n",
       "      <td>복덩이</td>\n",
       "      <td>104000</td>\n",
       "      <td>너무나맛있는 '알타리묵은지찜과' \"앞치마에그림\" Altari old paper steamed ' An...</td>\n",
       "      <td>10</td>\n",
       "      <td>311</td>\n",
       "      <td>1126</td>\n",
       "      <td>40</td>\n",
       "      <td>1</td>\n",
       "      <td>0</td>\n",
       "      <td>https://i.ytimg.com/vi/al52wJgMGyI/hqdefault.jpg?sqp=-oa...</td>\n",
       "    </tr>\n",
       "    <tr>\n",
       "      <th>1</th>\n",
       "      <td>복덩이</td>\n",
       "      <td>104000</td>\n",
       "      <td>헌옷으로만든 [앞치마]와 '민들레' 겉절이 'Apron' made with old clothes an...</td>\n",
       "      <td>11</td>\n",
       "      <td>416</td>\n",
       "      <td>1067</td>\n",
       "      <td>85</td>\n",
       "      <td>3</td>\n",
       "      <td>0</td>\n",
       "      <td>https://i.ytimg.com/vi/-xx7shznKec/hqdefault.jpg?sqp=-oa...</td>\n",
       "    </tr>\n",
       "    <tr>\n",
       "      <th>2</th>\n",
       "      <td>복덩이</td>\n",
       "      <td>104000</td>\n",
       "      <td>탈모와다이어트에 탁월한고급진 '느타리버섯볶음' 과 프로방스 창문그리기 Stir-fried 'Oyste...</td>\n",
       "      <td>12</td>\n",
       "      <td>265</td>\n",
       "      <td>860</td>\n",
       "      <td>64</td>\n",
       "      <td>0</td>\n",
       "      <td>0</td>\n",
       "      <td>https://i.ytimg.com/vi/m7KC7oEKKuo/hqdefault.jpg?sqp=-oa...</td>\n",
       "    </tr>\n",
       "    <tr>\n",
       "      <th>3</th>\n",
       "      <td>복덩이</td>\n",
       "      <td>104000</td>\n",
       "      <td>감기 면연력 간기능보호에 탁월한 '도라지튀김' '민들레튀김' '라벤다그리기' Fried bellflo...</td>\n",
       "      <td>13</td>\n",
       "      <td>419</td>\n",
       "      <td>1116</td>\n",
       "      <td>76</td>\n",
       "      <td>1</td>\n",
       "      <td>0</td>\n",
       "      <td>https://i.ytimg.com/vi/FYeuMGEgNWA/hqdefault.jpg?sqp=-oa...</td>\n",
       "    </tr>\n",
       "    <tr>\n",
       "      <th>4</th>\n",
       "      <td>복덩이</td>\n",
       "      <td>104000</td>\n",
       "      <td>진달래화전 부침 복덩이표 바삭바삭한  쫀득쫀득비법공개</td>\n",
       "      <td>14</td>\n",
       "      <td>287</td>\n",
       "      <td>622</td>\n",
       "      <td>47</td>\n",
       "      <td>2</td>\n",
       "      <td>0</td>\n",
       "      <td>https://i.ytimg.com/vi/UjLKW2fjkyA/hqdefault.jpg?sqp=-oa...</td>\n",
       "    </tr>\n",
       "  </tbody>\n",
       "</table>\n",
       "</div>"
      ],
      "text/plain": [
       "  channel_name  subscribers  \\\n",
       "0         복덩이        104000   \n",
       "1         복덩이        104000   \n",
       "2         복덩이        104000   \n",
       "3         복덩이        104000   \n",
       "4         복덩이        104000   \n",
       "\n",
       "                                                    video_name  \\\n",
       "0  너무나맛있는 '알타리묵은지찜과' \"앞치마에그림\" Altari old paper steamed ' An...   \n",
       "1  헌옷으로만든 [앞치마]와 '민들레' 겉절이 'Apron' made with old clothes an...   \n",
       "2  탈모와다이어트에 탁월한고급진 '느타리버섯볶음' 과 프로방스 창문그리기 Stir-fried 'Oyste...   \n",
       "3  감기 면연력 간기능보호에 탁월한 '도라지튀김' '민들레튀김' '라벤다그리기' Fried bellflo...   \n",
       "4                                진달래화전 부침 복덩이표 바삭바삭한  쫀득쫀득비법공개   \n",
       "\n",
       "   days_after_upload  video_duration  hits  likes_num  dislikes_num  \\\n",
       "0                 10             311  1126         40             1   \n",
       "1                 11             416  1067         85             3   \n",
       "2                 12             265   860         64             0   \n",
       "3                 13             419  1116         76             1   \n",
       "4                 14             287   622         47             2   \n",
       "\n",
       "   category_id                                                    thumbnail  \n",
       "0            0  https://i.ytimg.com/vi/al52wJgMGyI/hqdefault.jpg?sqp=-oa...  \n",
       "1            0  https://i.ytimg.com/vi/-xx7shznKec/hqdefault.jpg?sqp=-oa...  \n",
       "2            0  https://i.ytimg.com/vi/m7KC7oEKKuo/hqdefault.jpg?sqp=-oa...  \n",
       "3            0  https://i.ytimg.com/vi/FYeuMGEgNWA/hqdefault.jpg?sqp=-oa...  \n",
       "4            0  https://i.ytimg.com/vi/UjLKW2fjkyA/hqdefault.jpg?sqp=-oa...  "
      ]
     },
     "execution_count": 25,
     "metadata": {},
     "output_type": "execute_result"
    }
   ],
   "source": [
    "df = df[['channel_name', 'subscribers', 'video_name', 'days_after_upload','video_duration', 'hits', 'likes_num', 'dislikes_num','category_id', 'thumbnail']]\n",
    "df.head()\n",
    "df.to_csv('@final_preprocessing_data.csv', encoding='utf-8-sig')"
   ]
  },
  {
   "cell_type": "code",
   "execution_count": 26,
   "metadata": {},
   "outputs": [
    {
     "data": {
      "text/plain": [
       "(34685, 10)"
      ]
     },
     "execution_count": 26,
     "metadata": {},
     "output_type": "execute_result"
    }
   ],
   "source": [
    "df.shape"
   ]
  },
  {
   "cell_type": "markdown",
   "metadata": {},
   "source": [
    "# 전체 Train-Test split"
   ]
  },
  {
   "cell_type": "code",
   "execution_count": 2,
   "metadata": {},
   "outputs": [
    {
     "data": {
      "text/plain": [
       "(34685, 11)"
      ]
     },
     "execution_count": 2,
     "metadata": {},
     "output_type": "execute_result"
    }
   ],
   "source": [
    "df_for_split = pd.read_csv('@final_preprocessing_data.csv',encoding='utf-8-sig')\n",
    "df_for_split.shape"
   ]
  },
  {
   "cell_type": "markdown",
   "metadata": {},
   "source": [
    "- test data"
   ]
  },
  {
   "cell_type": "code",
   "execution_count": 3,
   "metadata": {},
   "outputs": [],
   "source": [
    "# category ( 0: cooking , 1: economy, 2: game, 3: movie, 4: pets, 5: politics, 6:sports)\n",
    "cooking_test = df_for_split.loc[df_for_split['category_id']==0,:][-500:]\n",
    "economy_test = df_for_split.loc[df_for_split['category_id']==1,:][-500:]\n",
    "game_test = df_for_split.loc[df_for_split['category_id']==2,:][-500:]\n",
    "movie_test = df_for_split.loc[df_for_split['category_id']==3,:][-500:]\n",
    "pets_test = df_for_split.loc[df_for_split['category_id']==4,:][-500:]\n",
    "politics_test = df_for_split.loc[df_for_split['category_id']==5,:][-500:]\n",
    "sports_test = df_for_split.loc[df_for_split['category_id']==6,:][-500:]"
   ]
  },
  {
   "cell_type": "code",
   "execution_count": 4,
   "metadata": {},
   "outputs": [],
   "source": [
    "total_test_set = pd.concat([cooking_test,economy_test,game_test,movie_test,pets_test,politics_test,sports_test])\n",
    "total_test_set.to_csv('small_total_test_set.csv', encoding='utf-8-sig')"
   ]
  },
  {
   "cell_type": "code",
   "execution_count": 5,
   "metadata": {},
   "outputs": [
    {
     "data": {
      "text/plain": [
       "(3500, 11)"
      ]
     },
     "execution_count": 5,
     "metadata": {},
     "output_type": "execute_result"
    }
   ],
   "source": [
    "total_test_set.shape"
   ]
  },
  {
   "cell_type": "markdown",
   "metadata": {},
   "source": [
    "- train data"
   ]
  },
  {
   "cell_type": "code",
   "execution_count": 32,
   "metadata": {},
   "outputs": [],
   "source": [
    "cooking_train = df_for_split.loc[df_for_split['category_id']==0,:][:-3000]\n",
    "economy_train = df_for_split.loc[df_for_split['category_id']==1,:][:-3000]\n",
    "game_train = df_for_split.loc[df_for_split['category_id']==2,:][:-3000]\n",
    "movie_train = df_for_split.loc[df_for_split['category_id']==3,:][:-3000]\n",
    "pets_train = df_for_split.loc[df_for_split['category_id']==4,:][:-3000]\n",
    "politics_train = df_for_split.loc[df_for_split['category_id']==5,:][:-3000]\n",
    "sports_train = df_for_split.loc[df_for_split['category_id']==6,:][:-3000]"
   ]
  },
  {
   "cell_type": "code",
   "execution_count": 33,
   "metadata": {},
   "outputs": [],
   "source": [
    "total_train_set = pd.concat([cooking_train,economy_train,game_train,movie_train,pets_train,politics_train,sports_train])\n",
    "total_train_set.to_csv('small_total_train_set.csv', encoding='utf-8-sig')"
   ]
  },
  {
   "cell_type": "code",
   "execution_count": 34,
   "metadata": {},
   "outputs": [
    {
     "data": {
      "text/plain": [
       "(21000, 11)"
      ]
     },
     "execution_count": 34,
     "metadata": {},
     "output_type": "execute_result"
    },
    {
     "data": {
      "text/plain": [
       "(13685, 11)"
      ]
     },
     "execution_count": 34,
     "metadata": {},
     "output_type": "execute_result"
    }
   ],
   "source": [
    "total_test_set.shape\n",
    "total_train_set.shape"
   ]
  },
  {
   "cell_type": "code",
   "execution_count": null,
   "metadata": {},
   "outputs": [],
   "source": []
  }
 ],
 "metadata": {
  "kernelspec": {
   "display_name": "Python 3",
   "language": "python",
   "name": "python3"
  },
  "language_info": {
   "codemirror_mode": {
    "name": "ipython",
    "version": 3
   },
   "file_extension": ".py",
   "mimetype": "text/x-python",
   "name": "python",
   "nbconvert_exporter": "python",
   "pygments_lexer": "ipython3",
   "version": "3.7.3"
  }
 },
 "nbformat": 4,
 "nbformat_minor": 2
}
