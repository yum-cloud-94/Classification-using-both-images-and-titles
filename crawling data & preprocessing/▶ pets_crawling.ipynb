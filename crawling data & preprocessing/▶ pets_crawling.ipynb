{
 "cells": [
  {
   "cell_type": "markdown",
   "metadata": {},
   "source": [
    "# 기본 옵션"
   ]
  },
  {
   "cell_type": "code",
   "execution_count": 1,
   "metadata": {},
   "outputs": [
    {
     "data": {
      "text/html": [
       "<style>.container { width:100% !important; }</style>"
      ],
      "text/plain": [
       "<IPython.core.display.HTML object>"
      ]
     },
     "metadata": {},
     "output_type": "display_data"
    }
   ],
   "source": [
    "import pandas as pd\n",
    "from IPython.core.display import display, HTML\n",
    "display(HTML(\"<style>.container { width:100% !important; }</style>\"))\n",
    "\n",
    "pd.set_option('display.max.colwidth',60)\n",
    "pd.options.display.max_columns = 100\n",
    "\n",
    "from IPython.core.interactiveshell import InteractiveShell\n",
    "InteractiveShell.ast_node_interactivity = \"all\""
   ]
  },
  {
   "cell_type": "code",
   "execution_count": 2,
   "metadata": {},
   "outputs": [],
   "source": [
    "from selenium import webdriver\n",
    "from selenium.webdriver.common.keys import Keys\n",
    "import pandas as pd\n",
    "import time\n",
    "from bs4 import BeautifulSoup\n",
    "import re"
   ]
  },
  {
   "cell_type": "markdown",
   "metadata": {},
   "source": [
    "# 반려동물"
   ]
  },
  {
   "cell_type": "markdown",
   "metadata": {},
   "source": [
    "## 1. Arirang은 고양이들내가 주인"
   ]
  },
  {
   "cell_type": "markdown",
   "metadata": {},
   "source": [
    "https://www.youtube.com/channel/UCETBLykCDpfP6L0awBd7Vwg/videos"
   ]
  },
  {
   "cell_type": "markdown",
   "metadata": {},
   "source": [
    "#### 영상  정보 수집 ( 채널명/ 썸네일/ 구독자 수/ 제목 / 업로드 날짜 / 조회수 / 좋아요 / 싫어요 / 영상길이 / 카테고리)\n",
    "- 전체 영상 목록이 보이는 페이지에서 각 동영상의 url 추출하는 과정"
   ]
  },
  {
   "cell_type": "code",
   "execution_count": 3,
   "metadata": {},
   "outputs": [],
   "source": [
    "# 원하는 유튜버 '동영상'에 들어가기 \n",
    "driver = webdriver.Chrome('@needs_for_you/chromedriver.exe')\n",
    "driver.maximize_window()\n",
    "driver.get('https://www.youtube.com/channel/UCETBLykCDpfP6L0awBd7Vwg/videos')\n",
    "body = driver.find_element_by_tag_name('body')\n",
    "time.sleep(1.5)#브라우저 로딩시간기다려야함\n",
    "\n",
    "# 유튜브는 스크롤해야 전체를 볼 수 있음 # 전체 영상 개수에 따라 조절해야함\n",
    "endk = 110 # 5번 내림 # 500개면 한 100번정도 넉넉히 내리기 # 시험해보려고 1번만 내림\n",
    "while endk:\n",
    "    driver.find_element_by_tag_name('body').send_keys(Keys.END)\n",
    "    time.sleep(0.3)\n",
    "    endk -= 1    \n",
    "start_page = driver.page_source \n",
    "soup = BeautifulSoup(start_page,'lxml') # 전체 영상 목록의 page-source 이니 soup으로\n",
    "\n",
    "# 각 영상 페이지의 url 모음\n",
    "video_list = soup.find_all('ytd-grid-video-renderer',{'class':'style-scope ytd-grid-renderer'})\n",
    "\n",
    "arirangcat_url = []\n",
    "base_url = 'http://www.youtube.com'\n",
    "for i in range(len(video_list)):\n",
    "    url = base_url+video_list[i].find('a',{'id':'thumbnail'})['href']\n",
    "    arirangcat_url.append(url)"
   ]
  },
  {
   "cell_type": "code",
   "execution_count": 5,
   "metadata": {},
   "outputs": [
    {
     "data": {
      "text/plain": [
       "263"
      ]
     },
     "execution_count": 5,
     "metadata": {},
     "output_type": "execute_result"
    }
   ],
   "source": [
    "len(arirangcat_url)"
   ]
  },
  {
   "cell_type": "markdown",
   "metadata": {},
   "source": [
    "- 추출한 모든 영상의 url을 입력하여, 각 페이지 안으로 들어가 정보를 수집\n",
    "- 채널명/ 구독자 수 / 썸네일 / 제목 / 업로드 날짜 / 조회수 / 좋아요 / 싫어요 / 영상길이 / 카테고리"
   ]
  },
  {
   "cell_type": "code",
   "execution_count": 6,
   "metadata": {
    "scrolled": true
   },
   "outputs": [
    {
     "name": "stdout",
     "output_type": "stream",
     "text": [
      "'NoneType' object has no attribute 'find' 0\n",
      "'NoneType' object has no attribute 'find' 1\n",
      "'NoneType' object has no attribute 'find' 2\n",
      "'NoneType' object has no attribute 'find' 3\n",
      "'NoneType' object has no attribute 'find' 4\n",
      "'NoneType' object has no attribute 'find' 5\n",
      "'NoneType' object has no attribute 'find' 6\n",
      "'NoneType' object has no attribute 'find' 7\n",
      "'NoneType' object has no attribute 'find' 8\n",
      "'NoneType' object has no attribute 'find' 9\n",
      "'NoneType' object has no attribute 'find' 10\n",
      "'NoneType' object has no attribute 'find' 11\n",
      "'NoneType' object has no attribute 'find' 12\n",
      "'NoneType' object has no attribute 'find' 13\n",
      "'NoneType' object has no attribute 'find' 14\n",
      "'NoneType' object has no attribute 'find' 15\n",
      "'NoneType' object has no attribute 'find' 16\n",
      "'NoneType' object has no attribute 'find' 17\n",
      "'NoneType' object has no attribute 'find' 18\n",
      "'NoneType' object has no attribute 'find' 19\n",
      "'NoneType' object has no attribute 'find' 20\n",
      "'NoneType' object has no attribute 'find' 21\n",
      "'NoneType' object has no attribute 'find' 22\n",
      "'NoneType' object has no attribute 'find' 23\n",
      "'NoneType' object has no attribute 'find' 24\n",
      "'NoneType' object has no attribute 'find' 25\n",
      "'NoneType' object has no attribute 'find' 26\n",
      "'NoneType' object has no attribute 'find' 27\n",
      "'NoneType' object has no attribute 'find' 28\n",
      "'NoneType' object has no attribute 'find' 29\n",
      "'NoneType' object has no attribute 'find' 30\n",
      "'NoneType' object has no attribute 'find' 31\n",
      "'NoneType' object has no attribute 'find' 32\n",
      "'NoneType' object has no attribute 'find' 33\n",
      "'NoneType' object has no attribute 'find' 34\n",
      "'NoneType' object has no attribute 'find' 35\n",
      "'NoneType' object has no attribute 'find' 36\n",
      "'NoneType' object has no attribute 'find' 37\n",
      "'NoneType' object has no attribute 'find' 38\n",
      "'NoneType' object has no attribute 'find' 39\n",
      "'NoneType' object has no attribute 'find' 40\n",
      "'NoneType' object has no attribute 'find' 41\n",
      "'NoneType' object has no attribute 'find' 42\n",
      "'NoneType' object has no attribute 'find' 43\n",
      "'NoneType' object has no attribute 'find' 44\n",
      "'NoneType' object has no attribute 'find' 45\n",
      "'NoneType' object has no attribute 'find' 46\n",
      "'NoneType' object has no attribute 'find' 47\n",
      "'NoneType' object has no attribute 'find' 48\n",
      "'NoneType' object has no attribute 'find' 49\n",
      "'NoneType' object has no attribute 'find' 50\n",
      "'NoneType' object has no attribute 'find' 51\n",
      "'NoneType' object has no attribute 'find' 52\n",
      "'NoneType' object has no attribute 'find' 53\n",
      "'NoneType' object has no attribute 'find' 54\n",
      "'NoneType' object has no attribute 'find' 55\n",
      "'NoneType' object has no attribute 'find' 56\n",
      "'NoneType' object has no attribute 'find' 57\n",
      "'NoneType' object has no attribute 'find' 58\n",
      "'NoneType' object has no attribute 'find' 59\n",
      "'NoneType' object has no attribute 'find' 60\n",
      "'NoneType' object has no attribute 'find' 61\n",
      "'NoneType' object has no attribute 'find' 62\n",
      "'NoneType' object has no attribute 'find' 63\n",
      "'NoneType' object has no attribute 'find' 64\n",
      "'NoneType' object has no attribute 'find' 65\n",
      "'NoneType' object has no attribute 'find' 66\n",
      "'NoneType' object has no attribute 'find' 67\n",
      "'NoneType' object has no attribute 'find' 68\n",
      "'NoneType' object has no attribute 'find' 69\n",
      "'NoneType' object has no attribute 'find' 70\n",
      "'NoneType' object has no attribute 'find' 71\n",
      "'NoneType' object has no attribute 'find' 72\n",
      "'NoneType' object has no attribute 'find' 73\n",
      "'NoneType' object has no attribute 'find' 74\n",
      "'NoneType' object has no attribute 'find' 75\n",
      "'NoneType' object has no attribute 'find' 76\n",
      "'NoneType' object has no attribute 'find' 77\n",
      "'NoneType' object has no attribute 'find' 78\n",
      "'NoneType' object has no attribute 'find' 79\n",
      "'NoneType' object has no attribute 'find' 80\n",
      "'NoneType' object has no attribute 'find' 81\n",
      "'NoneType' object has no attribute 'find' 82\n",
      "'NoneType' object has no attribute 'find' 83\n",
      "'NoneType' object has no attribute 'find' 84\n"
     ]
    }
   ],
   "source": [
    "arirangcat = pd.DataFrame({'channel_name' :[],\n",
    "                           'subscribers' : [],\n",
    "                           'thumbnail' :[],\n",
    "                           'video_name':[],\n",
    "                           'video_length':[],\n",
    "                           'upload_date':[],\n",
    "                           'hits':[],\n",
    "                           'likes_num':[],\n",
    "                           'dislikes_num':[],\n",
    "                           'category':[] })\n",
    "\n",
    "for i in range(0,len(arirangcat_url)):\n",
    "    \n",
    "    try :# 오류생겨서 try-except 추가        \n",
    "        channel_name = soup.find('title').text\n",
    "        subscribers = soup.find('yt-formatted-string',{'id':'subscriber-count'}).text\n",
    "        thumbnail = video_list[i].find('img', {'src' : True})['src'] \n",
    "        video_name = video_list[i].find('a',{'id':'video-title'}).text\n",
    "        video_length = video_list[i].find('span', {'class':'style-scope ytd-thumbnail-overlay-time-status-renderer'}).text.split('\\n')[1]\n",
    "\n",
    "        # 각 동영상 페이지 들어가기 시작 \n",
    "        start_url = arirangcat_url[i]\n",
    "        driver.get(start_url) \n",
    "        body = driver.find_element_by_tag_name('body')\n",
    "\n",
    "        time.sleep(1.5)\n",
    "\n",
    "        # 댓글까지 쭉 보려면 스크롤 # 사실상 지금 댓글은 안보니 1번만 내리기\n",
    "        endk = 1 # 5번 내림\n",
    "        while endk:\n",
    "            driver.find_element_by_tag_name('body').send_keys(Keys.END)\n",
    "            time.sleep(0.3) # 내리는 시간 간격 \n",
    "            endk -= 1    \n",
    "        page = driver.page_source \n",
    "        html = BeautifulSoup(page,'lxml') # 각 페이지의 page_source 이니 html로\n",
    "\n",
    "\n",
    "        # 각 동영상 페이지 들어가서 얻을 수 있는 정보\n",
    "        pre_upload_date = html.find('div',{'id':'date'})\n",
    "        upload_date = pre_upload_date.find('yt-formatted-string', {'class':'style-scope ytd-video-primary-info-renderer'}).text  \n",
    "        pre_hits = html.find('yt-view-count-renderer', {'class':'style-scope ytd-video-primary-info-renderer'})\n",
    "        hits = pre_hits.find('span',{'class':'view-count style-scope yt-view-count-renderer'}).text.split()[1]\n",
    "        likes_num = html.find('yt-formatted-string',{'id':'text','class':'style-scope ytd-toggle-button-renderer style-text','aria-label':re.compile('좋아요')}).text+'개'\n",
    "        dislikes_num = html.find('yt-formatted-string',{'id':'text','class':'style-scope ytd-toggle-button-renderer style-text','aria-label':re.compile('싫어요')}).text+'개'\n",
    "        category = 'pets' # 바꾸면됨\n",
    "\n",
    "\n",
    "        # 마지막에 모은 정보 합치기\n",
    "        insert_data = pd.DataFrame({'channel_name' :[channel_name],\n",
    "                                   'subscribers' : [subscribers],\n",
    "                                   'thumbnail' :[thumbnail],\n",
    "                                   'video_name':[video_name],\n",
    "                                   'video_length':[video_length],\n",
    "                                   'upload_date':[upload_date],\n",
    "                                   'hits' :[hits],\n",
    "                                   'likes_num':[likes_num],\n",
    "                                   'dislikes_num':[dislikes_num],\n",
    "                                   'category':[category]})\n",
    "    \n",
    "        arirangcat = arirangcat.append(insert_data)\n",
    "    \n",
    "    except KeyError as e: # error뜬거는 포함 안하고 저장됨 (error 뜨는거 찾을 때 마다 그냥 넣어버리기)\n",
    "        print(k, i)\n",
    "    except AttributeError as a: \n",
    "        print(a ,i)\n",
    "    except IndexError as e:\n",
    "        print(e,i)\n",
    "    except TypeError as t:\n",
    "        print(t, i)"
   ]
  },
  {
   "cell_type": "code",
   "execution_count": 11,
   "metadata": {},
   "outputs": [
    {
     "name": "stdout",
     "output_type": "stream",
     "text": [
      "shape :  (178, 10)\n"
     ]
    }
   ],
   "source": [
    "print(\"shape : \",arirangcat.shape)\n",
    "arirangcat.to_csv('arirangcat.csv', encoding='utf-8-sig')"
   ]
  },
  {
   "cell_type": "markdown",
   "metadata": {},
   "source": [
    "## 2. 갑수목장gabsupasture"
   ]
  },
  {
   "cell_type": "markdown",
   "metadata": {},
   "source": [
    "https://www.youtube.com/channel/UC99OELa9yvqgkq9ffBvm9iQ/videos"
   ]
  },
  {
   "cell_type": "code",
   "execution_count": 14,
   "metadata": {},
   "outputs": [],
   "source": [
    "# 원하는 유튜버 '동영상'에 들어가기 \n",
    "driver = webdriver.Chrome('@needs_for_you/chromedriver.exe')\n",
    "driver.maximize_window()\n",
    "driver.get('https://www.youtube.com/channel/UC99OELa9yvqgkq9ffBvm9iQ/videos')\n",
    "body = driver.find_element_by_tag_name('body')\n",
    "time.sleep(1.5)#브라우저 로딩시간기다려야함\n",
    "\n",
    "# 유튜브는 스크롤해야 전체를 볼 수 있음 # 전체 영상 개수에 따라 조절해야함\n",
    "endk = 110 # 5번 내림 # 500개면 한 100번정도 넉넉히 내리기 # 시험해보려고 1번만 내림\n",
    "while endk:\n",
    "    driver.find_element_by_tag_name('body').send_keys(Keys.END)\n",
    "    time.sleep(0.3)\n",
    "    endk -= 1    \n",
    "start_page = driver.page_source \n",
    "soup = BeautifulSoup(start_page,'lxml') # 전체 영상 목록의 page-source 이니 soup으로\n",
    "\n",
    "# 각 영상 페이지의 url 모음\n",
    "video_list = soup.find_all('ytd-grid-video-renderer',{'class':'style-scope ytd-grid-renderer'})\n",
    "\n",
    "gabsupasture_url = []\n",
    "base_url = 'http://www.youtube.com'\n",
    "for i in range(len(video_list)):\n",
    "    url = base_url+video_list[i].find('a',{'id':'thumbnail'})['href']\n",
    "    gabsupasture_url.append(url)"
   ]
  },
  {
   "cell_type": "code",
   "execution_count": 15,
   "metadata": {},
   "outputs": [
    {
     "data": {
      "text/plain": [
       "693"
      ]
     },
     "execution_count": 15,
     "metadata": {},
     "output_type": "execute_result"
    }
   ],
   "source": [
    "len(gabsupasture_url)"
   ]
  },
  {
   "cell_type": "code",
   "execution_count": 16,
   "metadata": {
    "scrolled": true
   },
   "outputs": [
    {
     "name": "stdout",
     "output_type": "stream",
     "text": [
      "'NoneType' object has no attribute 'find' 0\n",
      "'NoneType' object has no attribute 'find' 1\n",
      "'NoneType' object has no attribute 'find' 2\n",
      "'NoneType' object has no attribute 'find' 3\n",
      "'NoneType' object has no attribute 'find' 4\n",
      "'NoneType' object has no attribute 'find' 5\n",
      "'NoneType' object has no attribute 'find' 6\n",
      "'NoneType' object has no attribute 'find' 7\n",
      "'NoneType' object has no attribute 'find' 8\n",
      "'NoneType' object has no attribute 'find' 9\n",
      "'NoneType' object has no attribute 'find' 10\n",
      "'NoneType' object has no attribute 'find' 11\n",
      "'NoneType' object has no attribute 'find' 12\n",
      "'NoneType' object has no attribute 'find' 13\n",
      "'NoneType' object has no attribute 'find' 14\n",
      "'NoneType' object has no attribute 'find' 15\n",
      "'NoneType' object has no attribute 'find' 16\n",
      "'NoneType' object has no attribute 'find' 17\n",
      "'NoneType' object has no attribute 'find' 18\n",
      "'NoneType' object is not subscriptable 42\n",
      "'NoneType' object is not subscriptable 43\n",
      "'NoneType' object is not subscriptable 44\n",
      "'NoneType' object is not subscriptable 132\n",
      "'NoneType' object is not subscriptable 133\n",
      "'NoneType' object is not subscriptable 134\n",
      "'NoneType' object is not subscriptable 222\n",
      "'NoneType' object is not subscriptable 223\n",
      "'NoneType' object is not subscriptable 224\n",
      "'NoneType' object is not subscriptable 282\n",
      "'NoneType' object is not subscriptable 283\n",
      "'NoneType' object is not subscriptable 284\n",
      "'NoneType' object is not subscriptable 372\n",
      "'NoneType' object is not subscriptable 373\n",
      "'NoneType' object is not subscriptable 374\n",
      "'NoneType' object is not subscriptable 432\n",
      "'NoneType' object is not subscriptable 433\n",
      "'NoneType' object is not subscriptable 434\n",
      "'NoneType' object is not subscriptable 492\n",
      "'NoneType' object is not subscriptable 493\n",
      "'NoneType' object is not subscriptable 494\n",
      "'NoneType' object is not subscriptable 522\n",
      "'NoneType' object is not subscriptable 523\n",
      "'NoneType' object is not subscriptable 524\n",
      "'NoneType' object is not subscriptable 552\n",
      "'NoneType' object is not subscriptable 553\n",
      "'NoneType' object is not subscriptable 554\n",
      "'NoneType' object is not subscriptable 582\n",
      "'NoneType' object is not subscriptable 583\n",
      "'NoneType' object is not subscriptable 584\n"
     ]
    }
   ],
   "source": [
    "gabsupasture = pd.DataFrame({'channel_name' :[],\n",
    "                           'subscribers' : [],\n",
    "                           'thumbnail' :[],\n",
    "                           'video_name':[],\n",
    "                           'video_length':[],\n",
    "                           'upload_date':[],\n",
    "                           'hits':[],\n",
    "                           'likes_num':[],\n",
    "                           'dislikes_num':[],\n",
    "                           'category':[] })\n",
    "\n",
    "for i in range(0,len(gabsupasture_url)):\n",
    "    \n",
    "    try :# 오류생겨서 try-except 추가        \n",
    "        channel_name = soup.find('title').text\n",
    "        subscribers = soup.find('yt-formatted-string',{'id':'subscriber-count'}).text\n",
    "        thumbnail = video_list[i].find('img', {'src' : True})['src'] \n",
    "        video_name = video_list[i].find('a',{'id':'video-title'}).text\n",
    "        video_length = video_list[i].find('span', {'class':'style-scope ytd-thumbnail-overlay-time-status-renderer'}).text.split('\\n')[1]\n",
    "\n",
    "        # 각 동영상 페이지 들어가기 시작 \n",
    "        start_url = gabsupasture_url[i]\n",
    "        driver.get(start_url) \n",
    "        body = driver.find_element_by_tag_name('body')\n",
    "\n",
    "        time.sleep(1.5)\n",
    "\n",
    "        # 댓글까지 쭉 보려면 스크롤 # 사실상 지금 댓글은 안보니 1번만 내리기\n",
    "        endk = 1 # 5번 내림\n",
    "        while endk:\n",
    "            driver.find_element_by_tag_name('body').send_keys(Keys.END)\n",
    "            time.sleep(0.3) # 내리는 시간 간격 \n",
    "            endk -= 1    \n",
    "        page = driver.page_source \n",
    "        html = BeautifulSoup(page,'lxml') # 각 페이지의 page_source 이니 html로\n",
    "\n",
    "\n",
    "        # 각 동영상 페이지 들어가서 얻을 수 있는 정보\n",
    "        pre_upload_date = html.find('div',{'id':'date'})\n",
    "        upload_date = pre_upload_date.find('yt-formatted-string', {'class':'style-scope ytd-video-primary-info-renderer'}).text  \n",
    "        pre_hits = html.find('yt-view-count-renderer', {'class':'style-scope ytd-video-primary-info-renderer'})\n",
    "        hits = pre_hits.find('span',{'class':'view-count style-scope yt-view-count-renderer'}).text.split()[1]\n",
    "        likes_num = html.find('yt-formatted-string',{'id':'text','class':'style-scope ytd-toggle-button-renderer style-text','aria-label':re.compile('좋아요')}).text+'개'\n",
    "        dislikes_num = html.find('yt-formatted-string',{'id':'text','class':'style-scope ytd-toggle-button-renderer style-text','aria-label':re.compile('싫어요')}).text+'개'\n",
    "        category = 'pets' # 바꾸면됨\n",
    "\n",
    "\n",
    "        # 마지막에 모은 정보 합치기\n",
    "        insert_data = pd.DataFrame({'channel_name' :[channel_name],\n",
    "                                   'subscribers' : [subscribers],\n",
    "                                   'thumbnail' :[thumbnail],\n",
    "                                   'video_name':[video_name],\n",
    "                                   'video_length':[video_length],\n",
    "                                   'upload_date':[upload_date],\n",
    "                                   'hits' :[hits],\n",
    "                                   'likes_num':[likes_num],\n",
    "                                   'dislikes_num':[dislikes_num],\n",
    "                                   'category':[category]})\n",
    "    \n",
    "        gabsupasture = gabsupasture.append(insert_data)\n",
    "    \n",
    "    except KeyError as e: # error뜬거는 포함 안하고 저장됨 (error 뜨는거 찾을 때 마다 그냥 넣어버리기)\n",
    "        print(k, i)\n",
    "    except AttributeError as a: \n",
    "        print(a ,i)\n",
    "    except IndexError as e:\n",
    "        print(e,i)\n",
    "    except TypeError as t:\n",
    "        print(t, i)"
   ]
  },
  {
   "cell_type": "code",
   "execution_count": 17,
   "metadata": {},
   "outputs": [
    {
     "name": "stdout",
     "output_type": "stream",
     "text": [
      "shape :  (644, 10)\n"
     ]
    }
   ],
   "source": [
    "print(\"shape : \",gabsupasture.shape)\n",
    "gabsupasture.to_csv('gabsupasture.csv', encoding='utf-8-sig')"
   ]
  },
  {
   "cell_type": "markdown",
   "metadata": {},
   "source": [
    "## 3. 시바견 곰이탱이여우"
   ]
  },
  {
   "cell_type": "markdown",
   "metadata": {},
   "source": [
    "https://www.youtube.com/channel/UCX2laRqGQhqoChYmlaUgOiw/videos"
   ]
  },
  {
   "cell_type": "code",
   "execution_count": 25,
   "metadata": {},
   "outputs": [],
   "source": [
    "# 원하는 유튜버 '동영상'에 들어가기 \n",
    "driver = webdriver.Chrome('@needs_for_you/chromedriver.exe')\n",
    "driver.maximize_window()\n",
    "driver.get('https://www.youtube.com/channel/UCX2laRqGQhqoChYmlaUgOiw/videos')\n",
    "body = driver.find_element_by_tag_name('body')\n",
    "time.sleep(1.5)#브라우저 로딩시간기다려야함\n",
    "\n",
    "# 유튜브는 스크롤해야 전체를 볼 수 있음 # 전체 영상 개수에 따라 조절해야함\n",
    "endk = 110 # 5번 내림 # 500개면 한 100번정도 넉넉히 내리기 # 시험해보려고 1번만 내림\n",
    "while endk:\n",
    "    driver.find_element_by_tag_name('body').send_keys(Keys.END)\n",
    "    time.sleep(0.3)\n",
    "    endk -= 1    \n",
    "start_page = driver.page_source \n",
    "soup = BeautifulSoup(start_page,'lxml') # 전체 영상 목록의 page-source 이니 soup으로\n",
    "\n",
    "# 각 영상 페이지의 url 모음\n",
    "video_list = soup.find_all('ytd-grid-video-renderer',{'class':'style-scope ytd-grid-renderer'})\n",
    "\n",
    "gomttangfox_url = []\n",
    "base_url = 'http://www.youtube.com'\n",
    "for i in range(len(video_list)):\n",
    "    url = base_url+video_list[i].find('a',{'id':'thumbnail'})['href']\n",
    "    gomttangfox_url.append(url)"
   ]
  },
  {
   "cell_type": "code",
   "execution_count": 26,
   "metadata": {},
   "outputs": [
    {
     "data": {
      "text/plain": [
       "842"
      ]
     },
     "execution_count": 26,
     "metadata": {},
     "output_type": "execute_result"
    }
   ],
   "source": [
    "len(gomttangfox_url)"
   ]
  },
  {
   "cell_type": "code",
   "execution_count": 27,
   "metadata": {
    "scrolled": true
   },
   "outputs": [
    {
     "name": "stdout",
     "output_type": "stream",
     "text": [
      "'NoneType' object is not subscriptable 221\n",
      "'NoneType' object is not subscriptable 222\n",
      "'NoneType' object is not subscriptable 223\n",
      "'NoneType' object is not subscriptable 224\n",
      "'NoneType' object is not subscriptable 311\n",
      "'NoneType' object is not subscriptable 312\n",
      "'NoneType' object is not subscriptable 313\n",
      "'NoneType' object is not subscriptable 314\n",
      "'NoneType' object is not subscriptable 341\n",
      "'NoneType' object is not subscriptable 342\n",
      "'NoneType' object is not subscriptable 343\n",
      "'NoneType' object is not subscriptable 344\n",
      "'NoneType' object is not subscriptable 461\n",
      "'NoneType' object is not subscriptable 462\n",
      "'NoneType' object is not subscriptable 463\n",
      "'NoneType' object is not subscriptable 464\n",
      "'NoneType' object is not subscriptable 730\n",
      "'NoneType' object is not subscriptable 731\n",
      "'NoneType' object is not subscriptable 732\n",
      "'NoneType' object is not subscriptable 733\n",
      "'NoneType' object is not subscriptable 734\n",
      "'NoneType' object is not subscriptable 760\n",
      "'NoneType' object is not subscriptable 761\n",
      "'NoneType' object is not subscriptable 762\n",
      "'NoneType' object is not subscriptable 763\n",
      "'NoneType' object is not subscriptable 764\n"
     ]
    }
   ],
   "source": [
    "gomttangfox = pd.DataFrame({'channel_name' :[],\n",
    "                           'subscribers' : [],\n",
    "                           'thumbnail' :[],\n",
    "                           'video_name':[],\n",
    "                           'video_length':[],\n",
    "                           'upload_date':[],\n",
    "                           'hits':[],\n",
    "                           'likes_num':[],\n",
    "                           'dislikes_num':[],\n",
    "                           'category':[] })\n",
    "\n",
    "for i in range(0,len(gomttangfox_url)):\n",
    "    \n",
    "    try :# 오류생겨서 try-except 추가        \n",
    "        channel_name = soup.find('title').text\n",
    "        subscribers = soup.find('yt-formatted-string',{'id':'subscriber-count'}).text\n",
    "        thumbnail = video_list[i].find('img', {'src' : True})['src'] \n",
    "        video_name = video_list[i].find('a',{'id':'video-title'}).text\n",
    "        video_length = video_list[i].find('span', {'class':'style-scope ytd-thumbnail-overlay-time-status-renderer'}).text.split('\\n')[1]\n",
    "\n",
    "        # 각 동영상 페이지 들어가기 시작 \n",
    "        start_url = gomttangfox_url[i]\n",
    "        driver.get(start_url) \n",
    "        body = driver.find_element_by_tag_name('body')\n",
    "\n",
    "        time.sleep(1.5)\n",
    "\n",
    "        # 댓글까지 쭉 보려면 스크롤 # 사실상 지금 댓글은 안보니 1번만 내리기\n",
    "        endk = 1 # 5번 내림\n",
    "        while endk:\n",
    "            driver.find_element_by_tag_name('body').send_keys(Keys.END)\n",
    "            time.sleep(0.3) # 내리는 시간 간격 \n",
    "            endk -= 1    \n",
    "        page = driver.page_source \n",
    "        html = BeautifulSoup(page,'lxml') # 각 페이지의 page_source 이니 html로\n",
    "\n",
    "\n",
    "        # 각 동영상 페이지 들어가서 얻을 수 있는 정보\n",
    "        pre_upload_date = html.find('div',{'id':'date'})\n",
    "        upload_date = pre_upload_date.find('yt-formatted-string', {'class':'style-scope ytd-video-primary-info-renderer'}).text  \n",
    "        pre_hits = html.find('yt-view-count-renderer', {'class':'style-scope ytd-video-primary-info-renderer'})\n",
    "        hits = pre_hits.find('span',{'class':'view-count style-scope yt-view-count-renderer'}).text.split()[1]\n",
    "        likes_num = html.find('yt-formatted-string',{'id':'text','class':'style-scope ytd-toggle-button-renderer style-text','aria-label':re.compile('좋아요')}).text+'개'\n",
    "        dislikes_num = html.find('yt-formatted-string',{'id':'text','class':'style-scope ytd-toggle-button-renderer style-text','aria-label':re.compile('싫어요')}).text+'개'\n",
    "        category = 'pets' # 바꾸면됨\n",
    "\n",
    "\n",
    "        # 마지막에 모은 정보 합치기\n",
    "        insert_data = pd.DataFrame({'channel_name' :[channel_name],\n",
    "                                   'subscribers' : [subscribers],\n",
    "                                   'thumbnail' :[thumbnail],\n",
    "                                   'video_name':[video_name],\n",
    "                                   'video_length':[video_length],\n",
    "                                   'upload_date':[upload_date],\n",
    "                                   'hits' :[hits],\n",
    "                                   'likes_num':[likes_num],\n",
    "                                   'dislikes_num':[dislikes_num],\n",
    "                                   'category':[category]})\n",
    "    \n",
    "        gomttangfox = gomttangfox.append(insert_data)\n",
    "    \n",
    "    except KeyError as e: # error뜬거는 포함 안하고 저장됨 (error 뜨는거 찾을 때 마다 그냥 넣어버리기)\n",
    "        print(k, i)\n",
    "    except AttributeError as a: \n",
    "        print(a ,i)\n",
    "    except IndexError as e:\n",
    "        print(e,i)\n",
    "    except TypeError as t:\n",
    "        print(t, i)"
   ]
  },
  {
   "cell_type": "code",
   "execution_count": 28,
   "metadata": {},
   "outputs": [
    {
     "name": "stdout",
     "output_type": "stream",
     "text": [
      "shape :  (816, 10)\n"
     ]
    }
   ],
   "source": [
    "print(\"shape : \",gomttangfox.shape)\n",
    "gomttangfox.to_csv('gomttangfox.csv', encoding='utf-8-sig')"
   ]
  },
  {
   "cell_type": "markdown",
   "metadata": {},
   "source": [
    "## 4. haha ha"
   ]
  },
  {
   "cell_type": "markdown",
   "metadata": {},
   "source": [
    "https://www.youtube.com/channel/UCOp66Vup07X0YziXaaxqs2A/videos"
   ]
  },
  {
   "cell_type": "code",
   "execution_count": 3,
   "metadata": {},
   "outputs": [],
   "source": [
    "# 원하는 유튜버 '동영상'에 들어가기 \n",
    "driver = webdriver.Chrome('@needs_for_you/chromedriver.exe')\n",
    "driver.maximize_window()\n",
    "driver.get('https://www.youtube.com/channel/UCOp66Vup07X0YziXaaxqs2A/videos')\n",
    "body = driver.find_element_by_tag_name('body')\n",
    "time.sleep(1.5)#브라우저 로딩시간기다려야함\n",
    "\n",
    "# 유튜브는 스크롤해야 전체를 볼 수 있음 # 전체 영상 개수에 따라 조절해야함\n",
    "endk = 110 # 5번 내림 # 500개면 한 100번정도 넉넉히 내리기 # 시험해보려고 1번만 내림\n",
    "while endk:\n",
    "    driver.find_element_by_tag_name('body').send_keys(Keys.END)\n",
    "    time.sleep(0.3)\n",
    "    endk -= 1    \n",
    "start_page = driver.page_source \n",
    "soup = BeautifulSoup(start_page,'lxml') # 전체 영상 목록의 page-source 이니 soup으로\n",
    "\n",
    "# 각 영상 페이지의 url 모음\n",
    "video_list = soup.find_all('ytd-grid-video-renderer',{'class':'style-scope ytd-grid-renderer'})\n",
    "\n",
    "hahaha_url = []\n",
    "base_url = 'http://www.youtube.com'\n",
    "for i in range(len(video_list)):\n",
    "    url = base_url+video_list[i].find('a',{'id':'thumbnail'})['href']\n",
    "    hahaha_url.append(url)"
   ]
  },
  {
   "cell_type": "code",
   "execution_count": 4,
   "metadata": {},
   "outputs": [
    {
     "data": {
      "text/plain": [
       "274"
      ]
     },
     "execution_count": 4,
     "metadata": {},
     "output_type": "execute_result"
    }
   ],
   "source": [
    "len(hahaha_url)"
   ]
  },
  {
   "cell_type": "code",
   "execution_count": 5,
   "metadata": {},
   "outputs": [
    {
     "name": "stdout",
     "output_type": "stream",
     "text": [
      "'NoneType' object is not subscriptable 42\n",
      "'NoneType' object is not subscriptable 43\n",
      "'NoneType' object is not subscriptable 44\n",
      "'NoneType' object is not subscriptable 72\n",
      "'NoneType' object is not subscriptable 73\n",
      "'NoneType' object is not subscriptable 74\n",
      "'NoneType' object is not subscriptable 102\n",
      "'NoneType' object is not subscriptable 103\n",
      "'NoneType' object is not subscriptable 104\n",
      "'NoneType' object has no attribute 'find' 120\n",
      "'NoneType' object is not subscriptable 132\n",
      "'NoneType' object is not subscriptable 133\n",
      "'NoneType' object is not subscriptable 134\n",
      "'NoneType' object is not subscriptable 222\n",
      "'NoneType' object is not subscriptable 223\n",
      "'NoneType' object is not subscriptable 224\n"
     ]
    }
   ],
   "source": [
    "hahaha = pd.DataFrame({'channel_name' :[],\n",
    "                           'subscribers' : [],\n",
    "                           'thumbnail' :[],\n",
    "                           'video_name':[],\n",
    "                           'video_length':[],\n",
    "                           'upload_date':[],\n",
    "                           'hits':[],\n",
    "                           'likes_num':[],\n",
    "                           'dislikes_num':[],\n",
    "                           'category':[] })\n",
    "\n",
    "for i in range(0,len(hahaha_url)):\n",
    "    \n",
    "    try :# 오류생겨서 try-except 추가        \n",
    "        channel_name = soup.find('title').text\n",
    "        subscribers = soup.find('yt-formatted-string',{'id':'subscriber-count'}).text\n",
    "        thumbnail = video_list[i].find('img', {'src' : True})['src'] \n",
    "        video_name = video_list[i].find('a',{'id':'video-title'}).text\n",
    "        video_length = video_list[i].find('span', {'class':'style-scope ytd-thumbnail-overlay-time-status-renderer'}).text.split('\\n')[1]\n",
    "\n",
    "        # 각 동영상 페이지 들어가기 시작 \n",
    "        start_url = hahaha_url[i]\n",
    "        driver.get(start_url) \n",
    "        body = driver.find_element_by_tag_name('body')\n",
    "\n",
    "        time.sleep(1.5)\n",
    "\n",
    "        # 댓글까지 쭉 보려면 스크롤 # 사실상 지금 댓글은 안보니 1번만 내리기\n",
    "        endk = 1 # 5번 내림\n",
    "        while endk:\n",
    "            driver.find_element_by_tag_name('body').send_keys(Keys.END)\n",
    "            time.sleep(0.3) # 내리는 시간 간격 \n",
    "            endk -= 1    \n",
    "        page = driver.page_source \n",
    "        html = BeautifulSoup(page,'lxml') # 각 페이지의 page_source 이니 html로\n",
    "\n",
    "\n",
    "        # 각 동영상 페이지 들어가서 얻을 수 있는 정보\n",
    "        pre_upload_date = html.find('div',{'id':'date'})\n",
    "        upload_date = pre_upload_date.find('yt-formatted-string', {'class':'style-scope ytd-video-primary-info-renderer'}).text  \n",
    "        pre_hits = html.find('yt-view-count-renderer', {'class':'style-scope ytd-video-primary-info-renderer'})\n",
    "        hits = pre_hits.find('span',{'class':'view-count style-scope yt-view-count-renderer'}).text.split()[1]\n",
    "        likes_num = html.find('yt-formatted-string',{'id':'text','class':'style-scope ytd-toggle-button-renderer style-text','aria-label':re.compile('좋아요')}).text+'개'\n",
    "        dislikes_num = html.find('yt-formatted-string',{'id':'text','class':'style-scope ytd-toggle-button-renderer style-text','aria-label':re.compile('싫어요')}).text+'개'\n",
    "        category = 'pets' # 바꾸면됨\n",
    "\n",
    "\n",
    "        # 마지막에 모은 정보 합치기\n",
    "        insert_data = pd.DataFrame({'channel_name' :[channel_name],\n",
    "                                   'subscribers' : [subscribers],\n",
    "                                   'thumbnail' :[thumbnail],\n",
    "                                   'video_name':[video_name],\n",
    "                                   'video_length':[video_length],\n",
    "                                   'upload_date':[upload_date],\n",
    "                                   'hits' :[hits],\n",
    "                                   'likes_num':[likes_num],\n",
    "                                   'dislikes_num':[dislikes_num],\n",
    "                                   'category':[category]})\n",
    "    \n",
    "        hahaha = hahaha.append(insert_data)\n",
    "    \n",
    "    except KeyError as e: # error뜬거는 포함 안하고 저장됨 (error 뜨는거 찾을 때 마다 그냥 넣어버리기)\n",
    "        print(k, i)\n",
    "    except AttributeError as a: \n",
    "        print(a ,i)\n",
    "    except IndexError as e:\n",
    "        print(e,i)\n",
    "    except TypeError as t:\n",
    "        print(t, i)"
   ]
  },
  {
   "cell_type": "code",
   "execution_count": 6,
   "metadata": {},
   "outputs": [
    {
     "name": "stdout",
     "output_type": "stream",
     "text": [
      "shape :  (258, 10)\n"
     ]
    }
   ],
   "source": [
    "print(\"shape : \",hahaha.shape)\n",
    "hahaha.to_csv('hahaha.csv', encoding='utf-8-sig')"
   ]
  },
  {
   "cell_type": "markdown",
   "metadata": {},
   "source": [
    "## 5. mochamilk"
   ]
  },
  {
   "cell_type": "markdown",
   "metadata": {},
   "source": [
    "https://www.youtube.com/channel/UCnjyiWHGEyww-p8QYSftx2A/videos"
   ]
  },
  {
   "cell_type": "code",
   "execution_count": 4,
   "metadata": {},
   "outputs": [],
   "source": [
    "# 원하는 유튜버 '동영상'에 들어가기 \n",
    "driver = webdriver.Chrome('@needs_for_you/chromedriver.exe')\n",
    "driver.maximize_window()\n",
    "driver.get('https://www.youtube.com/channel/UCnjyiWHGEyww-p8QYSftx2A/videos')\n",
    "body = driver.find_element_by_tag_name('body')\n",
    "time.sleep(1.5)#브라우저 로딩시간기다려야함\n",
    "\n",
    "# 유튜브는 스크롤해야 전체를 볼 수 있음 # 전체 영상 개수에 따라 조절해야함\n",
    "endk = 30 # 5번 내림 # 500개면 한 100번정도 넉넉히 내리기 # 시험해보려고 1번만 내림\n",
    "while endk:\n",
    "    driver.find_element_by_tag_name('body').send_keys(Keys.END)\n",
    "    time.sleep(0.3)\n",
    "    endk -= 1    \n",
    "start_page = driver.page_source \n",
    "soup = BeautifulSoup(start_page,'lxml') # 전체 영상 목록의 page-source 이니 soup으로\n",
    "\n",
    "# 각 영상 페이지의 url 모음\n",
    "video_list = soup.find_all('ytd-grid-video-renderer',{'class':'style-scope ytd-grid-renderer'})\n",
    "\n",
    "mochamilk_url = []\n",
    "base_url = 'http://www.youtube.com'\n",
    "for i in range(len(video_list)):\n",
    "    url = base_url+video_list[i].find('a',{'id':'thumbnail'})['href']\n",
    "    mochamilk_url.append(url)"
   ]
  },
  {
   "cell_type": "code",
   "execution_count": 5,
   "metadata": {},
   "outputs": [
    {
     "data": {
      "text/plain": [
       "116"
      ]
     },
     "execution_count": 5,
     "metadata": {},
     "output_type": "execute_result"
    }
   ],
   "source": [
    "len(mochamilk_url)"
   ]
  },
  {
   "cell_type": "code",
   "execution_count": 6,
   "metadata": {},
   "outputs": [
    {
     "name": "stdout",
     "output_type": "stream",
     "text": [
      "'NoneType' object has no attribute 'find' 0\n",
      "'NoneType' object has no attribute 'find' 1\n",
      "'NoneType' object has no attribute 'find' 2\n",
      "'NoneType' object has no attribute 'find' 3\n",
      "'NoneType' object has no attribute 'find' 4\n",
      "'NoneType' object has no attribute 'find' 5\n",
      "'NoneType' object has no attribute 'find' 6\n",
      "'NoneType' object has no attribute 'find' 7\n",
      "'NoneType' object has no attribute 'find' 8\n",
      "'NoneType' object has no attribute 'find' 9\n",
      "'NoneType' object has no attribute 'find' 10\n",
      "'NoneType' object has no attribute 'find' 11\n"
     ]
    }
   ],
   "source": [
    "mochamilk = pd.DataFrame({'channel_name' :[],\n",
    "                           'subscribers' : [],\n",
    "                           'thumbnail' :[],\n",
    "                           'video_name':[],\n",
    "                           'video_length':[],\n",
    "                           'upload_date':[],\n",
    "                           'hits':[],\n",
    "                           'likes_num':[],\n",
    "                           'dislikes_num':[],\n",
    "                           'category':[] })\n",
    "\n",
    "for i in range(0,len(mochamilk_url)):\n",
    "    \n",
    "    try :# 오류생겨서 try-except 추가        \n",
    "        channel_name = soup.find('title').text\n",
    "        subscribers = soup.find('yt-formatted-string',{'id':'subscriber-count'}).text\n",
    "        thumbnail = video_list[i].find('img', {'src' : True})['src'] \n",
    "        video_name = video_list[i].find('a',{'id':'video-title'}).text\n",
    "        video_length = video_list[i].find('span', {'class':'style-scope ytd-thumbnail-overlay-time-status-renderer'}).text.split('\\n')[1]\n",
    "\n",
    "        # 각 동영상 페이지 들어가기 시작 \n",
    "        start_url = mochamilk_url[i]\n",
    "        driver.get(start_url) \n",
    "        body = driver.find_element_by_tag_name('body')\n",
    "\n",
    "        time.sleep(1.5)\n",
    "\n",
    "        # 댓글까지 쭉 보려면 스크롤 # 사실상 지금 댓글은 안보니 1번만 내리기\n",
    "        endk = 1 # 5번 내림\n",
    "        while endk:\n",
    "            driver.find_element_by_tag_name('body').send_keys(Keys.END)\n",
    "            time.sleep(0.3) # 내리는 시간 간격 \n",
    "            endk -= 1    \n",
    "        page = driver.page_source \n",
    "        html = BeautifulSoup(page,'lxml') # 각 페이지의 page_source 이니 html로\n",
    "\n",
    "\n",
    "        # 각 동영상 페이지 들어가서 얻을 수 있는 정보\n",
    "        pre_upload_date = html.find('div',{'id':'date'})\n",
    "        upload_date = pre_upload_date.find('yt-formatted-string', {'class':'style-scope ytd-video-primary-info-renderer'}).text  \n",
    "        pre_hits = html.find('yt-view-count-renderer', {'class':'style-scope ytd-video-primary-info-renderer'})\n",
    "        hits = pre_hits.find('span',{'class':'view-count style-scope yt-view-count-renderer'}).text.split()[1]\n",
    "        likes_num = html.find('yt-formatted-string',{'id':'text','class':'style-scope ytd-toggle-button-renderer style-text','aria-label':re.compile('좋아요')}).text+'개'\n",
    "        dislikes_num = html.find('yt-formatted-string',{'id':'text','class':'style-scope ytd-toggle-button-renderer style-text','aria-label':re.compile('싫어요')}).text+'개'\n",
    "        category = 'pets' # 바꾸면됨\n",
    "\n",
    "\n",
    "        # 마지막에 모은 정보 합치기\n",
    "        insert_data = pd.DataFrame({'channel_name' :[channel_name],\n",
    "                                   'subscribers' : [subscribers],\n",
    "                                   'thumbnail' :[thumbnail],\n",
    "                                   'video_name':[video_name],\n",
    "                                   'video_length':[video_length],\n",
    "                                   'upload_date':[upload_date],\n",
    "                                   'hits' :[hits],\n",
    "                                   'likes_num':[likes_num],\n",
    "                                   'dislikes_num':[dislikes_num],\n",
    "                                   'category':[category]})\n",
    "    \n",
    "        mochamilk = mochamilk.append(insert_data)\n",
    "    \n",
    "    except KeyError as e: # error뜬거는 포함 안하고 저장됨 (error 뜨는거 찾을 때 마다 그냥 넣어버리기)\n",
    "        print(k, i)\n",
    "    except AttributeError as a: \n",
    "        print(a ,i)\n",
    "    except IndexError as e:\n",
    "        print(e,i)\n",
    "    except TypeError as t:\n",
    "        print(t, i)"
   ]
  },
  {
   "cell_type": "code",
   "execution_count": 7,
   "metadata": {},
   "outputs": [
    {
     "name": "stdout",
     "output_type": "stream",
     "text": [
      "shape :  (104, 10)\n"
     ]
    }
   ],
   "source": [
    "print(\"shape : \",mochamilk.shape)\n",
    "mochamilk.to_csv('mochamilk.csv', encoding='utf-8-sig')"
   ]
  },
  {
   "cell_type": "markdown",
   "metadata": {},
   "source": [
    "## 6. 소녀의행성"
   ]
  },
  {
   "cell_type": "markdown",
   "metadata": {},
   "source": [
    "https://www.youtube.com/channel/UC-IYpdOqjkER7B6cnChwlhA/videos"
   ]
  },
  {
   "cell_type": "code",
   "execution_count": 8,
   "metadata": {},
   "outputs": [],
   "source": [
    "# 원하는 유튜버 '동영상'에 들어가기 \n",
    "driver = webdriver.Chrome('@needs_for_you/chromedriver.exe')\n",
    "driver.maximize_window()\n",
    "driver.get('https://www.youtube.com/channel/UC-IYpdOqjkER7B6cnChwlhA/videos')\n",
    "body = driver.find_element_by_tag_name('body')\n",
    "time.sleep(1.5)#브라우저 로딩시간기다려야함\n",
    "\n",
    "# 유튜브는 스크롤해야 전체를 볼 수 있음 # 전체 영상 개수에 따라 조절해야함\n",
    "endk = 65 # 5번 내림 # 500개면 한 100번정도 넉넉히 내리기 # 시험해보려고 1번만 내림\n",
    "while endk:\n",
    "    driver.find_element_by_tag_name('body').send_keys(Keys.END)\n",
    "    time.sleep(0.3)\n",
    "    endk -= 1    \n",
    "start_page = driver.page_source \n",
    "soup = BeautifulSoup(start_page,'lxml') # 전체 영상 목록의 page-source 이니 soup으로\n",
    "\n",
    "# 각 영상 페이지의 url 모음\n",
    "video_list = soup.find_all('ytd-grid-video-renderer',{'class':'style-scope ytd-grid-renderer'})\n",
    "\n",
    "sohaengseong_url = []\n",
    "base_url = 'http://www.youtube.com'\n",
    "for i in range(len(video_list)):\n",
    "    url = base_url+video_list[i].find('a',{'id':'thumbnail'})['href']\n",
    "    sohaengseong_url.append(url)"
   ]
  },
  {
   "cell_type": "code",
   "execution_count": 9,
   "metadata": {},
   "outputs": [
    {
     "data": {
      "text/plain": [
       "241"
      ]
     },
     "execution_count": 9,
     "metadata": {},
     "output_type": "execute_result"
    }
   ],
   "source": [
    "len(sohaengseong_url)"
   ]
  },
  {
   "cell_type": "code",
   "execution_count": 10,
   "metadata": {},
   "outputs": [
    {
     "name": "stdout",
     "output_type": "stream",
     "text": [
      "'NoneType' object is not subscriptable 132\n",
      "'NoneType' object is not subscriptable 133\n",
      "'NoneType' object is not subscriptable 134\n",
      "'NoneType' object is not subscriptable 162\n",
      "'NoneType' object is not subscriptable 163\n",
      "'NoneType' object is not subscriptable 164\n",
      "'NoneType' object is not subscriptable 192\n",
      "'NoneType' object is not subscriptable 193\n",
      "'NoneType' object is not subscriptable 194\n"
     ]
    }
   ],
   "source": [
    "sohaengseong = pd.DataFrame({'channel_name' :[],\n",
    "                           'subscribers' : [],\n",
    "                           'thumbnail' :[],\n",
    "                           'video_name':[],\n",
    "                           'video_length':[],\n",
    "                           'upload_date':[],\n",
    "                           'hits':[],\n",
    "                           'likes_num':[],\n",
    "                           'dislikes_num':[],\n",
    "                           'category':[] })\n",
    "\n",
    "for i in range(0,len(sohaengseong_url)):\n",
    "    \n",
    "    try :# 오류생겨서 try-except 추가        \n",
    "        channel_name = soup.find('title').text\n",
    "        subscribers = soup.find('yt-formatted-string',{'id':'subscriber-count'}).text\n",
    "        thumbnail = video_list[i].find('img', {'src' : True})['src'] \n",
    "        video_name = video_list[i].find('a',{'id':'video-title'}).text\n",
    "        video_length = video_list[i].find('span', {'class':'style-scope ytd-thumbnail-overlay-time-status-renderer'}).text.split('\\n')[1]\n",
    "\n",
    "        # 각 동영상 페이지 들어가기 시작 \n",
    "        start_url = sohaengseong_url[i]\n",
    "        driver.get(start_url) \n",
    "        body = driver.find_element_by_tag_name('body')\n",
    "\n",
    "        time.sleep(1.5)\n",
    "\n",
    "        # 댓글까지 쭉 보려면 스크롤 # 사실상 지금 댓글은 안보니 1번만 내리기\n",
    "        endk = 1 # 5번 내림\n",
    "        while endk:\n",
    "            driver.find_element_by_tag_name('body').send_keys(Keys.END)\n",
    "            time.sleep(0.3) # 내리는 시간 간격 \n",
    "            endk -= 1    \n",
    "        page = driver.page_source \n",
    "        html = BeautifulSoup(page,'lxml') # 각 페이지의 page_source 이니 html로\n",
    "\n",
    "\n",
    "        # 각 동영상 페이지 들어가서 얻을 수 있는 정보\n",
    "        pre_upload_date = html.find('div',{'id':'date'})\n",
    "        upload_date = pre_upload_date.find('yt-formatted-string', {'class':'style-scope ytd-video-primary-info-renderer'}).text  \n",
    "        pre_hits = html.find('yt-view-count-renderer', {'class':'style-scope ytd-video-primary-info-renderer'})\n",
    "        hits = pre_hits.find('span',{'class':'view-count style-scope yt-view-count-renderer'}).text.split()[1]\n",
    "        likes_num = html.find('yt-formatted-string',{'id':'text','class':'style-scope ytd-toggle-button-renderer style-text','aria-label':re.compile('좋아요')}).text+'개'\n",
    "        dislikes_num = html.find('yt-formatted-string',{'id':'text','class':'style-scope ytd-toggle-button-renderer style-text','aria-label':re.compile('싫어요')}).text+'개'\n",
    "        category = 'pets' # 바꾸면됨\n",
    "\n",
    "\n",
    "        # 마지막에 모은 정보 합치기\n",
    "        insert_data = pd.DataFrame({'channel_name' :[channel_name],\n",
    "                                   'subscribers' : [subscribers],\n",
    "                                   'thumbnail' :[thumbnail],\n",
    "                                   'video_name':[video_name],\n",
    "                                   'video_length':[video_length],\n",
    "                                   'upload_date':[upload_date],\n",
    "                                   'hits' :[hits],\n",
    "                                   'likes_num':[likes_num],\n",
    "                                   'dislikes_num':[dislikes_num],\n",
    "                                   'category':[category]})\n",
    "    \n",
    "        sohaengseong = sohaengseong.append(insert_data)\n",
    "    \n",
    "    except KeyError as e: # error뜬거는 포함 안하고 저장됨 (error 뜨는거 찾을 때 마다 그냥 넣어버리기)\n",
    "        print(k, i)\n",
    "    except AttributeError as a: \n",
    "        print(a ,i)\n",
    "    except IndexError as e:\n",
    "        print(e,i)\n",
    "    except TypeError as t:\n",
    "        print(t, i)"
   ]
  },
  {
   "cell_type": "code",
   "execution_count": 11,
   "metadata": {},
   "outputs": [
    {
     "name": "stdout",
     "output_type": "stream",
     "text": [
      "shape :  (232, 10)\n"
     ]
    }
   ],
   "source": [
    "print(\"shape : \",sohaengseong.shape)\n",
    "sohaengseong.to_csv('sohaengseong.csv', encoding='utf-8-sig')"
   ]
  },
  {
   "cell_type": "markdown",
   "metadata": {},
   "source": [
    "## 7. 22똥괭이네"
   ]
  },
  {
   "cell_type": "markdown",
   "metadata": {},
   "source": [
    "https://www.youtube.com/channel/UCYaBl0gtXV_3sHW4bQjq0hA/videos"
   ]
  },
  {
   "cell_type": "code",
   "execution_count": 15,
   "metadata": {},
   "outputs": [],
   "source": [
    "# 원하는 유튜버 '동영상'에 들어가기 \n",
    "driver = webdriver.Chrome('@needs_for_you/chromedriver.exe')\n",
    "driver.maximize_window()\n",
    "driver.get('https://www.youtube.com/channel/UCYaBl0gtXV_3sHW4bQjq0hA/videos')\n",
    "body = driver.find_element_by_tag_name('body')\n",
    "time.sleep(1.5)#브라우저 로딩시간기다려야함\n",
    "\n",
    "# 유튜브는 스크롤해야 전체를 볼 수 있음 # 전체 영상 개수에 따라 조절해야함\n",
    "endk = 110 # 5번 내림 # 500개면 한 100번정도 넉넉히 내리기 # 시험해보려고 1번만 내림\n",
    "while endk:\n",
    "    driver.find_element_by_tag_name('body').send_keys(Keys.END)\n",
    "    time.sleep(0.3)\n",
    "    endk -= 1    \n",
    "start_page = driver.page_source \n",
    "soup = BeautifulSoup(start_page,'lxml') # 전체 영상 목록의 page-source 이니 soup으로\n",
    "\n",
    "# 각 영상 페이지의 url 모음\n",
    "video_list = soup.find_all('ytd-grid-video-renderer',{'class':'style-scope ytd-grid-renderer'})\n",
    "\n",
    "ddongcat_url = []\n",
    "base_url = 'http://www.youtube.com'\n",
    "for i in range(len(video_list)):\n",
    "    url = base_url+video_list[i].find('a',{'id':'thumbnail'})['href']\n",
    "    ddongcat_url.append(url)"
   ]
  },
  {
   "cell_type": "code",
   "execution_count": 16,
   "metadata": {},
   "outputs": [
    {
     "data": {
      "text/plain": [
       "692"
      ]
     },
     "execution_count": 16,
     "metadata": {},
     "output_type": "execute_result"
    }
   ],
   "source": [
    "len(ddongcat_url)"
   ]
  },
  {
   "cell_type": "code",
   "execution_count": 17,
   "metadata": {},
   "outputs": [
    {
     "name": "stdout",
     "output_type": "stream",
     "text": [
      "'NoneType' object is not subscriptable 102\n",
      "'NoneType' object is not subscriptable 103\n",
      "'NoneType' object is not subscriptable 104\n",
      "'NoneType' object is not subscriptable 192\n",
      "'NoneType' object is not subscriptable 193\n",
      "'NoneType' object is not subscriptable 194\n",
      "'NoneType' object is not subscriptable 312\n",
      "'NoneType' object is not subscriptable 313\n",
      "'NoneType' object is not subscriptable 314\n",
      "'NoneType' object is not subscriptable 372\n",
      "'NoneType' object is not subscriptable 373\n",
      "'NoneType' object is not subscriptable 374\n",
      "'NoneType' object is not subscriptable 462\n",
      "'NoneType' object is not subscriptable 463\n",
      "'NoneType' object is not subscriptable 464\n",
      "'NoneType' object is not subscriptable 492\n",
      "'NoneType' object is not subscriptable 493\n",
      "'NoneType' object is not subscriptable 494\n",
      "'NoneType' object is not subscriptable 551\n",
      "'NoneType' object is not subscriptable 552\n",
      "'NoneType' object is not subscriptable 553\n",
      "'NoneType' object is not subscriptable 554\n",
      "'NoneType' object is not subscriptable 611\n",
      "'NoneType' object is not subscriptable 612\n",
      "'NoneType' object is not subscriptable 613\n",
      "'NoneType' object is not subscriptable 614\n"
     ]
    }
   ],
   "source": [
    "ddongcat = pd.DataFrame({'channel_name' :[],\n",
    "                           'subscribers' : [],\n",
    "                           'thumbnail' :[],\n",
    "                           'video_name':[],\n",
    "                           'video_length':[],\n",
    "                           'upload_date':[],\n",
    "                           'hits':[],\n",
    "                           'likes_num':[],\n",
    "                           'dislikes_num':[],\n",
    "                           'category':[] })\n",
    "\n",
    "for i in range(0,len(ddongcat_url)):\n",
    "    \n",
    "    try :# 오류생겨서 try-except 추가        \n",
    "        channel_name = soup.find('title').text\n",
    "        subscribers = soup.find('yt-formatted-string',{'id':'subscriber-count'}).text\n",
    "        thumbnail = video_list[i].find('img', {'src' : True})['src'] \n",
    "        video_name = video_list[i].find('a',{'id':'video-title'}).text\n",
    "        video_length = video_list[i].find('span', {'class':'style-scope ytd-thumbnail-overlay-time-status-renderer'}).text.split('\\n')[1]\n",
    "\n",
    "        # 각 동영상 페이지 들어가기 시작 \n",
    "        start_url = ddongcat_url[i]\n",
    "        driver.get(start_url) \n",
    "        body = driver.find_element_by_tag_name('body')\n",
    "\n",
    "        time.sleep(1.5)\n",
    "\n",
    "        # 댓글까지 쭉 보려면 스크롤 # 사실상 지금 댓글은 안보니 1번만 내리기\n",
    "        endk = 1 # 5번 내림\n",
    "        while endk:\n",
    "            driver.find_element_by_tag_name('body').send_keys(Keys.END)\n",
    "            time.sleep(0.3) # 내리는 시간 간격 \n",
    "            endk -= 1    \n",
    "        page = driver.page_source \n",
    "        html = BeautifulSoup(page,'lxml') # 각 페이지의 page_source 이니 html로\n",
    "\n",
    "\n",
    "        # 각 동영상 페이지 들어가서 얻을 수 있는 정보\n",
    "        pre_upload_date = html.find('div',{'id':'date'})\n",
    "        upload_date = pre_upload_date.find('yt-formatted-string', {'class':'style-scope ytd-video-primary-info-renderer'}).text  \n",
    "        pre_hits = html.find('yt-view-count-renderer', {'class':'style-scope ytd-video-primary-info-renderer'})\n",
    "        hits = pre_hits.find('span',{'class':'view-count style-scope yt-view-count-renderer'}).text.split()[1]\n",
    "        likes_num = html.find('yt-formatted-string',{'id':'text','class':'style-scope ytd-toggle-button-renderer style-text','aria-label':re.compile('좋아요')}).text+'개'\n",
    "        dislikes_num = html.find('yt-formatted-string',{'id':'text','class':'style-scope ytd-toggle-button-renderer style-text','aria-label':re.compile('싫어요')}).text+'개'\n",
    "        category = 'pets' # 바꾸면됨\n",
    "\n",
    "\n",
    "        # 마지막에 모은 정보 합치기\n",
    "        insert_data = pd.DataFrame({'channel_name' :[channel_name],\n",
    "                                   'subscribers' : [subscribers],\n",
    "                                   'thumbnail' :[thumbnail],\n",
    "                                   'video_name':[video_name],\n",
    "                                   'video_length':[video_length],\n",
    "                                   'upload_date':[upload_date],\n",
    "                                   'hits' :[hits],\n",
    "                                   'likes_num':[likes_num],\n",
    "                                   'dislikes_num':[dislikes_num],\n",
    "                                   'category':[category]})\n",
    "    \n",
    "        ddongcat = ddongcat.append(insert_data)\n",
    "    \n",
    "    except KeyError as e: # error뜬거는 포함 안하고 저장됨 (error 뜨는거 찾을 때 마다 그냥 넣어버리기)\n",
    "        print(k, i)\n",
    "    except AttributeError as a: \n",
    "        print(a ,i)\n",
    "    except IndexError as e:\n",
    "        print(e,i)\n",
    "    except TypeError as t:\n",
    "        print(t, i)"
   ]
  },
  {
   "cell_type": "code",
   "execution_count": 18,
   "metadata": {},
   "outputs": [
    {
     "name": "stdout",
     "output_type": "stream",
     "text": [
      "shape :  (666, 10)\n"
     ]
    }
   ],
   "source": [
    "print(\"shape : \",ddongcat.shape)\n",
    "ddongcat.to_csv('ddongcat.csv', encoding='utf-8-sig')"
   ]
  },
  {
   "cell_type": "markdown",
   "metadata": {},
   "source": [
    "## 8. 냥이아빠"
   ]
  },
  {
   "cell_type": "markdown",
   "metadata": {},
   "source": [
    "https://www.youtube.com/channel/UC5AAf4_zZxk-mCl46TogZQQ/videos"
   ]
  },
  {
   "cell_type": "code",
   "execution_count": 19,
   "metadata": {},
   "outputs": [],
   "source": [
    "# 원하는 유튜버 '동영상'에 들어가기 \n",
    "driver = webdriver.Chrome('@needs_for_you/chromedriver.exe')\n",
    "driver.maximize_window()\n",
    "driver.get('https://www.youtube.com/channel/UC5AAf4_zZxk-mCl46TogZQQ/videos')\n",
    "body = driver.find_element_by_tag_name('body')\n",
    "time.sleep(1.5)#브라우저 로딩시간기다려야함\n",
    "\n",
    "# 유튜브는 스크롤해야 전체를 볼 수 있음 # 전체 영상 개수에 따라 조절해야함\n",
    "endk = 110 # 5번 내림 # 500개면 한 100번정도 넉넉히 내리기 # 시험해보려고 1번만 내림\n",
    "while endk:\n",
    "    driver.find_element_by_tag_name('body').send_keys(Keys.END)\n",
    "    time.sleep(0.3)\n",
    "    endk -= 1    \n",
    "start_page = driver.page_source \n",
    "soup = BeautifulSoup(start_page,'lxml') # 전체 영상 목록의 page-source 이니 soup으로\n",
    "\n",
    "# 각 영상 페이지의 url 모음\n",
    "video_list = soup.find_all('ytd-grid-video-renderer',{'class':'style-scope ytd-grid-renderer'})\n",
    "\n",
    "catdaddy_url = []\n",
    "base_url = 'http://www.youtube.com'\n",
    "for i in range(len(video_list)):\n",
    "    url = base_url+video_list[i].find('a',{'id':'thumbnail'})['href']\n",
    "    catdaddy_url.append(url)"
   ]
  },
  {
   "cell_type": "code",
   "execution_count": 20,
   "metadata": {},
   "outputs": [
    {
     "data": {
      "text/plain": [
       "231"
      ]
     },
     "execution_count": 20,
     "metadata": {},
     "output_type": "execute_result"
    }
   ],
   "source": [
    "len(catdaddy_url)"
   ]
  },
  {
   "cell_type": "code",
   "execution_count": 21,
   "metadata": {},
   "outputs": [
    {
     "name": "stdout",
     "output_type": "stream",
     "text": [
      "'NoneType' object has no attribute 'find' 0\n",
      "'NoneType' object has no attribute 'find' 1\n",
      "'NoneType' object has no attribute 'find' 2\n",
      "'NoneType' object has no attribute 'find' 3\n",
      "'NoneType' object has no attribute 'find' 4\n",
      "'NoneType' object has no attribute 'find' 5\n",
      "'NoneType' object has no attribute 'find' 6\n",
      "'NoneType' object has no attribute 'find' 7\n",
      "'NoneType' object has no attribute 'find' 8\n",
      "'NoneType' object has no attribute 'find' 9\n",
      "'NoneType' object has no attribute 'find' 10\n",
      "'NoneType' object has no attribute 'find' 11\n",
      "'NoneType' object has no attribute 'find' 12\n",
      "'NoneType' object has no attribute 'find' 13\n",
      "'NoneType' object has no attribute 'find' 14\n",
      "'NoneType' object has no attribute 'find' 15\n",
      "'NoneType' object has no attribute 'find' 16\n",
      "'NoneType' object has no attribute 'find' 17\n",
      "'NoneType' object has no attribute 'find' 18\n",
      "'NoneType' object has no attribute 'find' 19\n",
      "'NoneType' object has no attribute 'find' 20\n",
      "'NoneType' object has no attribute 'find' 21\n",
      "'NoneType' object has no attribute 'find' 22\n",
      "'NoneType' object has no attribute 'find' 23\n",
      "'NoneType' object has no attribute 'find' 24\n",
      "'NoneType' object has no attribute 'find' 25\n",
      "'NoneType' object has no attribute 'find' 26\n",
      "'NoneType' object has no attribute 'find' 27\n",
      "'NoneType' object has no attribute 'find' 28\n",
      "'NoneType' object has no attribute 'find' 29\n",
      "'NoneType' object has no attribute 'find' 30\n",
      "'NoneType' object has no attribute 'find' 31\n",
      "'NoneType' object has no attribute 'find' 32\n",
      "'NoneType' object has no attribute 'find' 33\n",
      "'NoneType' object has no attribute 'find' 34\n",
      "'NoneType' object has no attribute 'find' 35\n",
      "'NoneType' object has no attribute 'find' 36\n",
      "'NoneType' object has no attribute 'find' 37\n",
      "'NoneType' object has no attribute 'find' 38\n",
      "'NoneType' object has no attribute 'find' 39\n",
      "'NoneType' object has no attribute 'find' 40\n",
      "'NoneType' object has no attribute 'find' 41\n",
      "'NoneType' object is not subscriptable 42\n",
      "'NoneType' object is not subscriptable 43\n",
      "'NoneType' object is not subscriptable 44\n",
      "'NoneType' object has no attribute 'find' 45\n",
      "'NoneType' object has no attribute 'find' 46\n",
      "'NoneType' object has no attribute 'find' 47\n",
      "'NoneType' object has no attribute 'find' 48\n",
      "'NoneType' object has no attribute 'find' 49\n",
      "'NoneType' object has no attribute 'find' 50\n",
      "'NoneType' object has no attribute 'find' 51\n",
      "'NoneType' object is not subscriptable 132\n",
      "'NoneType' object is not subscriptable 133\n",
      "'NoneType' object is not subscriptable 134\n"
     ]
    }
   ],
   "source": [
    "catdaddy = pd.DataFrame({'channel_name' :[],\n",
    "                           'subscribers' : [],\n",
    "                           'thumbnail' :[],\n",
    "                           'video_name':[],\n",
    "                           'video_length':[],\n",
    "                           'upload_date':[],\n",
    "                           'hits':[],\n",
    "                           'likes_num':[],\n",
    "                           'dislikes_num':[],\n",
    "                           'category':[] })\n",
    "\n",
    "for i in range(0,len(catdaddy_url)):\n",
    "    \n",
    "    try :# 오류생겨서 try-except 추가        \n",
    "        channel_name = soup.find('title').text\n",
    "        subscribers = soup.find('yt-formatted-string',{'id':'subscriber-count'}).text\n",
    "        thumbnail = video_list[i].find('img', {'src' : True})['src'] \n",
    "        video_name = video_list[i].find('a',{'id':'video-title'}).text\n",
    "        video_length = video_list[i].find('span', {'class':'style-scope ytd-thumbnail-overlay-time-status-renderer'}).text.split('\\n')[1]\n",
    "\n",
    "        # 각 동영상 페이지 들어가기 시작 \n",
    "        start_url = catdaddy_url[i]\n",
    "        driver.get(start_url) \n",
    "        body = driver.find_element_by_tag_name('body')\n",
    "\n",
    "        time.sleep(1.5)\n",
    "\n",
    "        # 댓글까지 쭉 보려면 스크롤 # 사실상 지금 댓글은 안보니 1번만 내리기\n",
    "        endk = 1 # 5번 내림\n",
    "        while endk:\n",
    "            driver.find_element_by_tag_name('body').send_keys(Keys.END)\n",
    "            time.sleep(0.3) # 내리는 시간 간격 \n",
    "            endk -= 1    \n",
    "        page = driver.page_source \n",
    "        html = BeautifulSoup(page,'lxml') # 각 페이지의 page_source 이니 html로\n",
    "\n",
    "\n",
    "        # 각 동영상 페이지 들어가서 얻을 수 있는 정보\n",
    "        pre_upload_date = html.find('div',{'id':'date'})\n",
    "        upload_date = pre_upload_date.find('yt-formatted-string', {'class':'style-scope ytd-video-primary-info-renderer'}).text  \n",
    "        pre_hits = html.find('yt-view-count-renderer', {'class':'style-scope ytd-video-primary-info-renderer'})\n",
    "        hits = pre_hits.find('span',{'class':'view-count style-scope yt-view-count-renderer'}).text.split()[1]\n",
    "        likes_num = html.find('yt-formatted-string',{'id':'text','class':'style-scope ytd-toggle-button-renderer style-text','aria-label':re.compile('좋아요')}).text+'개'\n",
    "        dislikes_num = html.find('yt-formatted-string',{'id':'text','class':'style-scope ytd-toggle-button-renderer style-text','aria-label':re.compile('싫어요')}).text+'개'\n",
    "        category = 'pets' # 바꾸면됨\n",
    "\n",
    "\n",
    "        # 마지막에 모은 정보 합치기\n",
    "        insert_data = pd.DataFrame({'channel_name' :[channel_name],\n",
    "                                   'subscribers' : [subscribers],\n",
    "                                   'thumbnail' :[thumbnail],\n",
    "                                   'video_name':[video_name],\n",
    "                                   'video_length':[video_length],\n",
    "                                   'upload_date':[upload_date],\n",
    "                                   'hits' :[hits],\n",
    "                                   'likes_num':[likes_num],\n",
    "                                   'dislikes_num':[dislikes_num],\n",
    "                                   'category':[category]})\n",
    "    \n",
    "        catdaddy = catdaddy.append(insert_data)\n",
    "    \n",
    "    except KeyError as e: # error뜬거는 포함 안하고 저장됨 (error 뜨는거 찾을 때 마다 그냥 넣어버리기)\n",
    "        print(k, i)\n",
    "    except AttributeError as a: \n",
    "        print(a ,i)\n",
    "    except IndexError as e:\n",
    "        print(e,i)\n",
    "    except TypeError as t:\n",
    "        print(t, i)"
   ]
  },
  {
   "cell_type": "code",
   "execution_count": 22,
   "metadata": {},
   "outputs": [
    {
     "name": "stdout",
     "output_type": "stream",
     "text": [
      "shape :  (176, 10)\n"
     ]
    }
   ],
   "source": [
    "print(\"shape : \",catdaddy.shape)\n",
    "catdaddy.to_csv('catdaddy.csv', encoding='utf-8-sig')"
   ]
  },
  {
   "cell_type": "markdown",
   "metadata": {},
   "source": [
    "## 9. 밀키와 복이MilkyBoki"
   ]
  },
  {
   "cell_type": "markdown",
   "metadata": {},
   "source": [
    "https://www.youtube.com/channel/UCP1CQH2PVJv4-glNTuVJl3g/videos"
   ]
  },
  {
   "cell_type": "code",
   "execution_count": 19,
   "metadata": {},
   "outputs": [],
   "source": [
    "# 원하는 유튜버 '동영상'에 들어가기 \n",
    "driver = webdriver.Chrome('@needs_for_you/chromedriver.exe')\n",
    "driver.maximize_window()\n",
    "driver.get('https://www.youtube.com/channel/UCP1CQH2PVJv4-glNTuVJl3g/videos')\n",
    "body = driver.find_element_by_tag_name('body')\n",
    "time.sleep(1.5)#브라우저 로딩시간기다려야함\n",
    "\n",
    "# 유튜브는 스크롤해야 전체를 볼 수 있음 # 전체 영상 개수에 따라 조절해야함\n",
    "endk = 110 # 5번 내림 # 500개면 한 100번정도 넉넉히 내리기 # 시험해보려고 1번만 내림\n",
    "while endk:\n",
    "    driver.find_element_by_tag_name('body').send_keys(Keys.END)\n",
    "    time.sleep(0.3)\n",
    "    endk -= 1    \n",
    "start_page = driver.page_source \n",
    "soup = BeautifulSoup(start_page,'lxml') # 전체 영상 목록의 page-source 이니 soup으로\n",
    "\n",
    "# 각 영상 페이지의 url 모음\n",
    "video_list = soup.find_all('ytd-grid-video-renderer',{'class':'style-scope ytd-grid-renderer'})\n",
    "\n",
    "milkyboki_url = []\n",
    "base_url = 'http://www.youtube.com'\n",
    "for i in range(len(video_list)):\n",
    "    url = base_url+video_list[i].find('a',{'id':'thumbnail'})['href']\n",
    "    milkyboki_url.append(url)"
   ]
  },
  {
   "cell_type": "code",
   "execution_count": 20,
   "metadata": {},
   "outputs": [
    {
     "data": {
      "text/plain": [
       "146"
      ]
     },
     "execution_count": 20,
     "metadata": {},
     "output_type": "execute_result"
    }
   ],
   "source": [
    "len(milkyboki_url)"
   ]
  },
  {
   "cell_type": "code",
   "execution_count": 21,
   "metadata": {},
   "outputs": [],
   "source": [
    "milkyboki = pd.DataFrame({'channel_name' :[],\n",
    "                           'subscribers' : [],\n",
    "                           'thumbnail' :[],\n",
    "                           'video_name':[],\n",
    "                           'video_length':[],\n",
    "                           'upload_date':[],\n",
    "                           'hits':[],\n",
    "                           'likes_num':[],\n",
    "                           'dislikes_num':[],\n",
    "                           'category':[] })\n",
    "\n",
    "for i in range(0,len(milkyboki_url)):\n",
    "    \n",
    "    try :# 오류생겨서 try-except 추가        \n",
    "        channel_name = soup.find('title').text\n",
    "        subscribers = soup.find('yt-formatted-string',{'id':'subscriber-count'}).text\n",
    "        thumbnail = video_list[i].find('img', {'src' : True})['src'] \n",
    "        video_name = video_list[i].find('a',{'id':'video-title'}).text\n",
    "        video_length = video_list[i].find('span', {'class':'style-scope ytd-thumbnail-overlay-time-status-renderer'}).text.split('\\n')[1]\n",
    "\n",
    "        # 각 동영상 페이지 들어가기 시작 \n",
    "        start_url = milkyboki_url[i]\n",
    "        driver.get(start_url) \n",
    "        body = driver.find_element_by_tag_name('body')\n",
    "\n",
    "        time.sleep(1.5)\n",
    "\n",
    "        # 댓글까지 쭉 보려면 스크롤 # 사실상 지금 댓글은 안보니 1번만 내리기\n",
    "        endk = 1 # 5번 내림\n",
    "        while endk:\n",
    "            driver.find_element_by_tag_name('body').send_keys(Keys.END)\n",
    "            time.sleep(0.3) # 내리는 시간 간격 \n",
    "            endk -= 1    \n",
    "        page = driver.page_source \n",
    "        html = BeautifulSoup(page,'lxml') # 각 페이지의 page_source 이니 html로\n",
    "\n",
    "\n",
    "        # 각 동영상 페이지 들어가서 얻을 수 있는 정보\n",
    "        pre_upload_date = html.find('div',{'id':'date'})\n",
    "        upload_date = pre_upload_date.find('yt-formatted-string', {'class':'style-scope ytd-video-primary-info-renderer'}).text  \n",
    "        pre_hits = html.find('yt-view-count-renderer', {'class':'style-scope ytd-video-primary-info-renderer'})\n",
    "        hits = pre_hits.find('span',{'class':'view-count style-scope yt-view-count-renderer'}).text.split()[1]\n",
    "        likes_num = html.find('yt-formatted-string',{'id':'text','class':'style-scope ytd-toggle-button-renderer style-text','aria-label':re.compile('좋아요')}).text+'개'\n",
    "        dislikes_num = html.find('yt-formatted-string',{'id':'text','class':'style-scope ytd-toggle-button-renderer style-text','aria-label':re.compile('싫어요')}).text+'개'\n",
    "        category = 'pets' # 바꾸면됨\n",
    "\n",
    "\n",
    "        # 마지막에 모은 정보 합치기\n",
    "        insert_data = pd.DataFrame({'channel_name' :[channel_name],\n",
    "                                   'subscribers' : [subscribers],\n",
    "                                   'thumbnail' :[thumbnail],\n",
    "                                   'video_name':[video_name],\n",
    "                                   'video_length':[video_length],\n",
    "                                   'upload_date':[upload_date],\n",
    "                                   'hits' :[hits],\n",
    "                                   'likes_num':[likes_num],\n",
    "                                   'dislikes_num':[dislikes_num],\n",
    "                                   'category':[category]})\n",
    "    \n",
    "        milkyboki = milkyboki.append(insert_data)\n",
    "    \n",
    "    except KeyError as e: # error뜬거는 포함 안하고 저장됨 (error 뜨는거 찾을 때 마다 그냥 넣어버리기)\n",
    "        print(k, i)\n",
    "    except AttributeError as a: \n",
    "        print(a ,i)\n",
    "    except IndexError as e:\n",
    "        print(e,i)\n",
    "    except TypeError as t:\n",
    "        print(t, i)"
   ]
  },
  {
   "cell_type": "code",
   "execution_count": 22,
   "metadata": {},
   "outputs": [
    {
     "name": "stdout",
     "output_type": "stream",
     "text": [
      "shape :  (146, 10)\n"
     ]
    }
   ],
   "source": [
    "print(\"shape : \",milkyboki.shape)\n",
    "milkyboki.to_csv('milkyboki.csv', encoding='utf-8-sig')"
   ]
  },
  {
   "cell_type": "markdown",
   "metadata": {},
   "source": [
    "## 10. 뭉땡뭉땡"
   ]
  },
  {
   "cell_type": "markdown",
   "metadata": {},
   "source": [
    "https://www.youtube.com/channel/UCzay0uHEiaSsKmuGkCg-mSg/videos"
   ]
  },
  {
   "cell_type": "code",
   "execution_count": 23,
   "metadata": {},
   "outputs": [],
   "source": [
    "# 원하는 유튜버 '동영상'에 들어가기 \n",
    "driver = webdriver.Chrome('@needs_for_you/chromedriver.exe')\n",
    "driver.maximize_window()\n",
    "driver.get('https://www.youtube.com/channel/UCzay0uHEiaSsKmuGkCg-mSg/videos')\n",
    "body = driver.find_element_by_tag_name('body')\n",
    "time.sleep(1.5)#브라우저 로딩시간기다려야함\n",
    "\n",
    "# 유튜브는 스크롤해야 전체를 볼 수 있음 # 전체 영상 개수에 따라 조절해야함\n",
    "endk = 110 # 5번 내림 # 500개면 한 100번정도 넉넉히 내리기 # 시험해보려고 1번만 내림\n",
    "while endk:\n",
    "    driver.find_element_by_tag_name('body').send_keys(Keys.END)\n",
    "    time.sleep(0.3)\n",
    "    endk -= 1    \n",
    "start_page = driver.page_source \n",
    "soup = BeautifulSoup(start_page,'lxml') # 전체 영상 목록의 page-source 이니 soup으로\n",
    "\n",
    "# 각 영상 페이지의 url 모음\n",
    "video_list = soup.find_all('ytd-grid-video-renderer',{'class':'style-scope ytd-grid-renderer'})\n",
    "\n",
    "mungttaeng_url = []\n",
    "base_url = 'http://www.youtube.com'\n",
    "for i in range(len(video_list)):\n",
    "    url = base_url+video_list[i].find('a',{'id':'thumbnail'})['href']\n",
    "    mungttaeng_url.append(url)"
   ]
  },
  {
   "cell_type": "code",
   "execution_count": 24,
   "metadata": {},
   "outputs": [
    {
     "data": {
      "text/plain": [
       "306"
      ]
     },
     "execution_count": 24,
     "metadata": {},
     "output_type": "execute_result"
    }
   ],
   "source": [
    "len(mungttaeng_url)"
   ]
  },
  {
   "cell_type": "code",
   "execution_count": 25,
   "metadata": {
    "scrolled": true
   },
   "outputs": [
    {
     "name": "stdout",
     "output_type": "stream",
     "text": [
      "'NoneType' object is not subscriptable 18\n",
      "'NoneType' object is not subscriptable 19\n",
      "'NoneType' object is not subscriptable 76\n",
      "'NoneType' object is not subscriptable 77\n",
      "'NoneType' object is not subscriptable 78\n",
      "'NoneType' object is not subscriptable 79\n",
      "'NoneType' object is not subscriptable 136\n",
      "'NoneType' object is not subscriptable 137\n",
      "'NoneType' object is not subscriptable 138\n",
      "'NoneType' object is not subscriptable 139\n",
      "'NoneType' object is not subscriptable 192\n",
      "'NoneType' object is not subscriptable 193\n",
      "'NoneType' object is not subscriptable 194\n",
      "'NoneType' object is not subscriptable 195\n",
      "'NoneType' object is not subscriptable 222\n",
      "'NoneType' object is not subscriptable 223\n",
      "'NoneType' object is not subscriptable 252\n",
      "'NoneType' object is not subscriptable 253\n",
      "'NoneType' object is not subscriptable 254\n",
      "'NoneType' object is not subscriptable 255\n",
      "'NoneType' object is not subscriptable 256\n",
      "'NoneType' object is not subscriptable 257\n",
      "'NoneType' object is not subscriptable 258\n",
      "'NoneType' object is not subscriptable 259\n",
      "'NoneType' object is not subscriptable 284\n",
      "'NoneType' object is not subscriptable 285\n",
      "'NoneType' object is not subscriptable 286\n",
      "'NoneType' object is not subscriptable 287\n"
     ]
    }
   ],
   "source": [
    "mungttaeng = pd.DataFrame({'channel_name' :[],\n",
    "                           'subscribers' : [],\n",
    "                           'thumbnail' :[],\n",
    "                           'video_name':[],\n",
    "                           'video_length':[],\n",
    "                           'upload_date':[],\n",
    "                           'hits':[],\n",
    "                           'likes_num':[],\n",
    "                           'dislikes_num':[],\n",
    "                           'category':[] })\n",
    "\n",
    "for i in range(0,len(mungttaeng_url)):\n",
    "    \n",
    "    try :# 오류생겨서 try-except 추가        \n",
    "        channel_name = soup.find('title').text\n",
    "        subscribers = soup.find('yt-formatted-string',{'id':'subscriber-count'}).text\n",
    "        thumbnail = video_list[i].find('img', {'src' : True})['src'] \n",
    "        video_name = video_list[i].find('a',{'id':'video-title'}).text\n",
    "        video_length = video_list[i].find('span', {'class':'style-scope ytd-thumbnail-overlay-time-status-renderer'}).text.split('\\n')[1]\n",
    "\n",
    "        # 각 동영상 페이지 들어가기 시작 \n",
    "        start_url = mungttaeng_url[i]\n",
    "        driver.get(start_url) \n",
    "        body = driver.find_element_by_tag_name('body')\n",
    "\n",
    "        time.sleep(1.5)\n",
    "\n",
    "        # 댓글까지 쭉 보려면 스크롤 # 사실상 지금 댓글은 안보니 1번만 내리기\n",
    "        endk = 1 # 5번 내림\n",
    "        while endk:\n",
    "            driver.find_element_by_tag_name('body').send_keys(Keys.END)\n",
    "            time.sleep(0.3) # 내리는 시간 간격 \n",
    "            endk -= 1    \n",
    "        page = driver.page_source \n",
    "        html = BeautifulSoup(page,'lxml') # 각 페이지의 page_source 이니 html로\n",
    "\n",
    "\n",
    "        # 각 동영상 페이지 들어가서 얻을 수 있는 정보\n",
    "        pre_upload_date = html.find('div',{'id':'date'})\n",
    "        upload_date = pre_upload_date.find('yt-formatted-string', {'class':'style-scope ytd-video-primary-info-renderer'}).text  \n",
    "        pre_hits = html.find('yt-view-count-renderer', {'class':'style-scope ytd-video-primary-info-renderer'})\n",
    "        hits = pre_hits.find('span',{'class':'view-count style-scope yt-view-count-renderer'}).text.split()[1]\n",
    "        likes_num = html.find('yt-formatted-string',{'id':'text','class':'style-scope ytd-toggle-button-renderer style-text','aria-label':re.compile('좋아요')}).text+'개'\n",
    "        dislikes_num = html.find('yt-formatted-string',{'id':'text','class':'style-scope ytd-toggle-button-renderer style-text','aria-label':re.compile('싫어요')}).text+'개'\n",
    "        category = 'pets' # 바꾸면됨\n",
    "\n",
    "\n",
    "        # 마지막에 모은 정보 합치기\n",
    "        insert_data = pd.DataFrame({'channel_name' :[channel_name],\n",
    "                                   'subscribers' : [subscribers],\n",
    "                                   'thumbnail' :[thumbnail],\n",
    "                                   'video_name':[video_name],\n",
    "                                   'video_length':[video_length],\n",
    "                                   'upload_date':[upload_date],\n",
    "                                   'hits' :[hits],\n",
    "                                   'likes_num':[likes_num],\n",
    "                                   'dislikes_num':[dislikes_num],\n",
    "                                   'category':[category]})\n",
    "    \n",
    "        mungttaeng = mungttaeng.append(insert_data)\n",
    "    \n",
    "    except KeyError as e: # error뜬거는 포함 안하고 저장됨 (error 뜨는거 찾을 때 마다 그냥 넣어버리기)\n",
    "        print(k, i)\n",
    "    except AttributeError as a: \n",
    "        print(a ,i)\n",
    "    except IndexError as e:\n",
    "        print(e,i)\n",
    "    except TypeError as t:\n",
    "        print(t, i)"
   ]
  },
  {
   "cell_type": "code",
   "execution_count": 26,
   "metadata": {},
   "outputs": [
    {
     "name": "stdout",
     "output_type": "stream",
     "text": [
      "shape :  (278, 10)\n"
     ]
    }
   ],
   "source": [
    "print(\"shape : \",mungttaeng.shape)\n",
    "mungttaeng.to_csv('mungttaeng.csv', encoding='utf-8-sig')"
   ]
  },
  {
   "cell_type": "markdown",
   "metadata": {},
   "source": [
    "## 11. 김메주와 고양이들"
   ]
  },
  {
   "cell_type": "markdown",
   "metadata": {},
   "source": [
    "https://www.youtube.com/channel/UCCb6W2FU1L7j9mw14YK-9yg/videos"
   ]
  },
  {
   "cell_type": "code",
   "execution_count": 36,
   "metadata": {},
   "outputs": [],
   "source": [
    "# 원하는 유튜버 '동영상'에 들어가기 \n",
    "driver = webdriver.Chrome('@needs_for_you/chromedriver.exe')\n",
    "driver.maximize_window()\n",
    "driver.get('https://www.youtube.com/channel/UCCb6W2FU1L7j9mw14YK-9yg/videos')\n",
    "body = driver.find_element_by_tag_name('body')\n",
    "time.sleep(1.5)#브라우저 로딩시간기다려야함\n",
    "\n",
    "# 유튜브는 스크롤해야 전체를 볼 수 있음 # 전체 영상 개수에 따라 조절해야함\n",
    "endk = 110 # 5번 내림 # 500개면 한 100번정도 넉넉히 내리기 # 시험해보려고 1번만 내림\n",
    "while endk:\n",
    "    driver.find_element_by_tag_name('body').send_keys(Keys.END)\n",
    "    time.sleep(0.3)\n",
    "    endk -= 1    \n",
    "start_page = driver.page_source \n",
    "soup = BeautifulSoup(start_page,'lxml') # 전체 영상 목록의 page-source 이니 soup으로\n",
    "\n",
    "# 각 영상 페이지의 url 모음\n",
    "video_list = soup.find_all('ytd-grid-video-renderer',{'class':'style-scope ytd-grid-renderer'})\n",
    "\n",
    "maejucat_url = []\n",
    "base_url = 'http://www.youtube.com'\n",
    "for i in range(len(video_list)):\n",
    "    url = base_url+video_list[i].find('a',{'id':'thumbnail'})['href']\n",
    "    maejucat_url.append(url)"
   ]
  },
  {
   "cell_type": "code",
   "execution_count": 37,
   "metadata": {},
   "outputs": [
    {
     "data": {
      "text/plain": [
       "763"
      ]
     },
     "execution_count": 37,
     "metadata": {},
     "output_type": "execute_result"
    }
   ],
   "source": [
    "len(maejucat_url)"
   ]
  },
  {
   "cell_type": "code",
   "execution_count": 38,
   "metadata": {
    "scrolled": true
   },
   "outputs": [
    {
     "name": "stdout",
     "output_type": "stream",
     "text": [
      "'NoneType' object is not subscriptable 70\n",
      "'NoneType' object is not subscriptable 71\n",
      "'NoneType' object is not subscriptable 72\n",
      "'NoneType' object is not subscriptable 73\n",
      "'NoneType' object is not subscriptable 74\n",
      "'NoneType' object is not subscriptable 220\n",
      "'NoneType' object is not subscriptable 221\n",
      "'NoneType' object is not subscriptable 222\n",
      "'NoneType' object is not subscriptable 223\n",
      "'NoneType' object is not subscriptable 224\n",
      "'NoneType' object is not subscriptable 340\n",
      "'NoneType' object is not subscriptable 341\n",
      "'NoneType' object is not subscriptable 342\n",
      "'NoneType' object is not subscriptable 343\n",
      "'NoneType' object is not subscriptable 344\n",
      "'NoneType' object is not subscriptable 550\n",
      "'NoneType' object is not subscriptable 551\n",
      "'NoneType' object is not subscriptable 552\n",
      "'NoneType' object is not subscriptable 553\n",
      "'NoneType' object is not subscriptable 554\n",
      "'NoneType' object is not subscriptable 730\n",
      "'NoneType' object is not subscriptable 731\n",
      "'NoneType' object is not subscriptable 732\n",
      "'NoneType' object is not subscriptable 733\n",
      "'NoneType' object is not subscriptable 734\n",
      "'NoneType' object has no attribute 'text' 739\n"
     ]
    }
   ],
   "source": [
    "maejucat = pd.DataFrame({'channel_name' :[],\n",
    "                           'subscribers' : [],\n",
    "                           'thumbnail' :[],\n",
    "                           'video_name':[],\n",
    "                           'video_length':[],\n",
    "                           'upload_date':[],\n",
    "                           'hits':[],\n",
    "                           'likes_num':[],\n",
    "                           'dislikes_num':[],\n",
    "                           'category':[] })\n",
    "\n",
    "for i in range(0,len(maejucat_url)):\n",
    "    \n",
    "    try :# 오류생겨서 try-except 추가        \n",
    "        channel_name = soup.find('title').text\n",
    "        subscribers = soup.find('yt-formatted-string',{'id':'subscriber-count'}).text\n",
    "        thumbnail = video_list[i].find('img', {'src' : True})['src'] \n",
    "        video_name = video_list[i].find('a',{'id':'video-title'}).text\n",
    "        video_length = video_list[i].find('span', {'class':'style-scope ytd-thumbnail-overlay-time-status-renderer'}).text.split('\\n')[1]\n",
    "\n",
    "        # 각 동영상 페이지 들어가기 시작 \n",
    "        start_url = maejucat_url[i]\n",
    "        driver.get(start_url) \n",
    "        body = driver.find_element_by_tag_name('body')\n",
    "\n",
    "        time.sleep(1.5)\n",
    "\n",
    "        # 댓글까지 쭉 보려면 스크롤 # 사실상 지금 댓글은 안보니 1번만 내리기\n",
    "        endk = 1 # 5번 내림\n",
    "        while endk:\n",
    "            driver.find_element_by_tag_name('body').send_keys(Keys.END)\n",
    "            time.sleep(0.3) # 내리는 시간 간격 \n",
    "            endk -= 1    \n",
    "        page = driver.page_source \n",
    "        html = BeautifulSoup(page,'lxml') # 각 페이지의 page_source 이니 html로\n",
    "\n",
    "\n",
    "        # 각 동영상 페이지 들어가서 얻을 수 있는 정보\n",
    "        pre_upload_date = html.find('div',{'id':'date'})\n",
    "        upload_date = pre_upload_date.find('yt-formatted-string', {'class':'style-scope ytd-video-primary-info-renderer'}).text  \n",
    "        pre_hits = html.find('yt-view-count-renderer', {'class':'style-scope ytd-video-primary-info-renderer'})\n",
    "        hits = pre_hits.find('span',{'class':'view-count style-scope yt-view-count-renderer'}).text.split()[1]\n",
    "        likes_num = html.find('yt-formatted-string',{'id':'text','class':'style-scope ytd-toggle-button-renderer style-text','aria-label':re.compile('좋아요')}).text+'개'\n",
    "        dislikes_num = html.find('yt-formatted-string',{'id':'text','class':'style-scope ytd-toggle-button-renderer style-text','aria-label':re.compile('싫어요')}).text+'개'\n",
    "        category = 'pets' # 바꾸면됨\n",
    "\n",
    "\n",
    "        # 마지막에 모은 정보 합치기\n",
    "        insert_data = pd.DataFrame({'channel_name' :[channel_name],\n",
    "                                   'subscribers' : [subscribers],\n",
    "                                   'thumbnail' :[thumbnail],\n",
    "                                   'video_name':[video_name],\n",
    "                                   'video_length':[video_length],\n",
    "                                   'upload_date':[upload_date],\n",
    "                                   'hits' :[hits],\n",
    "                                   'likes_num':[likes_num],\n",
    "                                   'dislikes_num':[dislikes_num],\n",
    "                                   'category':[category]})\n",
    "    \n",
    "        maejucat = maejucat.append(insert_data)\n",
    "    \n",
    "    except KeyError as e: # error뜬거는 포함 안하고 저장됨 (error 뜨는거 찾을 때 마다 그냥 넣어버리기)\n",
    "        print(k, i)\n",
    "    except AttributeError as a: \n",
    "        print(a ,i)\n",
    "    except IndexError as e:\n",
    "        print(e,i)\n",
    "    except TypeError as t:\n",
    "        print(t, i)"
   ]
  },
  {
   "cell_type": "code",
   "execution_count": 39,
   "metadata": {},
   "outputs": [
    {
     "name": "stdout",
     "output_type": "stream",
     "text": [
      "shape :  (737, 10)\n"
     ]
    }
   ],
   "source": [
    "print(\"shape : \",maejucat.shape)\n",
    "maejucat.to_csv('maejucat.csv', encoding='utf-8-sig')"
   ]
  },
  {
   "cell_type": "markdown",
   "metadata": {},
   "source": [
    "## 12. 모찌모찌 mochi"
   ]
  },
  {
   "cell_type": "markdown",
   "metadata": {},
   "source": [
    "https://www.youtube.com/channel/UCuXmuXtdLEDjZ0G9m03iYaQ/videos"
   ]
  },
  {
   "cell_type": "code",
   "execution_count": 30,
   "metadata": {},
   "outputs": [
    {
     "data": {
      "text/plain": [
       "273"
      ]
     },
     "execution_count": 30,
     "metadata": {},
     "output_type": "execute_result"
    }
   ],
   "source": [
    "# 원하는 유튜버 '동영상'에 들어가기 \n",
    "driver = webdriver.Chrome('@needs_for_you/chromedriver.exe')\n",
    "driver.maximize_window()\n",
    "driver.get('https://www.youtube.com/channel/UCuXmuXtdLEDjZ0G9m03iYaQ/videos')\n",
    "body = driver.find_element_by_tag_name('body')\n",
    "time.sleep(1.5)#브라우저 로딩시간기다려야함\n",
    "\n",
    "# 유튜브는 스크롤해야 전체를 볼 수 있음 # 전체 영상 개수에 따라 조절해야함\n",
    "endk = 110 # 5번 내림 # 500개면 한 100번정도 넉넉히 내리기 # 시험해보려고 1번만 내림\n",
    "while endk:\n",
    "    driver.find_element_by_tag_name('body').send_keys(Keys.END)\n",
    "    time.sleep(0.3)\n",
    "    endk -= 1    \n",
    "start_page = driver.page_source \n",
    "soup = BeautifulSoup(start_page,'lxml') # 전체 영상 목록의 page-source 이니 soup으로\n",
    "\n",
    "# 각 영상 페이지의 url 모음\n",
    "video_list = soup.find_all('ytd-grid-video-renderer',{'class':'style-scope ytd-grid-renderer'})\n",
    "\n",
    "mochi_url = []\n",
    "base_url = 'http://www.youtube.com'\n",
    "for i in range(len(video_list)):\n",
    "    url = base_url+video_list[i].find('a',{'id':'thumbnail'})['href']\n",
    "    mochi_url.append(url)\n",
    "\n",
    "# 동영상 개수 확인    \n",
    "len(mochi_url)"
   ]
  },
  {
   "cell_type": "code",
   "execution_count": 31,
   "metadata": {},
   "outputs": [],
   "source": [
    "mochi = pd.DataFrame({'channel_name' :[],\n",
    "                           'subscribers' : [],\n",
    "                           'thumbnail' :[],\n",
    "                           'video_name':[],\n",
    "                           'video_length':[],\n",
    "                           'upload_date':[],\n",
    "                           'hits':[],\n",
    "                           'likes_num':[],\n",
    "                           'dislikes_num':[],\n",
    "                           'category':[] })\n",
    "\n",
    "for i in range(0,len(mochi_url)):\n",
    "    \n",
    "    try :# 오류생겨서 try-except 추가        \n",
    "        channel_name = soup.find('title').text\n",
    "        subscribers = soup.find('yt-formatted-string',{'id':'subscriber-count'}).text\n",
    "        thumbnail = video_list[i].find('img', {'src' : True})['src'] \n",
    "        video_name = video_list[i].find('a',{'id':'video-title'}).text\n",
    "        video_length = video_list[i].find('span', {'class':'style-scope ytd-thumbnail-overlay-time-status-renderer'}).text.split('\\n')[1]\n",
    "\n",
    "        # 각 동영상 페이지 들어가기 시작 \n",
    "        start_url = mochi_url[i]\n",
    "        driver.get(start_url) \n",
    "        body = driver.find_element_by_tag_name('body')\n",
    "\n",
    "        time.sleep(1.5)\n",
    "\n",
    "        # 댓글까지 쭉 보려면 스크롤 # 사실상 지금 댓글은 안보니 1번만 내리기\n",
    "        endk = 1 # 5번 내림\n",
    "        while endk:\n",
    "            driver.find_element_by_tag_name('body').send_keys(Keys.END)\n",
    "            time.sleep(0.3) # 내리는 시간 간격 \n",
    "            endk -= 1    \n",
    "        page = driver.page_source \n",
    "        html = BeautifulSoup(page,'lxml') # 각 페이지의 page_source 이니 html로\n",
    "\n",
    "\n",
    "        # 각 동영상 페이지 들어가서 얻을 수 있는 정보\n",
    "        pre_upload_date = html.find('div',{'id':'date'})\n",
    "        upload_date = pre_upload_date.find('yt-formatted-string', {'class':'style-scope ytd-video-primary-info-renderer'}).text  \n",
    "        pre_hits = html.find('yt-view-count-renderer', {'class':'style-scope ytd-video-primary-info-renderer'})\n",
    "        hits = pre_hits.find('span',{'class':'view-count style-scope yt-view-count-renderer'}).text.split()[1]\n",
    "        likes_num = html.find('yt-formatted-string',{'id':'text','class':'style-scope ytd-toggle-button-renderer style-text','aria-label':re.compile('좋아요')}).text+'개'\n",
    "        dislikes_num = html.find('yt-formatted-string',{'id':'text','class':'style-scope ytd-toggle-button-renderer style-text','aria-label':re.compile('싫어요')}).text+'개'\n",
    "        category = 'pets' # 바꾸면됨\n",
    "\n",
    "\n",
    "        # 마지막에 모은 정보 합치기\n",
    "        insert_data = pd.DataFrame({'channel_name' :[channel_name],\n",
    "                                   'subscribers' : [subscribers],\n",
    "                                   'thumbnail' :[thumbnail],\n",
    "                                   'video_name':[video_name],\n",
    "                                   'video_length':[video_length],\n",
    "                                   'upload_date':[upload_date],\n",
    "                                   'hits' :[hits],\n",
    "                                   'likes_num':[likes_num],\n",
    "                                   'dislikes_num':[dislikes_num],\n",
    "                                   'category':[category]})\n",
    "    \n",
    "        mochi = mochi.append(insert_data)\n",
    "    \n",
    "    except KeyError as e: # error뜬거는 포함 안하고 저장됨 (error 뜨는거 찾을 때 마다 그냥 넣어버리기)\n",
    "        print(k, i)\n",
    "    except AttributeError as a: \n",
    "        print(a ,i)\n",
    "    except IndexError as e:\n",
    "        print(e,i)\n",
    "    except TypeError as t:\n",
    "        print(t, i)"
   ]
  },
  {
   "cell_type": "code",
   "execution_count": 32,
   "metadata": {},
   "outputs": [
    {
     "name": "stdout",
     "output_type": "stream",
     "text": [
      "shape :  (273, 10)\n"
     ]
    }
   ],
   "source": [
    "print(\"shape : \",mochi.shape)\n",
    "mochi.to_csv('mochi.csv', encoding='utf-8-sig')"
   ]
  },
  {
   "cell_type": "markdown",
   "metadata": {},
   "source": [
    "## 13. 속삭이는몽자"
   ]
  },
  {
   "cell_type": "markdown",
   "metadata": {},
   "source": [
    "https://www.youtube.com/user/CHUCHU7325/videos"
   ]
  },
  {
   "cell_type": "code",
   "execution_count": 33,
   "metadata": {},
   "outputs": [
    {
     "data": {
      "text/plain": [
       "375"
      ]
     },
     "execution_count": 33,
     "metadata": {},
     "output_type": "execute_result"
    }
   ],
   "source": [
    "# 원하는 유튜버 '동영상'에 들어가기 \n",
    "driver = webdriver.Chrome('@needs_for_you/chromedriver.exe')\n",
    "driver.maximize_window()\n",
    "driver.get('https://www.youtube.com/user/CHUCHU7325/videos')\n",
    "body = driver.find_element_by_tag_name('body')\n",
    "time.sleep(1.5)#브라우저 로딩시간기다려야함\n",
    "\n",
    "# 유튜브는 스크롤해야 전체를 볼 수 있음 # 전체 영상 개수에 따라 조절해야함\n",
    "endk = 110 # 5번 내림 # 500개면 한 100번정도 넉넉히 내리기 # 시험해보려고 1번만 내림\n",
    "while endk:\n",
    "    driver.find_element_by_tag_name('body').send_keys(Keys.END)\n",
    "    time.sleep(0.3)\n",
    "    endk -= 1    \n",
    "start_page = driver.page_source \n",
    "soup = BeautifulSoup(start_page,'lxml') # 전체 영상 목록의 page-source 이니 soup으로\n",
    "\n",
    "# 각 영상 페이지의 url 모음\n",
    "video_list = soup.find_all('ytd-grid-video-renderer',{'class':'style-scope ytd-grid-renderer'})\n",
    "\n",
    "mongja_url = []\n",
    "base_url = 'http://www.youtube.com'\n",
    "for i in range(len(video_list)):\n",
    "    url = base_url+video_list[i].find('a',{'id':'thumbnail'})['href']\n",
    "    mongja_url.append(url)\n",
    "\n",
    "# 동영상 개수 확인    \n",
    "len(mongja_url)"
   ]
  },
  {
   "cell_type": "code",
   "execution_count": 34,
   "metadata": {},
   "outputs": [
    {
     "name": "stdout",
     "output_type": "stream",
     "text": [
      "'NoneType' object is not subscriptable 72\n",
      "'NoneType' object is not subscriptable 73\n",
      "'NoneType' object is not subscriptable 74\n",
      "'NoneType' object is not subscriptable 132\n",
      "'NoneType' object is not subscriptable 133\n",
      "'NoneType' object is not subscriptable 134\n",
      "'NoneType' object is not subscriptable 162\n",
      "'NoneType' object is not subscriptable 163\n",
      "'NoneType' object is not subscriptable 164\n",
      "'NoneType' object is not subscriptable 192\n",
      "'NoneType' object is not subscriptable 193\n",
      "'NoneType' object is not subscriptable 194\n"
     ]
    }
   ],
   "source": [
    "mongja = pd.DataFrame({'channel_name' :[],\n",
    "                           'subscribers' : [],\n",
    "                           'thumbnail' :[],\n",
    "                           'video_name':[],\n",
    "                           'video_length':[],\n",
    "                           'upload_date':[],\n",
    "                           'hits':[],\n",
    "                           'likes_num':[],\n",
    "                           'dislikes_num':[],\n",
    "                           'category':[] })\n",
    "\n",
    "for i in range(0,len(mongja_url)):\n",
    "    \n",
    "    try :# 오류생겨서 try-except 추가        \n",
    "        channel_name = soup.find('title').text\n",
    "        subscribers = soup.find('yt-formatted-string',{'id':'subscriber-count'}).text\n",
    "        thumbnail = video_list[i].find('img', {'src' : True})['src'] \n",
    "        video_name = video_list[i].find('a',{'id':'video-title'}).text\n",
    "        video_length = video_list[i].find('span', {'class':'style-scope ytd-thumbnail-overlay-time-status-renderer'}).text.split('\\n')[1]\n",
    "\n",
    "        # 각 동영상 페이지 들어가기 시작 \n",
    "        start_url = mongja_url[i]\n",
    "        driver.get(start_url) \n",
    "        body = driver.find_element_by_tag_name('body')\n",
    "\n",
    "        time.sleep(1.5)\n",
    "\n",
    "        # 댓글까지 쭉 보려면 스크롤 # 사실상 지금 댓글은 안보니 1번만 내리기\n",
    "        endk = 1 # 5번 내림\n",
    "        while endk:\n",
    "            driver.find_element_by_tag_name('body').send_keys(Keys.END)\n",
    "            time.sleep(0.3) # 내리는 시간 간격 \n",
    "            endk -= 1    \n",
    "        page = driver.page_source \n",
    "        html = BeautifulSoup(page,'lxml') # 각 페이지의 page_source 이니 html로\n",
    "\n",
    "\n",
    "        # 각 동영상 페이지 들어가서 얻을 수 있는 정보\n",
    "        pre_upload_date = html.find('div',{'id':'date'})\n",
    "        upload_date = pre_upload_date.find('yt-formatted-string', {'class':'style-scope ytd-video-primary-info-renderer'}).text  \n",
    "        pre_hits = html.find('yt-view-count-renderer', {'class':'style-scope ytd-video-primary-info-renderer'})\n",
    "        hits = pre_hits.find('span',{'class':'view-count style-scope yt-view-count-renderer'}).text.split()[1]\n",
    "        likes_num = html.find('yt-formatted-string',{'id':'text','class':'style-scope ytd-toggle-button-renderer style-text','aria-label':re.compile('좋아요')}).text+'개'\n",
    "        dislikes_num = html.find('yt-formatted-string',{'id':'text','class':'style-scope ytd-toggle-button-renderer style-text','aria-label':re.compile('싫어요')}).text+'개'\n",
    "        category = 'pets' # 바꾸면됨\n",
    "\n",
    "\n",
    "        # 마지막에 모은 정보 합치기\n",
    "        insert_data = pd.DataFrame({'channel_name' :[channel_name],\n",
    "                                   'subscribers' : [subscribers],\n",
    "                                   'thumbnail' :[thumbnail],\n",
    "                                   'video_name':[video_name],\n",
    "                                   'video_length':[video_length],\n",
    "                                   'upload_date':[upload_date],\n",
    "                                   'hits' :[hits],\n",
    "                                   'likes_num':[likes_num],\n",
    "                                   'dislikes_num':[dislikes_num],\n",
    "                                   'category':[category]})\n",
    "    \n",
    "        mongja = mongja.append(insert_data)\n",
    "    \n",
    "    except KeyError as e: # error뜬거는 포함 안하고 저장됨 (error 뜨는거 찾을 때 마다 그냥 넣어버리기)\n",
    "        print(k, i)\n",
    "    except AttributeError as a: \n",
    "        print(a ,i)\n",
    "    except IndexError as e:\n",
    "        print(e,i)\n",
    "    except TypeError as t:\n",
    "        print(t, i)"
   ]
  },
  {
   "cell_type": "code",
   "execution_count": 35,
   "metadata": {},
   "outputs": [
    {
     "name": "stdout",
     "output_type": "stream",
     "text": [
      "shape :  (363, 10)\n"
     ]
    }
   ],
   "source": [
    "print(\"shape : \",mongja.shape)\n",
    "mongja.to_csv('mongja.csv', encoding='utf-8-sig')"
   ]
  },
  {
   "cell_type": "code",
   "execution_count": null,
   "metadata": {},
   "outputs": [],
   "source": []
  }
 ],
 "metadata": {
  "kernelspec": {
   "display_name": "Python 3",
   "language": "python",
   "name": "python3"
  },
  "language_info": {
   "codemirror_mode": {
    "name": "ipython",
    "version": 3
   },
   "file_extension": ".py",
   "mimetype": "text/x-python",
   "name": "python",
   "nbconvert_exporter": "python",
   "pygments_lexer": "ipython3",
   "version": "3.7.4"
  }
 },
 "nbformat": 4,
 "nbformat_minor": 2
}
